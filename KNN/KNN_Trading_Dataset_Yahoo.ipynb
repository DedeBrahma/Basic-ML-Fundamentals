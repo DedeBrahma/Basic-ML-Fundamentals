{
  "nbformat": 4,
  "nbformat_minor": 0,
  "metadata": {
    "colab": {
      "name": "KNN - Trading Dataset Yahoo.ipynb",
      "provenance": [],
      "collapsed_sections": [],
      "authorship_tag": "ABX9TyNupt/2ONlQ13qPMPEZK0Uy"
    },
    "kernelspec": {
      "name": "python3",
      "display_name": "Python 3"
    }
  },
  "cells": [
    {
      "cell_type": "markdown",
      "metadata": {
        "id": "OIAk8rHR06Oa",
        "colab_type": "text"
      },
      "source": [
        "Reference =\n",
        "\n",
        "https://blog.quantinsti.com/machine-learning-k-nearest-neighbors-knn-algorithm-python/"
      ]
    },
    {
      "cell_type": "markdown",
      "metadata": {
        "id": "c2JsucvY1AqL",
        "colab_type": "text"
      },
      "source": [
        "**Import the Libraries**"
      ]
    },
    {
      "cell_type": "code",
      "metadata": {
        "id": "57SJRK4I0rWy",
        "colab_type": "code",
        "colab": {}
      },
      "source": [
        "import numpy as np\n",
        "import pandas as pd\n",
        "import matplotlib.pyplot as plt\n",
        "from sklearn.neighbors import KNeighborsClassifier\n",
        "from sklearn.metrics import accuracy_score\n",
        "from pandas_datareader import data as pdr\n",
        "import fix_yahoo_finance as yf"
      ],
      "execution_count": 0,
      "outputs": []
    },
    {
      "cell_type": "markdown",
      "metadata": {
        "id": "u_YwvfFA15CK",
        "colab_type": "text"
      },
      "source": [
        "# Fetch the Data"
      ]
    },
    {
      "cell_type": "code",
      "metadata": {
        "id": "KGpX2iWc1jhJ",
        "colab_type": "code",
        "outputId": "d1bdbf2f-5c20-4e04-ac51-c52ea27b267f",
        "colab": {
          "base_uri": "https://localhost:8080/",
          "height": 235
        }
      },
      "source": [
        "df = pdr.get_data_yahoo('SPY', '2015-01-01', '2020-01-01')\n",
        "df = df.dropna()\n",
        "df = df[['Open', 'High', 'Low', 'Close']]\n",
        "df.head()"
      ],
      "execution_count": 0,
      "outputs": [
        {
          "output_type": "execute_result",
          "data": {
            "text/html": [
              "<div>\n",
              "<style scoped>\n",
              "    .dataframe tbody tr th:only-of-type {\n",
              "        vertical-align: middle;\n",
              "    }\n",
              "\n",
              "    .dataframe tbody tr th {\n",
              "        vertical-align: top;\n",
              "    }\n",
              "\n",
              "    .dataframe thead th {\n",
              "        text-align: right;\n",
              "    }\n",
              "</style>\n",
              "<table border=\"1\" class=\"dataframe\">\n",
              "  <thead>\n",
              "    <tr style=\"text-align: right;\">\n",
              "      <th></th>\n",
              "      <th>Open</th>\n",
              "      <th>High</th>\n",
              "      <th>Low</th>\n",
              "      <th>Close</th>\n",
              "    </tr>\n",
              "    <tr>\n",
              "      <th>Date</th>\n",
              "      <th></th>\n",
              "      <th></th>\n",
              "      <th></th>\n",
              "      <th></th>\n",
              "    </tr>\n",
              "  </thead>\n",
              "  <tbody>\n",
              "    <tr>\n",
              "      <th>2015-01-02</th>\n",
              "      <td>206.380005</td>\n",
              "      <td>206.880005</td>\n",
              "      <td>204.179993</td>\n",
              "      <td>205.429993</td>\n",
              "    </tr>\n",
              "    <tr>\n",
              "      <th>2015-01-05</th>\n",
              "      <td>204.169998</td>\n",
              "      <td>204.369995</td>\n",
              "      <td>201.350006</td>\n",
              "      <td>201.720001</td>\n",
              "    </tr>\n",
              "    <tr>\n",
              "      <th>2015-01-06</th>\n",
              "      <td>202.089996</td>\n",
              "      <td>202.720001</td>\n",
              "      <td>198.860001</td>\n",
              "      <td>199.820007</td>\n",
              "    </tr>\n",
              "    <tr>\n",
              "      <th>2015-01-07</th>\n",
              "      <td>201.419998</td>\n",
              "      <td>202.720001</td>\n",
              "      <td>200.880005</td>\n",
              "      <td>202.309998</td>\n",
              "    </tr>\n",
              "    <tr>\n",
              "      <th>2015-01-08</th>\n",
              "      <td>204.009995</td>\n",
              "      <td>206.160004</td>\n",
              "      <td>203.990005</td>\n",
              "      <td>205.899994</td>\n",
              "    </tr>\n",
              "  </tbody>\n",
              "</table>\n",
              "</div>"
            ],
            "text/plain": [
              "                  Open        High         Low       Close\n",
              "Date                                                      \n",
              "2015-01-02  206.380005  206.880005  204.179993  205.429993\n",
              "2015-01-05  204.169998  204.369995  201.350006  201.720001\n",
              "2015-01-06  202.089996  202.720001  198.860001  199.820007\n",
              "2015-01-07  201.419998  202.720001  200.880005  202.309998\n",
              "2015-01-08  204.009995  206.160004  203.990005  205.899994"
            ]
          },
          "metadata": {
            "tags": []
          },
          "execution_count": 2
        }
      ]
    },
    {
      "cell_type": "markdown",
      "metadata": {
        "id": "JMSXnLGy59xf",
        "colab_type": "text"
      },
      "source": [
        "# Define Predictor Variable & Target Variables"
      ]
    },
    {
      "cell_type": "code",
      "metadata": {
        "id": "Zo--FbHQ6ADo",
        "colab_type": "code",
        "outputId": "8d2d63ae-25ea-4cb4-e296-51e7e66ac15c",
        "colab": {
          "base_uri": "https://localhost:8080/",
          "height": 235
        }
      },
      "source": [
        "df['Open-Close'] = df.Open - df.Close\n",
        "df['High-Low'] = df.High - df.Low\n",
        "df = df.dropna()\n",
        "X = df[['Open-Close', 'High-Low']]\n",
        "X.head()"
      ],
      "execution_count": 0,
      "outputs": [
        {
          "output_type": "execute_result",
          "data": {
            "text/html": [
              "<div>\n",
              "<style scoped>\n",
              "    .dataframe tbody tr th:only-of-type {\n",
              "        vertical-align: middle;\n",
              "    }\n",
              "\n",
              "    .dataframe tbody tr th {\n",
              "        vertical-align: top;\n",
              "    }\n",
              "\n",
              "    .dataframe thead th {\n",
              "        text-align: right;\n",
              "    }\n",
              "</style>\n",
              "<table border=\"1\" class=\"dataframe\">\n",
              "  <thead>\n",
              "    <tr style=\"text-align: right;\">\n",
              "      <th></th>\n",
              "      <th>Open-Close</th>\n",
              "      <th>High-Low</th>\n",
              "    </tr>\n",
              "    <tr>\n",
              "      <th>Date</th>\n",
              "      <th></th>\n",
              "      <th></th>\n",
              "    </tr>\n",
              "  </thead>\n",
              "  <tbody>\n",
              "    <tr>\n",
              "      <th>2015-01-02</th>\n",
              "      <td>0.950012</td>\n",
              "      <td>2.700012</td>\n",
              "    </tr>\n",
              "    <tr>\n",
              "      <th>2015-01-05</th>\n",
              "      <td>2.449997</td>\n",
              "      <td>3.019989</td>\n",
              "    </tr>\n",
              "    <tr>\n",
              "      <th>2015-01-06</th>\n",
              "      <td>2.269989</td>\n",
              "      <td>3.860001</td>\n",
              "    </tr>\n",
              "    <tr>\n",
              "      <th>2015-01-07</th>\n",
              "      <td>-0.889999</td>\n",
              "      <td>1.839996</td>\n",
              "    </tr>\n",
              "    <tr>\n",
              "      <th>2015-01-08</th>\n",
              "      <td>-1.889999</td>\n",
              "      <td>2.169998</td>\n",
              "    </tr>\n",
              "  </tbody>\n",
              "</table>\n",
              "</div>"
            ],
            "text/plain": [
              "            Open-Close  High-Low\n",
              "Date                            \n",
              "2015-01-02    0.950012  2.700012\n",
              "2015-01-05    2.449997  3.019989\n",
              "2015-01-06    2.269989  3.860001\n",
              "2015-01-07   -0.889999  1.839996\n",
              "2015-01-08   -1.889999  2.169998"
            ]
          },
          "metadata": {
            "tags": []
          },
          "execution_count": 3
        }
      ]
    },
    {
      "cell_type": "code",
      "metadata": {
        "id": "Vfqc8Vxo6lC0",
        "colab_type": "code",
        "colab": {}
      },
      "source": [
        "Y = np.where(df['Close'].shift(-1) > df['Close'],1,-1)"
      ],
      "execution_count": 0,
      "outputs": []
    },
    {
      "cell_type": "markdown",
      "metadata": {
        "id": "VtMBvjhw66_A",
        "colab_type": "text"
      },
      "source": [
        "# Split the Dataset & Instantiate KNN Model"
      ]
    },
    {
      "cell_type": "markdown",
      "metadata": {
        "id": "ivHuySgT6_9b",
        "colab_type": "text"
      },
      "source": [
        "Now, we will split the dataset into training dataset and test dataset. We will use 70% of our data to train and the rest 30% to test. To do this, we will create a split parameter which will divide the dataframe in a 70-30 ratio. You can change the split percentage as per choice, but it is advisable to give at least 60% data as train data for good results"
      ]
    },
    {
      "cell_type": "code",
      "metadata": {
        "id": "rmhz6hi76xCM",
        "colab_type": "code",
        "colab": {}
      },
      "source": [
        "split_percentage = 0.7\n",
        "split = int(split_percentage*len(df))\n",
        "X_train = X[:split]\n",
        "Y_train = Y[:split]\n",
        "X_test = X[split:]\n",
        "Y_test = Y[split:]"
      ],
      "execution_count": 0,
      "outputs": []
    },
    {
      "cell_type": "code",
      "metadata": {
        "id": "vfNzANx27UWu",
        "colab_type": "code",
        "outputId": "9cd6c5dd-7770-43fa-c88c-6c500e89945e",
        "colab": {
          "base_uri": "https://localhost:8080/",
          "height": 51
        }
      },
      "source": [
        "knn = KNeighborsClassifier(n_neighbors=15)\n",
        "knn.fit(X_train, Y_train)\n",
        "accuracy_train = accuracy_score(Y_train, knn.predict(X_train))\n",
        "accuracy_test = accuracy_score(Y_test, knn.predict(X_test))\n",
        "print('Train_data Accuracy: %.2f' %accuracy_train)\n",
        "print('Test_data Accuracy: %.2f' %accuracy_test)"
      ],
      "execution_count": 0,
      "outputs": [
        {
          "output_type": "stream",
          "text": [
            "Train_data Accuracy: 0.63\n",
            "Test_data Accuracy: 0.54\n"
          ],
          "name": "stdout"
        }
      ]
    },
    {
      "cell_type": "markdown",
      "metadata": {
        "id": "i06gxbuC8NKy",
        "colab_type": "text"
      },
      "source": [
        "# Create trading strategy using the model"
      ]
    },
    {
      "cell_type": "code",
      "metadata": {
        "id": "_DomQ6db8ObR",
        "colab_type": "code",
        "outputId": "9b7aeb4d-b126-4120-eb5b-662ac68679de",
        "colab": {
          "base_uri": "https://localhost:8080/",
          "height": 320
        }
      },
      "source": [
        "df['Predicted_Signal'] = knn.predict(X)\n",
        "df['SPY_Returns'] = np.log(df['Close']/df['Close'].shift(1))\n",
        "Cumulative_SPY_Returns = df[split:]['SPY_Returns'].cumsum()*100\n",
        "df['Strategy_Returns'] = df['SPY_Returns'] * df['Predicted_Signal'].shift(1)\n",
        "cum_Strategy_Returns = df[split:]['Strategy_Returns'].cumsum()*100\n",
        "plt.figure(figsize=(10,5))\n",
        "plt.plot(Cumulative_SPY_Returns, color='r', label=\"SPY Returns\")\n",
        "plt.plot(cum_Strategy_Returns, color='g', label='Strategy Returns')\n",
        "plt.legend()\n",
        "plt.show()"
      ],
      "execution_count": 0,
      "outputs": [
        {
          "output_type": "display_data",
          "data": {
            "image/png": "[encoded data removed]",
            "text/plain": [
              "<Figure size 720x360 with 1 Axes>"
            ]
          },
          "metadata": {
            "tags": []
          }
        }
      ]
    },
    {
      "cell_type": "markdown",
      "metadata": {
        "id": "MkZ6cvCP-BZ_",
        "colab_type": "text"
      },
      "source": [
        "# Sharpe Ratio"
      ]
    },
    {
      "cell_type": "code",
      "metadata": {
        "id": "3bQZkBsd99iS",
        "colab_type": "code",
        "outputId": "301d048a-ddfd-4669-93b1-c4e3d9612c1d",
        "colab": {
          "base_uri": "https://localhost:8080/",
          "height": 34
        }
      },
      "source": [
        "Std = cum_Strategy_Returns.std()\n",
        "Sharpe = (cum_Strategy_Returns-Cumulative_SPY_Returns)/Std\n",
        "Sharpe = Sharpe.mean()\n",
        "print('Sharpe ratio: %.2f'%Sharpe)"
      ],
      "execution_count": 0,
      "outputs": [
        {
          "output_type": "stream",
          "text": [
            "Sharpe ratio: -1.42\n"
          ],
          "name": "stdout"
        }
      ]
    }
  ]
}