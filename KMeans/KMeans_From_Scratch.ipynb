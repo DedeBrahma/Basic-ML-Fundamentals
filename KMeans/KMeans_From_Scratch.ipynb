{
  "nbformat": 4,
  "nbformat_minor": 0,
  "metadata": {
    "colab": {
      "name": "KMeans From Scratch.ipynb",
      "provenance": [],
      "collapsed_sections": [
        "L_cks7o8-f3r"
      ],
      "toc_visible": true,
      "authorship_tag": "ABX9TyMQJn7/V8J5fAcYCOgiX+gr"
    },
    "kernelspec": {
      "name": "python3",
      "display_name": "Python 3"
    }
  },
  "cells": [
    {
      "cell_type": "markdown",
      "metadata": {
        "id": "L_cks7o8-f3r",
        "colab_type": "text"
      },
      "source": [
        "# KMeans dengan Numpy"
      ]
    },
    {
      "cell_type": "markdown",
      "metadata": {
        "id": "F6yIkTAf-mBL",
        "colab_type": "text"
      },
      "source": [
        "Reference : \n",
        "\n",
        "https://pythonprogramming.net/k-means-from-scratch-machine-learning-tutorial/"
      ]
    },
    {
      "cell_type": "markdown",
      "metadata": {
        "id": "wGK9ndzS-qrB",
        "colab_type": "text"
      },
      "source": [
        "**Step 1**\n",
        "\n",
        "Inisialisasi jumlah k cluster"
      ]
    },
    {
      "cell_type": "markdown",
      "metadata": {
        "id": "np2Vz4HR-80V",
        "colab_type": "text"
      },
      "source": [
        "**Step 2**\n",
        "\n",
        "Pilih K secara acak untuk nilai centroid"
      ]
    },
    {
      "cell_type": "markdown",
      "metadata": {
        "id": "YsFDZAEk_LjG",
        "colab_type": "text"
      },
      "source": [
        "**Step 3**\n",
        "\n",
        "Hitung jarak untuk setiap centroid"
      ]
    },
    {
      "cell_type": "markdown",
      "metadata": {
        "id": "5g3emulR_SW1",
        "colab_type": "text"
      },
      "source": [
        "**Step 4**\n",
        "\n",
        "Klasifikasi hasil dari centroid cluster"
      ]
    },
    {
      "cell_type": "markdown",
      "metadata": {
        "id": "MRtQkl5y_aYz",
        "colab_type": "text"
      },
      "source": [
        "**Step 5**\n",
        "\n",
        "Ambil nilai mean pada setiap class untuk membuat centroid baru"
      ]
    },
    {
      "cell_type": "markdown",
      "metadata": {
        "id": "FY2nuDrC_rV1",
        "colab_type": "text"
      },
      "source": [
        "**Step 5**\n",
        "\n",
        "Mengulangi langkah 3-5 hingga convegence"
      ]
    },
    {
      "cell_type": "code",
      "metadata": {
        "id": "oVe50qll-oVk",
        "colab_type": "code",
        "colab": {}
      },
      "source": [
        "import matplotlib.pyplot as plt\n",
        "from matplotlib import style\n",
        "style.use('ggplot')\n",
        "import numpy as np"
      ],
      "execution_count": 0,
      "outputs": []
    },
    {
      "cell_type": "code",
      "metadata": {
        "id": "VwQMCy1p_5yH",
        "colab_type": "code",
        "colab": {}
      },
      "source": [
        "# Membuat variabel data array matriks dengan numpy\n",
        "X = np.array([[1, 2],\n",
        "              [1.5, 1.8],\n",
        "              [5, 8 ],\n",
        "              [8, 8],\n",
        "              [1, 0.6],\n",
        "              [9,11],\n",
        "              [1,3],\n",
        "              [8,9],\n",
        "              [0,3],\n",
        "              [5,4],\n",
        "              [6,4],])"
      ],
      "execution_count": 0,
      "outputs": []
    },
    {
      "cell_type": "code",
      "metadata": {
        "id": "uRfRyPmlAAPw",
        "colab_type": "code",
        "outputId": "e5761f29-6e3c-41cc-b417-e0942ecb95dd",
        "colab": {
          "base_uri": "https://localhost:8080/",
          "height": 265
        }
      },
      "source": [
        "plt.scatter(X[:,0], X[:,1], s=150) # s=150 -> digunakan untuk ukuran point pada titik value\n",
        "plt.show()"
      ],
      "execution_count": 0,
      "outputs": [
        {
          "output_type": "display_data",
          "data": {
            "image/png": "[encoded data removed]",
            "text/plain": [
              "<Figure size 432x288 with 1 Axes>"
            ]
          },
          "metadata": {
            "tags": []
          }
        }
      ]
    },
    {
      "cell_type": "code",
      "metadata": {
        "id": "nbaXdSHPACkN",
        "colab_type": "code",
        "colab": {}
      },
      "source": [
        "colors = 10*[\"g\",\"r\",\"c\",\"b\",\"k\"]"
      ],
      "execution_count": 0,
      "outputs": []
    },
    {
      "cell_type": "code",
      "metadata": {
        "id": "A1qYSbYjAFht",
        "colab_type": "code",
        "colab": {}
      },
      "source": [
        "class K_Means:\n",
        "    # fungsi untuk inisialisasi jumlah k, tolerance convergence, dan maximum iterasi\n",
        "    def __init__(self, k=2, tol=0.001, max_iter=300):\n",
        "        self.k = k\n",
        "        self.tol = tol\n",
        "        self.max_iter = max_iter\n",
        "\n",
        "    # fungsi untuk training data\n",
        "    def fit(self,data):\n",
        "        self.centroids = {} # variabel untuk menampung data centroid dengan inisialisasi awal object kosong.\n",
        "\n",
        "        # fungsi perulangan untuk setiap k\n",
        "        for i in range(self.k):\n",
        "            self.centroids[i] = data[i] # setiap item data pada X akan diinisialisasi pada setiap item centroid\n",
        "\n",
        "        # perualangan untuk ietrasi\n",
        "        for i in range(self.max_iter):\n",
        "            self.classifications = {} # variabel untuk klasifikasi\n",
        "\n",
        "            for i in range(self.k):\n",
        "                self.classifications[i] = [] # inisialisasi variabel untuk setiap item klasifikasi adalah array kosong\n",
        "\n",
        "            # perulangan untuk menghitung jarak semua data dengan centroid yang terbentuk\n",
        "            for featureset in data:\n",
        "                distances = [np.linalg.norm(featureset-self.centroids[centroid]) for centroid in self.centroids]\n",
        "                classification = distances.index(min(distances))\n",
        "                self.classifications[classification].append(featureset)\n",
        "\n",
        "            prev_centroids = dict(self.centroids)\n",
        "\n",
        "            # perulangan untuk membentuk klasifikasi centroid\n",
        "            for classification in self.classifications:\n",
        "                self.centroids[classification] = np.average(self.classifications[classification],axis=0)\n",
        "\n",
        "            optimized = True\n",
        "\n",
        "            # Mengambil nilai centroid terakhir dan lakukan perhitungan untuk mencari nilai centroid baru \n",
        "            for c in self.centroids:\n",
        "                original_centroid = prev_centroids[c]\n",
        "                current_centroid = self.centroids[c]\n",
        "                if np.sum((current_centroid-original_centroid)/original_centroid*100.0) > self.tol:\n",
        "                    print(np.sum((current_centroid-original_centroid)/original_centroid*100.0))\n",
        "                    optimized = False\n",
        "\n",
        "            if optimized:\n",
        "                break\n",
        "\n",
        "    # fungsi untuk melakukan prediksi data\n",
        "    def predict(self,data):\n",
        "        distances = [np.linalg.norm(data-self.centroids[centroid]) for centroid in self.centroids]\n",
        "        classification = distances.index(min(distances))\n",
        "        return classification"
      ],
      "execution_count": 0,
      "outputs": []
    },
    {
      "cell_type": "code",
      "metadata": {
        "id": "X9G9oOdHAuJg",
        "colab_type": "code",
        "outputId": "b10d5fca-dead-4119-91d8-235dc2a01367",
        "colab": {
          "base_uri": "https://localhost:8080/",
          "height": 68
        }
      },
      "source": [
        "# uji training dengan data X\n",
        "clf = K_Means()\n",
        "clf.fit(X)"
      ],
      "execution_count": 0,
      "outputs": [
        {
          "output_type": "stream",
          "text": [
            "484.7222222222223\n",
            "13.0\n",
            "52.10727969348656\n"
          ],
          "name": "stdout"
        }
      ]
    },
    {
      "cell_type": "code",
      "metadata": {
        "id": "34R4nHqPA0sG",
        "colab_type": "code",
        "outputId": "3b1b5704-2bd3-4063-819e-a1334adc2d08",
        "colab": {
          "base_uri": "https://localhost:8080/",
          "height": 265
        }
      },
      "source": [
        "# Visualisasikan clustering yang terbentuk\n",
        "for centroid in clf.centroids:\n",
        "    plt.scatter(clf.centroids[centroid][0], clf.centroids[centroid][1],\n",
        "                marker=\"o\", color=\"k\", s=150, linewidths=5)\n",
        "\n",
        "for classification in clf.classifications:\n",
        "    color = colors[classification]\n",
        "    for featureset in clf.classifications[classification]:\n",
        "        plt.scatter(featureset[0], featureset[1], marker=\"x\", color=color, s=150, linewidths=5)\n",
        "\n",
        "\n",
        "plt.show()"
      ],
      "execution_count": 0,
      "outputs": [
        {
          "output_type": "display_data",
          "data": {
            "image/png": "[encoded data removed]",
            "text/plain": [
              "<Figure size 432x288 with 1 Axes>"
            ]
          },
          "metadata": {
            "tags": []
          }
        }
      ]
    },
    {
      "cell_type": "code",
      "metadata": {
        "id": "lZ6Ug6DiBKAc",
        "colab_type": "code",
        "outputId": "414a0b71-4348-4881-9cf4-766b4ee010c4",
        "colab": {
          "base_uri": "https://localhost:8080/",
          "height": 265
        }
      },
      "source": [
        "# buat avariabel data array baru dan lakukan prediksi data yang baru\n",
        "unknowns = np.array([[1,3],\n",
        "                     [8,9],\n",
        "                     [0,3],\n",
        "                     [5,4],\n",
        "                     [6,4],])\n",
        "\n",
        "for unknown in unknowns:\n",
        "    classification = clf.predict(unknown)\n",
        "    plt.scatter(unknown[0], unknown[1], marker=\"*\", color=colors[classification], s=150, linewidths=5)\n",
        "\n",
        "\n",
        "plt.show()"
      ],
      "execution_count": 0,
      "outputs": [
        {
          "output_type": "display_data",
          "data": {
            "image/png": "[encoded data removed]",
            "text/plain": [
              "<Figure size 432x288 with 1 Axes>"
            ]
          },
          "metadata": {
            "tags": []
          }
        }
      ]
    },
    {
      "cell_type": "markdown",
      "metadata": {
        "id": "M5d4aKjhBQzS",
        "colab_type": "text"
      },
      "source": [
        "# KMeans dengan Data Pengunjung Mall"
      ]
    },
    {
      "cell_type": "markdown",
      "metadata": {
        "id": "Jx-gEGP51JF_",
        "colab_type": "text"
      },
      "source": [
        "Reference :\n",
        "\n",
        "https://medium.com/machine-learning-algorithms-from-scratch/k-means-clustering-from-scratch-in-python-1675d38eee42\n"
      ]
    },
    {
      "cell_type": "code",
      "metadata": {
        "id": "kVQw7VKg1CMj",
        "colab_type": "code",
        "colab": {}
      },
      "source": [
        "import numpy as np\n",
        "import matplotlib.pyplot as plt\n",
        "import pandas as pd\n",
        "import random as rd\n",
        "from collections import defaultdict\n",
        "import matplotlib.cm as cm"
      ],
      "execution_count": 0,
      "outputs": []
    },
    {
      "cell_type": "code",
      "metadata": {
        "id": "sjboSjbE2MIw",
        "colab_type": "code",
        "outputId": "f1f5401d-5c6e-480c-8bcc-2a35d36b1c75",
        "colab": {
          "base_uri": "https://localhost:8080/",
          "height": 297
        }
      },
      "source": [
        "# Mengimpor dataset\n",
        "dataset = pd.read_csv('./sample_data/Pengunjung_mall.csv')\n",
        "dataset.describe()"
      ],
      "execution_count": 0,
      "outputs": [
        {
          "output_type": "execute_result",
          "data": {
            "text/html": [
              "<div>\n",
              "<style scoped>\n",
              "    .dataframe tbody tr th:only-of-type {\n",
              "        vertical-align: middle;\n",
              "    }\n",
              "\n",
              "    .dataframe tbody tr th {\n",
              "        vertical-align: top;\n",
              "    }\n",
              "\n",
              "    .dataframe thead th {\n",
              "        text-align: right;\n",
              "    }\n",
              "</style>\n",
              "<table border=\"1\" class=\"dataframe\">\n",
              "  <thead>\n",
              "    <tr style=\"text-align: right;\">\n",
              "      <th></th>\n",
              "      <th>IDPelanggan</th>\n",
              "      <th>Usia</th>\n",
              "      <th>Pendapatan (juta Rp)</th>\n",
              "      <th>Rating_pengeluaran (1-100)</th>\n",
              "    </tr>\n",
              "  </thead>\n",
              "  <tbody>\n",
              "    <tr>\n",
              "      <th>count</th>\n",
              "      <td>200.000000</td>\n",
              "      <td>200.000000</td>\n",
              "      <td>200.000000</td>\n",
              "      <td>200.000000</td>\n",
              "    </tr>\n",
              "    <tr>\n",
              "      <th>mean</th>\n",
              "      <td>100.500000</td>\n",
              "      <td>38.850000</td>\n",
              "      <td>60.560000</td>\n",
              "      <td>50.200000</td>\n",
              "    </tr>\n",
              "    <tr>\n",
              "      <th>std</th>\n",
              "      <td>57.879185</td>\n",
              "      <td>13.969007</td>\n",
              "      <td>26.264721</td>\n",
              "      <td>25.823522</td>\n",
              "    </tr>\n",
              "    <tr>\n",
              "      <th>min</th>\n",
              "      <td>1.000000</td>\n",
              "      <td>18.000000</td>\n",
              "      <td>15.000000</td>\n",
              "      <td>1.000000</td>\n",
              "    </tr>\n",
              "    <tr>\n",
              "      <th>25%</th>\n",
              "      <td>50.750000</td>\n",
              "      <td>28.750000</td>\n",
              "      <td>41.500000</td>\n",
              "      <td>34.750000</td>\n",
              "    </tr>\n",
              "    <tr>\n",
              "      <th>50%</th>\n",
              "      <td>100.500000</td>\n",
              "      <td>36.000000</td>\n",
              "      <td>61.500000</td>\n",
              "      <td>50.000000</td>\n",
              "    </tr>\n",
              "    <tr>\n",
              "      <th>75%</th>\n",
              "      <td>150.250000</td>\n",
              "      <td>49.000000</td>\n",
              "      <td>78.000000</td>\n",
              "      <td>73.000000</td>\n",
              "    </tr>\n",
              "    <tr>\n",
              "      <th>max</th>\n",
              "      <td>200.000000</td>\n",
              "      <td>70.000000</td>\n",
              "      <td>137.000000</td>\n",
              "      <td>99.000000</td>\n",
              "    </tr>\n",
              "  </tbody>\n",
              "</table>\n",
              "</div>"
            ],
            "text/plain": [
              "       IDPelanggan  ...  Rating_pengeluaran (1-100)\n",
              "count   200.000000  ...                  200.000000\n",
              "mean    100.500000  ...                   50.200000\n",
              "std      57.879185  ...                   25.823522\n",
              "min       1.000000  ...                    1.000000\n",
              "25%      50.750000  ...                   34.750000\n",
              "50%     100.500000  ...                   50.000000\n",
              "75%     150.250000  ...                   73.000000\n",
              "max     200.000000  ...                   99.000000\n",
              "\n",
              "[8 rows x 4 columns]"
            ]
          },
          "metadata": {
            "tags": []
          },
          "execution_count": 21
        }
      ]
    },
    {
      "cell_type": "code",
      "metadata": {
        "id": "HaTjRqPx2Z1g",
        "colab_type": "code",
        "colab": {}
      },
      "source": [
        "# melakukan slicing, dari dataset yang dimiliki. Kita hanya memerlukan kolom ke 3 (pendapatan) dan 4 (rating pengeluaran) saja\n",
        "X = dataset.iloc[:, [3, 4]].values"
      ],
      "execution_count": 0,
      "outputs": []
    },
    {
      "cell_type": "code",
      "metadata": {
        "id": "DcZ2H6O82guZ",
        "colab_type": "code",
        "outputId": "50250477-d5c4-4941-9d8b-1dd618838059",
        "colab": {
          "base_uri": "https://localhost:8080/",
          "height": 1000
        }
      },
      "source": [
        "X"
      ],
      "execution_count": 0,
      "outputs": [
        {
          "output_type": "execute_result",
          "data": {
            "text/plain": [
              "array([[ 15,  39],\n",
              "       [ 15,  81],\n",
              "       [ 16,   6],\n",
              "       [ 16,  77],\n",
              "       [ 17,  40],\n",
              "       [ 17,  76],\n",
              "       [ 18,   6],\n",
              "       [ 18,  94],\n",
              "       [ 19,   3],\n",
              "       [ 19,  72],\n",
              "       [ 19,  14],\n",
              "       [ 19,  99],\n",
              "       [ 20,  15],\n",
              "       [ 20,  77],\n",
              "       [ 20,  13],\n",
              "       [ 20,  79],\n",
              "       [ 21,  35],\n",
              "       [ 21,  66],\n",
              "       [ 23,  29],\n",
              "       [ 23,  98],\n",
              "       [ 24,  35],\n",
              "       [ 24,  73],\n",
              "       [ 25,   5],\n",
              "       [ 25,  73],\n",
              "       [ 28,  14],\n",
              "       [ 28,  82],\n",
              "       [ 28,  32],\n",
              "       [ 28,  61],\n",
              "       [ 29,  31],\n",
              "       [ 29,  87],\n",
              "       [ 30,   4],\n",
              "       [ 30,  73],\n",
              "       [ 33,   4],\n",
              "       [ 33,  92],\n",
              "       [ 33,  14],\n",
              "       [ 33,  81],\n",
              "       [ 34,  17],\n",
              "       [ 34,  73],\n",
              "       [ 37,  26],\n",
              "       [ 37,  75],\n",
              "       [ 38,  35],\n",
              "       [ 38,  92],\n",
              "       [ 39,  36],\n",
              "       [ 39,  61],\n",
              "       [ 39,  28],\n",
              "       [ 39,  65],\n",
              "       [ 40,  55],\n",
              "       [ 40,  47],\n",
              "       [ 40,  42],\n",
              "       [ 40,  42],\n",
              "       [ 42,  52],\n",
              "       [ 42,  60],\n",
              "       [ 43,  54],\n",
              "       [ 43,  60],\n",
              "       [ 43,  45],\n",
              "       [ 43,  41],\n",
              "       [ 44,  50],\n",
              "       [ 44,  46],\n",
              "       [ 46,  51],\n",
              "       [ 46,  46],\n",
              "       [ 46,  56],\n",
              "       [ 46,  55],\n",
              "       [ 47,  52],\n",
              "       [ 47,  59],\n",
              "       [ 48,  51],\n",
              "       [ 48,  59],\n",
              "       [ 48,  50],\n",
              "       [ 48,  48],\n",
              "       [ 48,  59],\n",
              "       [ 48,  47],\n",
              "       [ 49,  55],\n",
              "       [ 49,  42],\n",
              "       [ 50,  49],\n",
              "       [ 50,  56],\n",
              "       [ 54,  47],\n",
              "       [ 54,  54],\n",
              "       [ 54,  53],\n",
              "       [ 54,  48],\n",
              "       [ 54,  52],\n",
              "       [ 54,  42],\n",
              "       [ 54,  51],\n",
              "       [ 54,  55],\n",
              "       [ 54,  41],\n",
              "       [ 54,  44],\n",
              "       [ 54,  57],\n",
              "       [ 54,  46],\n",
              "       [ 57,  58],\n",
              "       [ 57,  55],\n",
              "       [ 58,  60],\n",
              "       [ 58,  46],\n",
              "       [ 59,  55],\n",
              "       [ 59,  41],\n",
              "       [ 60,  49],\n",
              "       [ 60,  40],\n",
              "       [ 60,  42],\n",
              "       [ 60,  52],\n",
              "       [ 60,  47],\n",
              "       [ 60,  50],\n",
              "       [ 61,  42],\n",
              "       [ 61,  49],\n",
              "       [ 62,  41],\n",
              "       [ 62,  48],\n",
              "       [ 62,  59],\n",
              "       [ 62,  55],\n",
              "       [ 62,  56],\n",
              "       [ 62,  42],\n",
              "       [ 63,  50],\n",
              "       [ 63,  46],\n",
              "       [ 63,  43],\n",
              "       [ 63,  48],\n",
              "       [ 63,  52],\n",
              "       [ 63,  54],\n",
              "       [ 64,  42],\n",
              "       [ 64,  46],\n",
              "       [ 65,  48],\n",
              "       [ 65,  50],\n",
              "       [ 65,  43],\n",
              "       [ 65,  59],\n",
              "       [ 67,  43],\n",
              "       [ 67,  57],\n",
              "       [ 67,  56],\n",
              "       [ 67,  40],\n",
              "       [ 69,  58],\n",
              "       [ 69,  91],\n",
              "       [ 70,  29],\n",
              "       [ 70,  77],\n",
              "       [ 71,  35],\n",
              "       [ 71,  95],\n",
              "       [ 71,  11],\n",
              "       [ 71,  75],\n",
              "       [ 71,   9],\n",
              "       [ 71,  75],\n",
              "       [ 72,  34],\n",
              "       [ 72,  71],\n",
              "       [ 73,   5],\n",
              "       [ 73,  88],\n",
              "       [ 73,   7],\n",
              "       [ 73,  73],\n",
              "       [ 74,  10],\n",
              "       [ 74,  72],\n",
              "       [ 75,   5],\n",
              "       [ 75,  93],\n",
              "       [ 76,  40],\n",
              "       [ 76,  87],\n",
              "       [ 77,  12],\n",
              "       [ 77,  97],\n",
              "       [ 77,  36],\n",
              "       [ 77,  74],\n",
              "       [ 78,  22],\n",
              "       [ 78,  90],\n",
              "       [ 78,  17],\n",
              "       [ 78,  88],\n",
              "       [ 78,  20],\n",
              "       [ 78,  76],\n",
              "       [ 78,  16],\n",
              "       [ 78,  89],\n",
              "       [ 78,   1],\n",
              "       [ 78,  78],\n",
              "       [ 78,   1],\n",
              "       [ 78,  73],\n",
              "       [ 79,  35],\n",
              "       [ 79,  83],\n",
              "       [ 81,   5],\n",
              "       [ 81,  93],\n",
              "       [ 85,  26],\n",
              "       [ 85,  75],\n",
              "       [ 86,  20],\n",
              "       [ 86,  95],\n",
              "       [ 87,  27],\n",
              "       [ 87,  63],\n",
              "       [ 87,  13],\n",
              "       [ 87,  75],\n",
              "       [ 87,  10],\n",
              "       [ 87,  92],\n",
              "       [ 88,  13],\n",
              "       [ 88,  86],\n",
              "       [ 88,  15],\n",
              "       [ 88,  69],\n",
              "       [ 93,  14],\n",
              "       [ 93,  90],\n",
              "       [ 97,  32],\n",
              "       [ 97,  86],\n",
              "       [ 98,  15],\n",
              "       [ 98,  88],\n",
              "       [ 99,  39],\n",
              "       [ 99,  97],\n",
              "       [101,  24],\n",
              "       [101,  68],\n",
              "       [103,  17],\n",
              "       [103,  85],\n",
              "       [103,  23],\n",
              "       [103,  69],\n",
              "       [113,   8],\n",
              "       [113,  91],\n",
              "       [120,  16],\n",
              "       [120,  79],\n",
              "       [126,  28],\n",
              "       [126,  74],\n",
              "       [137,  18],\n",
              "       [137,  83]])"
            ]
          },
          "metadata": {
            "tags": []
          },
          "execution_count": 23
        }
      ]
    },
    {
      "cell_type": "markdown",
      "metadata": {
        "id": "XkYo0j9a2omU",
        "colab_type": "text"
      },
      "source": [
        "Hasil dari matriks diatas adalah :\n",
        "\n",
        "(200,2) -> 200 baris, dan 2 kolom"
      ]
    },
    {
      "cell_type": "code",
      "metadata": {
        "id": "zVnRJuR825mA",
        "colab_type": "code",
        "colab": {}
      },
      "source": [
        "# insisalisasi nili K, maximum iterasi dan centroid\n",
        "K=5\n",
        "m=200\n",
        "Centroids=np.array([]).reshape(2,0)"
      ],
      "execution_count": 0,
      "outputs": []
    },
    {
      "cell_type": "markdown",
      "metadata": {
        "id": "GLGAg0vB4in9",
        "colab_type": "text"
      },
      "source": [
        "**Step 1**\n",
        "\n",
        "inisialisasi centroid secara acak dari dataset.\n",
        "\n",
        "perhitungan centroid menggunakan\n",
        "\n",
        "`N x K`\n",
        "\n",
        "Dimana untuk setiap kolom akan menjadi centroid untuk setiap cluster.\n",
        "\n"
      ]
    },
    {
      "cell_type": "code",
      "metadata": {
        "id": "zOR79lld3sc-",
        "colab_type": "code",
        "colab": {}
      },
      "source": [
        "#step 1\n",
        "for i in range(K):\n",
        "    rand=rd.randint(0,m-1)\n",
        "    Centroids=np.c_[Centroids,X[rand]]"
      ],
      "execution_count": 0,
      "outputs": []
    },
    {
      "cell_type": "markdown",
      "metadata": {
        "id": "CJm6rdbz6XIu",
        "colab_type": "text"
      },
      "source": [
        "**Step 2**\n",
        "\n",
        "Melakukan perhitungan untuk mencari jarak `euclidean` dari centroid terdekat."
      ]
    },
    {
      "cell_type": "markdown",
      "metadata": {
        "id": "hL-iN4517PAY",
        "colab_type": "text"
      },
      "source": [
        "Kita akan mencari euclidean untuk setiap point dengan\n",
        "\n",
        "`M x K`\n",
        "\n",
        "Kemudian kita lakukan grouping untuk data point pada cluster yang terbentuk."
      ]
    },
    {
      "cell_type": "code",
      "metadata": {
        "id": "GZK0zMPB8Z_I",
        "colab_type": "code",
        "colab": {}
      },
      "source": [
        "#step2\n",
        "num_iter=100\n",
        "Output=defaultdict()\n",
        "Output={}\n",
        "for n in range(num_iter):\n",
        "    #step 2.a\n",
        "    EuclidianDistance=np.array([]).reshape(m,0)\n",
        "    for k in range(K):\n",
        "        tempDist=np.sum((X-Centroids[:,k])**2,axis=1)\n",
        "        EuclidianDistance=np.c_[EuclidianDistance,tempDist]\n",
        "        \n",
        "    C=np.argmin(EuclidianDistance,axis=1)+1\n",
        "    #step 2.b\n",
        "    Y={}\n",
        "    for k in range(K):\n",
        "        Y[k+1]=np.array([]).reshape(2,0)\n",
        "    for i in range(m):\n",
        "        Y[C[i]]=np.c_[Y[C[i]],X[i]]\n",
        "     \n",
        "    for k in range(K):\n",
        "        Y[k+1]=Y[k+1].T\n",
        "        \n",
        "        \n",
        "    for k in range(K):\n",
        "        Centroids[:,k]=np.mean(Y[k+1],axis=0)\n",
        "        \n",
        "    Output=Y"
      ],
      "execution_count": 0,
      "outputs": []
    },
    {
      "cell_type": "code",
      "metadata": {
        "id": "YGtMsPnruy7x",
        "colab_type": "code",
        "outputId": "5f79e003-3f55-498e-8887-f0f221f60376",
        "colab": {
          "base_uri": "https://localhost:8080/",
          "height": 564
        }
      },
      "source": [
        "# Visualisasi hasil\n",
        "plt.scatter(X[:,0],X[:,1],c='black',label='unclustered data')\n",
        "plt.xlabel('Income')\n",
        "plt.ylabel('Number of transactions')\n",
        "plt.legend()\n",
        "plt.title('Plot of data points')\n",
        "plt.show()\n",
        "\n",
        "color=['red','blue','green','cyan','magenta']\n",
        "labels=['cluster1','cluster2','cluster3','cluster4','cluster5']\n",
        "for k in range(K):\n",
        "    plt.scatter(Output[k+1][:,0],Output[k+1][:,1],c=color[k],label=labels[k])\n",
        "plt.scatter(Centroids[0,:],Centroids[1,:],s=300,c='yellow',label='Centroids')\n",
        "plt.xlabel('Income')\n",
        "plt.ylabel('Number of transactions')\n",
        "plt.legend()\n",
        "plt.show()"
      ],
      "execution_count": 0,
      "outputs": [
        {
          "output_type": "display_data",
          "data": {
            "image/png": "[encoded data removed]",
            "text/plain": [
              "<Figure size 432x288 with 1 Axes>"
            ]
          },
          "metadata": {
            "tags": []
          }
        },
        {
          "output_type": "display_data",
          "data": {
            "image/png": "[encoded data removed]",
            "text/plain": [
              "<Figure size 432x288 with 1 Axes>"
            ]
          },
          "metadata": {
            "tags": []
          }
        }
      ]
    }
  ]
}