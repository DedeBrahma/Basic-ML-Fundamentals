{
  "nbformat": 4,
  "nbformat_minor": 0,
  "metadata": {
    "colab": {
      "name": "KMeans-Sklearn.ipynb",
      "provenance": [],
      "collapsed_sections": [
        "kysN92omoJKY",
        "ovloeS4wrx4Z",
        "F6Fnrm8Iu3j4"
      ],
      "toc_visible": true,
      "authorship_tag": "ABX9TyPrzEElQ4HuiQnHMxAU3Pit"
    },
    "kernelspec": {
      "name": "python3",
      "display_name": "Python 3"
    }
  },
  "cells": [
    {
      "cell_type": "markdown",
      "metadata": {
        "id": "aZ_o62Ton_V9",
        "colab_type": "text"
      },
      "source": [
        "**Clustering KMeans Menggunakan Sklearn**"
      ]
    },
    {
      "cell_type": "markdown",
      "metadata": {
        "id": "kysN92omoJKY",
        "colab_type": "text"
      },
      "source": [
        "# Simple KMeans"
      ]
    },
    {
      "cell_type": "markdown",
      "metadata": {
        "id": "nmIwpg8boNKb",
        "colab_type": "text"
      },
      "source": [
        "Reference : \n",
        "\n",
        "http://scikit-learn.org/stable/modules/generated/sklearn.cluster.KMeans.html"
      ]
    },
    {
      "cell_type": "code",
      "metadata": {
        "id": "OM584Keb8TIe",
        "colab_type": "code",
        "colab": {}
      },
      "source": [
        "from sklearn.cluster import KMeans\n",
        "import numpy as np"
      ],
      "execution_count": 0,
      "outputs": []
    },
    {
      "cell_type": "code",
      "metadata": {
        "id": "F5b5lKrx8vGo",
        "colab_type": "code",
        "outputId": "1d32a926-eebe-4f0b-b9f0-c483ba696df8",
        "colab": {
          "base_uri": "https://localhost:8080/",
          "height": 119
        }
      },
      "source": [
        "# Membuat variabel untuk data berupa matriks menggunakan library Numpy\n",
        "X = np.array([[1, 2], [1, 4], [1, 0],[4, 2], [4, 4], [4, 0]])\n",
        "print(X)"
      ],
      "execution_count": 0,
      "outputs": [
        {
          "output_type": "stream",
          "text": [
            "[[1 2]\n",
            " [1 4]\n",
            " [1 0]\n",
            " [4 2]\n",
            " [4 4]\n",
            " [4 0]]\n"
          ],
          "name": "stdout"
        }
      ]
    },
    {
      "cell_type": "code",
      "metadata": {
        "id": "k0YGKm-_pvXI",
        "colab_type": "code",
        "outputId": "7bb20f07-cc74-444c-c3d8-d0ee386e2e3e",
        "colab": {
          "base_uri": "https://localhost:8080/",
          "height": 34
        }
      },
      "source": [
        "# Memanggil fungsi KMeans dengan memasukkan parameter n_cluster (jumlah cluster untuk KMeans, dan\n",
        "# inisialisasi random_state agar hasil training tidak berubah ketika dijalankan ulang)\n",
        "kmeans = KMeans(n_clusters=2, random_state=0).fit(X)\n",
        "print(\"Hasil Training :\", kmeans.labels_)  # labels_ digunakan untuk melihat shape dari array value"
      ],
      "execution_count": 0,
      "outputs": [
        {
          "output_type": "stream",
          "text": [
            "Hasil Training : [1 0 1 0 0 1]\n"
          ],
          "name": "stdout"
        }
      ]
    },
    {
      "cell_type": "code",
      "metadata": {
        "id": "Y67bDzgj8xJh",
        "colab_type": "code",
        "outputId": "c195b157-ff73-4e97-8825-e9a8098769ee",
        "colab": {
          "base_uri": "https://localhost:8080/",
          "height": 68
        }
      },
      "source": [
        "# Melakukan prediksi data dari hasil training diatas.\n",
        "# Masukkan parameter nilai matriks baru untuk diprediksi\n",
        "kp = kmeans.predict([[0, 0], [4, 3]])\n",
        "print(\"Hasil Prediksi :\", kp)\n",
        "print(\"Jumlah Cluster :\", kmeans.cluster_centers_) # cluster_centers_ melihat julah cluster centroid yang ada"
      ],
      "execution_count": 0,
      "outputs": [
        {
          "output_type": "stream",
          "text": [
            "Hasil Prediksi : [1 0]\n",
            "Jumlah Cluster : [[3.         3.33333333]\n",
            " [2.         0.66666667]]\n"
          ],
          "name": "stdout"
        }
      ]
    },
    {
      "cell_type": "markdown",
      "metadata": {
        "id": "ovloeS4wrx4Z",
        "colab_type": "text"
      },
      "source": [
        "# KMeans dengan Visualisasi"
      ]
    },
    {
      "cell_type": "markdown",
      "metadata": {
        "id": "RyNUKfYGr4mg",
        "colab_type": "text"
      },
      "source": [
        "Reference : \n",
        "\n",
        "http://stackabuse.com/k-means-clustering-with-scikit-learn/"
      ]
    },
    {
      "cell_type": "code",
      "metadata": {
        "id": "QtWawcgh8zG4",
        "colab_type": "code",
        "colab": {}
      },
      "source": [
        "import matplotlib.pyplot as plt  \n",
        "%matplotlib inline\n",
        "import numpy as np  \n",
        "from sklearn.cluster import KMeans"
      ],
      "execution_count": 0,
      "outputs": []
    },
    {
      "cell_type": "code",
      "metadata": {
        "id": "3VZaN6kF804B",
        "colab_type": "code",
        "colab": {}
      },
      "source": [
        "X = np.array([[5,3],  \n",
        "     [10,15],\n",
        "     [15,12],\n",
        "     [24,10],\n",
        "     [30,45],\n",
        "     [85,70],\n",
        "     [71,80],\n",
        "     [60,78],\n",
        "     [55,52],\n",
        "     [80,91],])"
      ],
      "execution_count": 0,
      "outputs": []
    },
    {
      "cell_type": "code",
      "metadata": {
        "id": "LYmy_2ch83Kt",
        "colab_type": "code",
        "outputId": "8111e570-ef9e-4ad8-a07a-a84f51a7aa25",
        "colab": {
          "base_uri": "https://localhost:8080/",
          "height": 282
        }
      },
      "source": [
        "# Visualisai menggunakan matplotlib\n",
        "plt.scatter(X[:,0],X[:,1], label='True Position')"
      ],
      "execution_count": 0,
      "outputs": [
        {
          "output_type": "execute_result",
          "data": {
            "text/plain": [
              "<matplotlib.collections.PathCollection at 0x7f17e850e438>"
            ]
          },
          "metadata": {
            "tags": []
          },
          "execution_count": 9
        },
        {
          "output_type": "display_data",
          "data": {
            "image/png": "[encoded data removed]",
            "text/plain": [
              "<Figure size 432x288 with 1 Axes>"
            ]
          },
          "metadata": {
            "tags": []
          }
        }
      ]
    },
    {
      "cell_type": "code",
      "metadata": {
        "id": "KlGIN78x86Qn",
        "colab_type": "code",
        "outputId": "ae7ea5e9-42c3-4618-eb37-8ad6af09c0e0",
        "colab": {
          "base_uri": "https://localhost:8080/",
          "height": 68
        }
      },
      "source": [
        "# Memanggil fungsi KMeans dengan inisialisasi jumlah cluster\n",
        "kmeans = KMeans(n_clusters=2)  \n",
        "kmeans.fit(X)"
      ],
      "execution_count": 0,
      "outputs": [
        {
          "output_type": "execute_result",
          "data": {
            "text/plain": [
              "KMeans(algorithm='auto', copy_x=True, init='k-means++', max_iter=300,\n",
              "       n_clusters=2, n_init=10, n_jobs=None, precompute_distances='auto',\n",
              "       random_state=None, tol=0.0001, verbose=0)"
            ]
          },
          "metadata": {
            "tags": []
          },
          "execution_count": 10
        }
      ]
    },
    {
      "cell_type": "code",
      "metadata": {
        "id": "pbevGnz_88DG",
        "colab_type": "code",
        "outputId": "802c02b9-cda6-483b-b054-0127e7b832c8",
        "colab": {
          "base_uri": "https://localhost:8080/",
          "height": 51
        }
      },
      "source": [
        "# Melihat jumlah cluster centroid yang ada\n",
        "print(kmeans.cluster_centers_)"
      ],
      "execution_count": 0,
      "outputs": [
        {
          "output_type": "stream",
          "text": [
            "[[70.2 74.2]\n",
            " [16.8 17. ]]\n"
          ],
          "name": "stdout"
        }
      ]
    },
    {
      "cell_type": "code",
      "metadata": {
        "id": "Zu29WNnh89qL",
        "colab_type": "code",
        "outputId": "c55af780-e661-487b-8b78-664598623f6a",
        "colab": {
          "base_uri": "https://localhost:8080/",
          "height": 34
        }
      },
      "source": [
        "# Melihat shape dari nilai kmeans\n",
        "print(kmeans.labels_)"
      ],
      "execution_count": 0,
      "outputs": [
        {
          "output_type": "stream",
          "text": [
            "[1 1 1 1 1 0 0 0 0 0]\n"
          ],
          "name": "stdout"
        }
      ]
    },
    {
      "cell_type": "code",
      "metadata": {
        "id": "Jw3GWPAf8_dl",
        "colab_type": "code",
        "outputId": "0bee011d-c152-491e-bf21-c98066844297",
        "colab": {
          "base_uri": "https://localhost:8080/",
          "height": 282
        }
      },
      "source": [
        "# Melihat hasil cluster yang terbuat dengan kmeans\n",
        "plt.scatter(X[:,0],X[:,1], c=kmeans.labels_, cmap='rainbow')"
      ],
      "execution_count": 0,
      "outputs": [
        {
          "output_type": "execute_result",
          "data": {
            "text/plain": [
              "<matplotlib.collections.PathCollection at 0x7f17e57d70f0>"
            ]
          },
          "metadata": {
            "tags": []
          },
          "execution_count": 14
        },
        {
          "output_type": "display_data",
          "data": {
            "image/png": "[encoded data removed]",
            "text/plain": [
              "<Figure size 432x288 with 1 Axes>"
            ]
          },
          "metadata": {
            "tags": []
          }
        }
      ]
    },
    {
      "cell_type": "code",
      "metadata": {
        "id": "J11KJBT39BZt",
        "colab_type": "code",
        "outputId": "be9b0214-00e1-440d-b972-a37fc7301534",
        "colab": {
          "base_uri": "https://localhost:8080/",
          "height": 282
        }
      },
      "source": [
        "# Melihat cluster dengan menambahkan visual centroid yang ada\n",
        "plt.scatter(X[:,0],X[:,1], c = kmeans.labels_, cmap='rainbow')  \n",
        "plt.scatter(kmeans.cluster_centers_[:,0],kmeans.cluster_centers_[:,0], color='black')"
      ],
      "execution_count": 0,
      "outputs": [
        {
          "output_type": "execute_result",
          "data": {
            "text/plain": [
              "<matplotlib.collections.PathCollection at 0x7f17e573c0f0>"
            ]
          },
          "metadata": {
            "tags": []
          },
          "execution_count": 15
        },
        {
          "output_type": "display_data",
          "data": {
            "image/png": "[encoded data removed]",
            "text/plain": [
              "<Figure size 432x288 with 1 Axes>"
            ]
          },
          "metadata": {
            "tags": []
          }
        }
      ]
    },
    {
      "cell_type": "markdown",
      "metadata": {
        "id": "F6Fnrm8Iu3j4",
        "colab_type": "text"
      },
      "source": [
        "# KMeans dengan Pandas"
      ]
    },
    {
      "cell_type": "markdown",
      "metadata": {
        "id": "qqg_VS19vBiA",
        "colab_type": "text"
      },
      "source": [
        "Reference :\n",
        "\n",
        "https://analytics4all.org/2016/05/21/python-k-means-cluster/\n",
        "\n",
        "Dataset :\n",
        "\n",
        "https://benlarsonsite.files.wordpress.com/2016/05/kmeans1.xlsx"
      ]
    },
    {
      "cell_type": "code",
      "metadata": {
        "id": "vLWT84OC9DXb",
        "colab_type": "code",
        "outputId": "2d7f1add-7715-4ddf-e4c9-87e92d4878e6",
        "colab": {
          "base_uri": "https://localhost:8080/",
          "height": 470
        }
      },
      "source": [
        "import pandas as pd\n",
        "\n",
        "df = pd.read_excel(\"./sample_data/kmeans1.xlsx\")\n",
        "df"
      ],
      "execution_count": 0,
      "outputs": [
        {
          "output_type": "execute_result",
          "data": {
            "text/html": [
              "<div>\n",
              "<style scoped>\n",
              "    .dataframe tbody tr th:only-of-type {\n",
              "        vertical-align: middle;\n",
              "    }\n",
              "\n",
              "    .dataframe tbody tr th {\n",
              "        vertical-align: top;\n",
              "    }\n",
              "\n",
              "    .dataframe thead th {\n",
              "        text-align: right;\n",
              "    }\n",
              "</style>\n",
              "<table border=\"1\" class=\"dataframe\">\n",
              "  <thead>\n",
              "    <tr style=\"text-align: right;\">\n",
              "      <th></th>\n",
              "      <th>ID Tag</th>\n",
              "      <th>Model</th>\n",
              "      <th>WO count</th>\n",
              "      <th>AVG Labor</th>\n",
              "      <th>Labor Cost</th>\n",
              "      <th>No Problem</th>\n",
              "      <th>Avg Cost</th>\n",
              "      <th>Travel</th>\n",
              "      <th>Travel Cost</th>\n",
              "      <th>Department</th>\n",
              "    </tr>\n",
              "  </thead>\n",
              "  <tbody>\n",
              "    <tr>\n",
              "      <th>0</th>\n",
              "      <td>1</td>\n",
              "      <td>MYLAB ALPHA</td>\n",
              "      <td>10</td>\n",
              "      <td>43.333333</td>\n",
              "      <td>54.166667</td>\n",
              "      <td>0</td>\n",
              "      <td>0.0</td>\n",
              "      <td>2.0</td>\n",
              "      <td>150.0</td>\n",
              "      <td>CARDIOVASCULAR IMAGING</td>\n",
              "    </tr>\n",
              "    <tr>\n",
              "      <th>1</th>\n",
              "      <td>2</td>\n",
              "      <td>ASPEN</td>\n",
              "      <td>1</td>\n",
              "      <td>24.000000</td>\n",
              "      <td>30.000000</td>\n",
              "      <td>0</td>\n",
              "      <td>0.0</td>\n",
              "      <td>2.0</td>\n",
              "      <td>150.0</td>\n",
              "      <td>CARDIOVASCULAR IMAGING</td>\n",
              "    </tr>\n",
              "    <tr>\n",
              "      <th>2</th>\n",
              "      <td>3</td>\n",
              "      <td>IE33</td>\n",
              "      <td>4</td>\n",
              "      <td>210.000000</td>\n",
              "      <td>262.500000</td>\n",
              "      <td>0</td>\n",
              "      <td>0.0</td>\n",
              "      <td>2.0</td>\n",
              "      <td>150.0</td>\n",
              "      <td>CARDIOVASCULAR IMAGING</td>\n",
              "    </tr>\n",
              "    <tr>\n",
              "      <th>3</th>\n",
              "      <td>4</td>\n",
              "      <td>BVI 9400</td>\n",
              "      <td>9</td>\n",
              "      <td>54.666667</td>\n",
              "      <td>68.333333</td>\n",
              "      <td>1</td>\n",
              "      <td>0.0</td>\n",
              "      <td>2.0</td>\n",
              "      <td>150.0</td>\n",
              "      <td>REHAB CENTER</td>\n",
              "    </tr>\n",
              "    <tr>\n",
              "      <th>4</th>\n",
              "      <td>5</td>\n",
              "      <td>BVI 9400</td>\n",
              "      <td>1</td>\n",
              "      <td>102.000000</td>\n",
              "      <td>127.500000</td>\n",
              "      <td>0</td>\n",
              "      <td>0.0</td>\n",
              "      <td>2.0</td>\n",
              "      <td>150.0</td>\n",
              "      <td>REHAB CENTER</td>\n",
              "    </tr>\n",
              "    <tr>\n",
              "      <th>...</th>\n",
              "      <td>...</td>\n",
              "      <td>...</td>\n",
              "      <td>...</td>\n",
              "      <td>...</td>\n",
              "      <td>...</td>\n",
              "      <td>...</td>\n",
              "      <td>...</td>\n",
              "      <td>...</td>\n",
              "      <td>...</td>\n",
              "      <td>...</td>\n",
              "    </tr>\n",
              "    <tr>\n",
              "      <th>191</th>\n",
              "      <td>192</td>\n",
              "      <td>VIVID E9</td>\n",
              "      <td>6</td>\n",
              "      <td>81.000000</td>\n",
              "      <td>101.250000</td>\n",
              "      <td>0</td>\n",
              "      <td>0.0</td>\n",
              "      <td>0.0</td>\n",
              "      <td>0.0</td>\n",
              "      <td>CARDIAC SERVICES-NON INVASIVE</td>\n",
              "    </tr>\n",
              "    <tr>\n",
              "      <th>192</th>\n",
              "      <td>193</td>\n",
              "      <td>LOGIQ E9</td>\n",
              "      <td>6</td>\n",
              "      <td>96.000000</td>\n",
              "      <td>120.000000</td>\n",
              "      <td>0</td>\n",
              "      <td>0.0</td>\n",
              "      <td>0.0</td>\n",
              "      <td>0.0</td>\n",
              "      <td>ULTRASOUND</td>\n",
              "    </tr>\n",
              "    <tr>\n",
              "      <th>193</th>\n",
              "      <td>194</td>\n",
              "      <td>M-TURBO</td>\n",
              "      <td>1</td>\n",
              "      <td>60.000000</td>\n",
              "      <td>75.000000</td>\n",
              "      <td>0</td>\n",
              "      <td>0.0</td>\n",
              "      <td>0.0</td>\n",
              "      <td>0.0</td>\n",
              "      <td>NEUROSCIENCE CENTER</td>\n",
              "    </tr>\n",
              "    <tr>\n",
              "      <th>194</th>\n",
              "      <td>195</td>\n",
              "      <td>FLEX FOCUS 500</td>\n",
              "      <td>1</td>\n",
              "      <td>90.000000</td>\n",
              "      <td>112.500000</td>\n",
              "      <td>0</td>\n",
              "      <td>0.0</td>\n",
              "      <td>0.0</td>\n",
              "      <td>0.0</td>\n",
              "      <td>ENDOSCOPY</td>\n",
              "    </tr>\n",
              "    <tr>\n",
              "      <th>195</th>\n",
              "      <td>196</td>\n",
              "      <td>EPIQ 7C</td>\n",
              "      <td>4</td>\n",
              "      <td>288.000000</td>\n",
              "      <td>360.000000</td>\n",
              "      <td>0</td>\n",
              "      <td>0.0</td>\n",
              "      <td>0.0</td>\n",
              "      <td>0.0</td>\n",
              "      <td>PEDIATRIC CARDIOLOGY</td>\n",
              "    </tr>\n",
              "  </tbody>\n",
              "</table>\n",
              "<p>196 rows × 10 columns</p>\n",
              "</div>"
            ],
            "text/plain": [
              "     ID Tag           Model  ...  Travel Cost                     Department\n",
              "0         1     MYLAB ALPHA  ...        150.0         CARDIOVASCULAR IMAGING\n",
              "1         2           ASPEN  ...        150.0         CARDIOVASCULAR IMAGING\n",
              "2         3            IE33  ...        150.0         CARDIOVASCULAR IMAGING\n",
              "3         4        BVI 9400  ...        150.0                   REHAB CENTER\n",
              "4         5        BVI 9400  ...        150.0                   REHAB CENTER\n",
              "..      ...             ...  ...          ...                            ...\n",
              "191     192        VIVID E9  ...          0.0  CARDIAC SERVICES-NON INVASIVE\n",
              "192     193        LOGIQ E9  ...          0.0                     ULTRASOUND\n",
              "193     194         M-TURBO  ...          0.0            NEUROSCIENCE CENTER\n",
              "194     195  FLEX FOCUS 500  ...          0.0                      ENDOSCOPY\n",
              "195     196         EPIQ 7C  ...          0.0           PEDIATRIC CARDIOLOGY\n",
              "\n",
              "[196 rows x 10 columns]"
            ]
          },
          "metadata": {
            "tags": []
          },
          "execution_count": 16
        }
      ]
    },
    {
      "cell_type": "code",
      "metadata": {
        "id": "4f-C5Cso9Fnm",
        "colab_type": "code",
        "outputId": "73c6a14f-786b-41db-c4b2-554ca7cc683d",
        "colab": {
          "base_uri": "https://localhost:8080/",
          "height": 204
        }
      },
      "source": [
        "# Hilangkan kolom ID Tag, Model dan Department\n",
        "df1 = df.drop([\"ID Tag\", \"Model\", \"Department\"], axis = 1)\n",
        "df1.head()"
      ],
      "execution_count": 0,
      "outputs": [
        {
          "output_type": "execute_result",
          "data": {
            "text/html": [
              "<div>\n",
              "<style scoped>\n",
              "    .dataframe tbody tr th:only-of-type {\n",
              "        vertical-align: middle;\n",
              "    }\n",
              "\n",
              "    .dataframe tbody tr th {\n",
              "        vertical-align: top;\n",
              "    }\n",
              "\n",
              "    .dataframe thead th {\n",
              "        text-align: right;\n",
              "    }\n",
              "</style>\n",
              "<table border=\"1\" class=\"dataframe\">\n",
              "  <thead>\n",
              "    <tr style=\"text-align: right;\">\n",
              "      <th></th>\n",
              "      <th>WO count</th>\n",
              "      <th>AVG Labor</th>\n",
              "      <th>Labor Cost</th>\n",
              "      <th>No Problem</th>\n",
              "      <th>Avg Cost</th>\n",
              "      <th>Travel</th>\n",
              "      <th>Travel Cost</th>\n",
              "    </tr>\n",
              "  </thead>\n",
              "  <tbody>\n",
              "    <tr>\n",
              "      <th>0</th>\n",
              "      <td>10</td>\n",
              "      <td>43.333333</td>\n",
              "      <td>54.166667</td>\n",
              "      <td>0</td>\n",
              "      <td>0.0</td>\n",
              "      <td>2.0</td>\n",
              "      <td>150.0</td>\n",
              "    </tr>\n",
              "    <tr>\n",
              "      <th>1</th>\n",
              "      <td>1</td>\n",
              "      <td>24.000000</td>\n",
              "      <td>30.000000</td>\n",
              "      <td>0</td>\n",
              "      <td>0.0</td>\n",
              "      <td>2.0</td>\n",
              "      <td>150.0</td>\n",
              "    </tr>\n",
              "    <tr>\n",
              "      <th>2</th>\n",
              "      <td>4</td>\n",
              "      <td>210.000000</td>\n",
              "      <td>262.500000</td>\n",
              "      <td>0</td>\n",
              "      <td>0.0</td>\n",
              "      <td>2.0</td>\n",
              "      <td>150.0</td>\n",
              "    </tr>\n",
              "    <tr>\n",
              "      <th>3</th>\n",
              "      <td>9</td>\n",
              "      <td>54.666667</td>\n",
              "      <td>68.333333</td>\n",
              "      <td>1</td>\n",
              "      <td>0.0</td>\n",
              "      <td>2.0</td>\n",
              "      <td>150.0</td>\n",
              "    </tr>\n",
              "    <tr>\n",
              "      <th>4</th>\n",
              "      <td>1</td>\n",
              "      <td>102.000000</td>\n",
              "      <td>127.500000</td>\n",
              "      <td>0</td>\n",
              "      <td>0.0</td>\n",
              "      <td>2.0</td>\n",
              "      <td>150.0</td>\n",
              "    </tr>\n",
              "  </tbody>\n",
              "</table>\n",
              "</div>"
            ],
            "text/plain": [
              "   WO count   AVG Labor  Labor Cost  No Problem  Avg Cost  Travel   Travel Cost\n",
              "0        10   43.333333   54.166667           0       0.0      2.0        150.0\n",
              "1         1   24.000000   30.000000           0       0.0      2.0        150.0\n",
              "2         4  210.000000  262.500000           0       0.0      2.0        150.0\n",
              "3         9   54.666667   68.333333           1       0.0      2.0        150.0\n",
              "4         1  102.000000  127.500000           0       0.0      2.0        150.0"
            ]
          },
          "metadata": {
            "tags": []
          },
          "execution_count": 17
        }
      ]
    },
    {
      "cell_type": "code",
      "metadata": {
        "id": "V52bhfM39HcE",
        "colab_type": "code",
        "colab": {}
      },
      "source": [
        "# Gunakan fungsi KMeans dengan jumlah cluster 4, k-means++ digunakan untuk mempercepat pencarian centroid.\n",
        "# n_init digunakan untuk inisialisasi jumlah iterasi untuk centroid baru.\n",
        "\n",
        "from sklearn.cluster import KMeans\n",
        "km = KMeans(n_clusters=4, init='k-means++', n_init=10)"
      ],
      "execution_count": 0,
      "outputs": []
    },
    {
      "cell_type": "code",
      "metadata": {
        "id": "Fv10dnLo9JNh",
        "colab_type": "code",
        "outputId": "3f5a8581-3ee1-4df4-da2b-4145c70c1cb1",
        "colab": {
          "base_uri": "https://localhost:8080/",
          "height": 68
        }
      },
      "source": [
        "# Training model yang sudah dibuat\n",
        "\n",
        "km.fit(df1)"
      ],
      "execution_count": 0,
      "outputs": [
        {
          "output_type": "execute_result",
          "data": {
            "text/plain": [
              "KMeans(algorithm='auto', copy_x=True, init='k-means++', max_iter=300,\n",
              "       n_clusters=4, n_init=10, n_jobs=None, precompute_distances='auto',\n",
              "       random_state=None, tol=0.0001, verbose=0)"
            ]
          },
          "metadata": {
            "tags": []
          },
          "execution_count": 19
        }
      ]
    },
    {
      "cell_type": "code",
      "metadata": {
        "id": "gDgn11uk9Kvq",
        "colab_type": "code",
        "outputId": "942e531e-cea4-4f03-8e4f-2ec518767d66",
        "colab": {
          "base_uri": "https://localhost:8080/",
          "height": 153
        }
      },
      "source": [
        "# Lihat cluster centroid yang terbentuk\n",
        "\n",
        "print(km.cluster_centers_)"
      ],
      "execution_count": 0,
      "outputs": [
        {
          "output_type": "stream",
          "text": [
            "[[2.35897436e+01 1.53496792e+02 1.91870990e+02 4.87179487e-01\n",
            "  4.99197222e+01 1.48717949e+00 1.11538462e+02]\n",
            " [1.22684564e+01 8.24766990e+01 1.03095874e+02 3.22147651e-01\n",
            "  5.91066653e+00 1.14703611e+00 8.60277086e+01]\n",
            " [2.11428571e+01 1.78123093e+02 2.22653867e+02 4.28571429e-01\n",
            "  4.53190542e+02 1.87551020e+00 1.40663265e+02]\n",
            " [2.40000000e+01 1.64250000e+02 2.05312500e+02 0.00000000e+00\n",
            "  1.42016667e+03 1.00000000e+00 7.50000000e+01]]\n"
          ],
          "name": "stdout"
        }
      ]
    },
    {
      "cell_type": "code",
      "metadata": {
        "id": "fmo5FiJx9MtU",
        "colab_type": "code",
        "outputId": "678842a9-3e82-47e4-ee8b-2b7f2b2437d7",
        "colab": {
          "base_uri": "https://localhost:8080/",
          "height": 119
        }
      },
      "source": [
        "# Lihat hasil cluster untuk setiap label shape\n",
        "\n",
        "print(km.labels_)"
      ],
      "execution_count": 0,
      "outputs": [
        {
          "output_type": "stream",
          "text": [
            "[1 1 0 1 1 0 2 1 1 1 1 0 1 1 2 1 1 1 1 1 1 1 0 0 1 1 2 1 1 2 1 1 1 0 1 2 0\n",
            " 1 1 1 0 1 1 1 0 1 1 0 1 0 1 0 0 1 0 2 1 1 0 0 0 0 1 1 1 1 1 1 1 1 1 1 1 1\n",
            " 1 1 1 1 0 0 1 1 1 1 1 1 1 1 1 1 1 1 1 1 1 1 1 3 1 1 0 0 1 1 1 1 1 1 1 1 1\n",
            " 1 0 0 0 1 1 1 1 0 1 0 1 1 2 1 1 1 1 1 1 1 1 1 1 1 1 1 1 1 1 1 1 1 0 1 1 1\n",
            " 1 1 1 1 1 1 0 0 0 0 0 1 1 1 1 1 1 1 1 1 1 1 1 1 0 1 1 1 1 1 1 0 1 1 1 1 1\n",
            " 0 1 0 1 0 1 1 1 1 1 0]\n"
          ],
          "name": "stdout"
        }
      ]
    },
    {
      "cell_type": "code",
      "metadata": {
        "id": "iuoNTzIJ9OTg",
        "colab_type": "code",
        "outputId": "8b748d55-cff2-4e79-fbca-7951194350fb",
        "colab": {
          "base_uri": "https://localhost:8080/",
          "height": 187
        }
      },
      "source": [
        "# Prediksi untuk data pada df1\n",
        "\n",
        "x = km.fit_predict(df1)\n",
        "x"
      ],
      "execution_count": 0,
      "outputs": [
        {
          "output_type": "execute_result",
          "data": {
            "text/plain": [
              "array([0, 0, 2, 0, 0, 2, 1, 0, 0, 0, 0, 2, 0, 2, 1, 0, 0, 0, 0, 0, 0, 0,\n",
              "       2, 0, 0, 0, 1, 2, 0, 1, 0, 0, 0, 2, 0, 1, 2, 0, 0, 0, 2, 0, 0, 0,\n",
              "       2, 0, 0, 2, 0, 2, 0, 2, 2, 0, 2, 1, 0, 0, 2, 2, 2, 2, 0, 0, 0, 0,\n",
              "       2, 2, 0, 0, 0, 0, 0, 0, 0, 0, 0, 2, 2, 2, 0, 0, 0, 0, 0, 0, 2, 2,\n",
              "       0, 0, 2, 0, 0, 0, 0, 0, 0, 3, 0, 0, 2, 2, 0, 0, 0, 0, 0, 0, 0, 2,\n",
              "       2, 0, 2, 2, 2, 0, 0, 0, 0, 2, 2, 2, 2, 0, 1, 0, 0, 2, 0, 0, 0, 0,\n",
              "       0, 0, 0, 0, 0, 0, 0, 0, 2, 2, 0, 2, 2, 0, 0, 0, 2, 2, 0, 0, 0, 0,\n",
              "       2, 2, 2, 2, 2, 0, 0, 0, 0, 0, 0, 0, 0, 0, 0, 0, 0, 0, 2, 0, 0, 0,\n",
              "       0, 2, 0, 2, 0, 0, 0, 0, 2, 2, 2, 2, 0, 2, 0, 0, 0, 0, 0, 2],\n",
              "      dtype=int32)"
            ]
          },
          "metadata": {
            "tags": []
          },
          "execution_count": 23
        }
      ]
    },
    {
      "cell_type": "code",
      "metadata": {
        "id": "haWgWolE9QLt",
        "colab_type": "code",
        "outputId": "cd895644-d1ac-433e-fa6c-37c879c038ca",
        "colab": {
          "base_uri": "https://localhost:8080/",
          "height": 272
        }
      },
      "source": [
        "# Buat kolom baru pada dataset untuk menampung data kategori cluster\n",
        "\n",
        "df[\"Cluster\"]= x\n",
        "df.head()"
      ],
      "execution_count": 0,
      "outputs": [
        {
          "output_type": "execute_result",
          "data": {
            "text/html": [
              "<div>\n",
              "<style scoped>\n",
              "    .dataframe tbody tr th:only-of-type {\n",
              "        vertical-align: middle;\n",
              "    }\n",
              "\n",
              "    .dataframe tbody tr th {\n",
              "        vertical-align: top;\n",
              "    }\n",
              "\n",
              "    .dataframe thead th {\n",
              "        text-align: right;\n",
              "    }\n",
              "</style>\n",
              "<table border=\"1\" class=\"dataframe\">\n",
              "  <thead>\n",
              "    <tr style=\"text-align: right;\">\n",
              "      <th></th>\n",
              "      <th>ID Tag</th>\n",
              "      <th>Model</th>\n",
              "      <th>WO count</th>\n",
              "      <th>AVG Labor</th>\n",
              "      <th>Labor Cost</th>\n",
              "      <th>No Problem</th>\n",
              "      <th>Avg Cost</th>\n",
              "      <th>Travel</th>\n",
              "      <th>Travel Cost</th>\n",
              "      <th>Department</th>\n",
              "      <th>Cluster</th>\n",
              "    </tr>\n",
              "  </thead>\n",
              "  <tbody>\n",
              "    <tr>\n",
              "      <th>0</th>\n",
              "      <td>1</td>\n",
              "      <td>MYLAB ALPHA</td>\n",
              "      <td>10</td>\n",
              "      <td>43.333333</td>\n",
              "      <td>54.166667</td>\n",
              "      <td>0</td>\n",
              "      <td>0.0</td>\n",
              "      <td>2.0</td>\n",
              "      <td>150.0</td>\n",
              "      <td>CARDIOVASCULAR IMAGING</td>\n",
              "      <td>0</td>\n",
              "    </tr>\n",
              "    <tr>\n",
              "      <th>1</th>\n",
              "      <td>2</td>\n",
              "      <td>ASPEN</td>\n",
              "      <td>1</td>\n",
              "      <td>24.000000</td>\n",
              "      <td>30.000000</td>\n",
              "      <td>0</td>\n",
              "      <td>0.0</td>\n",
              "      <td>2.0</td>\n",
              "      <td>150.0</td>\n",
              "      <td>CARDIOVASCULAR IMAGING</td>\n",
              "      <td>0</td>\n",
              "    </tr>\n",
              "    <tr>\n",
              "      <th>2</th>\n",
              "      <td>3</td>\n",
              "      <td>IE33</td>\n",
              "      <td>4</td>\n",
              "      <td>210.000000</td>\n",
              "      <td>262.500000</td>\n",
              "      <td>0</td>\n",
              "      <td>0.0</td>\n",
              "      <td>2.0</td>\n",
              "      <td>150.0</td>\n",
              "      <td>CARDIOVASCULAR IMAGING</td>\n",
              "      <td>2</td>\n",
              "    </tr>\n",
              "    <tr>\n",
              "      <th>3</th>\n",
              "      <td>4</td>\n",
              "      <td>BVI 9400</td>\n",
              "      <td>9</td>\n",
              "      <td>54.666667</td>\n",
              "      <td>68.333333</td>\n",
              "      <td>1</td>\n",
              "      <td>0.0</td>\n",
              "      <td>2.0</td>\n",
              "      <td>150.0</td>\n",
              "      <td>REHAB CENTER</td>\n",
              "      <td>0</td>\n",
              "    </tr>\n",
              "    <tr>\n",
              "      <th>4</th>\n",
              "      <td>5</td>\n",
              "      <td>BVI 9400</td>\n",
              "      <td>1</td>\n",
              "      <td>102.000000</td>\n",
              "      <td>127.500000</td>\n",
              "      <td>0</td>\n",
              "      <td>0.0</td>\n",
              "      <td>2.0</td>\n",
              "      <td>150.0</td>\n",
              "      <td>REHAB CENTER</td>\n",
              "      <td>0</td>\n",
              "    </tr>\n",
              "  </tbody>\n",
              "</table>\n",
              "</div>"
            ],
            "text/plain": [
              "   ID Tag        Model  WO count  ...  Travel Cost              Department  Cluster\n",
              "0       1  MYLAB ALPHA        10  ...        150.0  CARDIOVASCULAR IMAGING        0\n",
              "1       2        ASPEN         1  ...        150.0  CARDIOVASCULAR IMAGING        0\n",
              "2       3         IE33         4  ...        150.0  CARDIOVASCULAR IMAGING        2\n",
              "3       4     BVI 9400         9  ...        150.0            REHAB CENTER        0\n",
              "4       5     BVI 9400         1  ...        150.0            REHAB CENTER        0\n",
              "\n",
              "[5 rows x 11 columns]"
            ]
          },
          "metadata": {
            "tags": []
          },
          "execution_count": 24
        }
      ]
    },
    {
      "cell_type": "code",
      "metadata": {
        "id": "PXlQ-KjQ9R1g",
        "colab_type": "code",
        "outputId": "49b58a80-a09a-4819-f4f9-bb462b98d343",
        "colab": {
          "base_uri": "https://localhost:8080/",
          "height": 504
        }
      },
      "source": [
        "# Urutkan data berdasarkan kolom cluster\n",
        "df1 = df.sort_values(by=['Cluster'])\n",
        "df1"
      ],
      "execution_count": 0,
      "outputs": [
        {
          "output_type": "execute_result",
          "data": {
            "text/html": [
              "<div>\n",
              "<style scoped>\n",
              "    .dataframe tbody tr th:only-of-type {\n",
              "        vertical-align: middle;\n",
              "    }\n",
              "\n",
              "    .dataframe tbody tr th {\n",
              "        vertical-align: top;\n",
              "    }\n",
              "\n",
              "    .dataframe thead th {\n",
              "        text-align: right;\n",
              "    }\n",
              "</style>\n",
              "<table border=\"1\" class=\"dataframe\">\n",
              "  <thead>\n",
              "    <tr style=\"text-align: right;\">\n",
              "      <th></th>\n",
              "      <th>ID Tag</th>\n",
              "      <th>Model</th>\n",
              "      <th>WO count</th>\n",
              "      <th>AVG Labor</th>\n",
              "      <th>Labor Cost</th>\n",
              "      <th>No Problem</th>\n",
              "      <th>Avg Cost</th>\n",
              "      <th>Travel</th>\n",
              "      <th>Travel Cost</th>\n",
              "      <th>Department</th>\n",
              "      <th>Cluster</th>\n",
              "    </tr>\n",
              "  </thead>\n",
              "  <tbody>\n",
              "    <tr>\n",
              "      <th>0</th>\n",
              "      <td>1</td>\n",
              "      <td>MYLAB ALPHA</td>\n",
              "      <td>10</td>\n",
              "      <td>43.333333</td>\n",
              "      <td>54.166667</td>\n",
              "      <td>0</td>\n",
              "      <td>0.000000</td>\n",
              "      <td>2.000000</td>\n",
              "      <td>150.000000</td>\n",
              "      <td>CARDIOVASCULAR IMAGING</td>\n",
              "      <td>0</td>\n",
              "    </tr>\n",
              "    <tr>\n",
              "      <th>104</th>\n",
              "      <td>105</td>\n",
              "      <td>IE33</td>\n",
              "      <td>27</td>\n",
              "      <td>109.777778</td>\n",
              "      <td>137.222222</td>\n",
              "      <td>0</td>\n",
              "      <td>0.000000</td>\n",
              "      <td>1.000000</td>\n",
              "      <td>75.000000</td>\n",
              "      <td>ANESTHESIA</td>\n",
              "      <td>0</td>\n",
              "    </tr>\n",
              "    <tr>\n",
              "      <th>103</th>\n",
              "      <td>104</td>\n",
              "      <td>M2424A</td>\n",
              "      <td>6</td>\n",
              "      <td>105.000000</td>\n",
              "      <td>131.250000</td>\n",
              "      <td>0</td>\n",
              "      <td>0.000000</td>\n",
              "      <td>1.000000</td>\n",
              "      <td>75.000000</td>\n",
              "      <td>ANESTHESIA</td>\n",
              "      <td>0</td>\n",
              "    </tr>\n",
              "    <tr>\n",
              "      <th>102</th>\n",
              "      <td>103</td>\n",
              "      <td>SONOS 4500</td>\n",
              "      <td>15</td>\n",
              "      <td>82.800000</td>\n",
              "      <td>103.500000</td>\n",
              "      <td>0</td>\n",
              "      <td>0.000000</td>\n",
              "      <td>1.000000</td>\n",
              "      <td>75.000000</td>\n",
              "      <td>OPERATING ROOM</td>\n",
              "      <td>0</td>\n",
              "    </tr>\n",
              "    <tr>\n",
              "      <th>165</th>\n",
              "      <td>166</td>\n",
              "      <td>EU-M30</td>\n",
              "      <td>7</td>\n",
              "      <td>49.000000</td>\n",
              "      <td>61.250000</td>\n",
              "      <td>1</td>\n",
              "      <td>0.000000</td>\n",
              "      <td>0.000000</td>\n",
              "      <td>0.000000</td>\n",
              "      <td>ENDOSCOPY</td>\n",
              "      <td>0</td>\n",
              "    </tr>\n",
              "    <tr>\n",
              "      <th>...</th>\n",
              "      <td>...</td>\n",
              "      <td>...</td>\n",
              "      <td>...</td>\n",
              "      <td>...</td>\n",
              "      <td>...</td>\n",
              "      <td>...</td>\n",
              "      <td>...</td>\n",
              "      <td>...</td>\n",
              "      <td>...</td>\n",
              "      <td>...</td>\n",
              "      <td>...</td>\n",
              "    </tr>\n",
              "    <tr>\n",
              "      <th>87</th>\n",
              "      <td>88</td>\n",
              "      <td>LOGIQ E9</td>\n",
              "      <td>52</td>\n",
              "      <td>112.269231</td>\n",
              "      <td>140.336538</td>\n",
              "      <td>0</td>\n",
              "      <td>18.615385</td>\n",
              "      <td>1.000000</td>\n",
              "      <td>75.000000</td>\n",
              "      <td>ULTRASOUND</td>\n",
              "      <td>2</td>\n",
              "    </tr>\n",
              "    <tr>\n",
              "      <th>86</th>\n",
              "      <td>87</td>\n",
              "      <td>SEQUOIA 512</td>\n",
              "      <td>39</td>\n",
              "      <td>110.769231</td>\n",
              "      <td>138.461538</td>\n",
              "      <td>2</td>\n",
              "      <td>54.974359</td>\n",
              "      <td>1.179487</td>\n",
              "      <td>88.461538</td>\n",
              "      <td>PEDIATRIC CARDIOLOGY</td>\n",
              "      <td>2</td>\n",
              "    </tr>\n",
              "    <tr>\n",
              "      <th>79</th>\n",
              "      <td>80</td>\n",
              "      <td>VIVID-I</td>\n",
              "      <td>49</td>\n",
              "      <td>129.795918</td>\n",
              "      <td>162.244898</td>\n",
              "      <td>1</td>\n",
              "      <td>45.002245</td>\n",
              "      <td>1.000000</td>\n",
              "      <td>75.000000</td>\n",
              "      <td>PEDIATRIC CARDIOLOGY</td>\n",
              "      <td>2</td>\n",
              "    </tr>\n",
              "    <tr>\n",
              "      <th>113</th>\n",
              "      <td>114</td>\n",
              "      <td>S5I</td>\n",
              "      <td>40</td>\n",
              "      <td>139.200000</td>\n",
              "      <td>174.000000</td>\n",
              "      <td>0</td>\n",
              "      <td>47.275000</td>\n",
              "      <td>1.000000</td>\n",
              "      <td>75.000000</td>\n",
              "      <td>CATH LAB</td>\n",
              "      <td>2</td>\n",
              "    </tr>\n",
              "    <tr>\n",
              "      <th>97</th>\n",
              "      <td>98</td>\n",
              "      <td>IE33</td>\n",
              "      <td>24</td>\n",
              "      <td>164.250000</td>\n",
              "      <td>205.312500</td>\n",
              "      <td>0</td>\n",
              "      <td>1420.166667</td>\n",
              "      <td>1.000000</td>\n",
              "      <td>75.000000</td>\n",
              "      <td>ANESTHESIA</td>\n",
              "      <td>3</td>\n",
              "    </tr>\n",
              "  </tbody>\n",
              "</table>\n",
              "<p>196 rows × 11 columns</p>\n",
              "</div>"
            ],
            "text/plain": [
              "     ID Tag        Model  ...              Department  Cluster\n",
              "0         1  MYLAB ALPHA  ...  CARDIOVASCULAR IMAGING        0\n",
              "104     105         IE33  ...              ANESTHESIA        0\n",
              "103     104       M2424A  ...              ANESTHESIA        0\n",
              "102     103   SONOS 4500  ...          OPERATING ROOM        0\n",
              "165     166       EU-M30  ...               ENDOSCOPY        0\n",
              "..      ...          ...  ...                     ...      ...\n",
              "87       88     LOGIQ E9  ...              ULTRASOUND        2\n",
              "86       87  SEQUOIA 512  ...    PEDIATRIC CARDIOLOGY        2\n",
              "79       80      VIVID-I  ...    PEDIATRIC CARDIOLOGY        2\n",
              "113     114          S5I  ...                CATH LAB        2\n",
              "97       98         IE33  ...              ANESTHESIA        3\n",
              "\n",
              "[196 rows x 11 columns]"
            ]
          },
          "metadata": {
            "tags": []
          },
          "execution_count": 25
        }
      ]
    },
    {
      "cell_type": "markdown",
      "metadata": {
        "id": "iQTlnkszzTcb",
        "colab_type": "text"
      },
      "source": [
        "# KMeans - Data Pengunjung Mall"
      ]
    },
    {
      "cell_type": "markdown",
      "metadata": {
        "id": "cn_tYw-Szayz",
        "colab_type": "text"
      },
      "source": [
        "Reference :\n",
        "\n",
        "https://www.megabagus.id/k-means-clustering/3/\n",
        "\n",
        "Dataset :\n",
        "\n",
        "https://www.megabagus.id/download/data-k-means-clustering/"
      ]
    },
    {
      "cell_type": "code",
      "metadata": {
        "id": "zu4wvJq8zfL1",
        "colab_type": "code",
        "colab": {}
      },
      "source": [
        "import numpy as np\n",
        "import matplotlib.pyplot as plt\n",
        "import pandas as pd"
      ],
      "execution_count": 0,
      "outputs": []
    },
    {
      "cell_type": "code",
      "metadata": {
        "id": "IBa-6sc9z95z",
        "colab_type": "code",
        "colab": {}
      },
      "source": [
        "# Mengimpor dataset\n",
        "dataset = pd.read_csv('./sample_data/Pengunjung_mall.csv')\n",
        "X = dataset.iloc[:, [3, 4]].values  # melakukan slicing, dari dataset yang dimiliki. Kita hanya memerlukan kolom ke 3 (pendapatan) dan 4 (rating pengeluaran) saja"
      ],
      "execution_count": 0,
      "outputs": []
    },
    {
      "cell_type": "code",
      "metadata": {
        "id": "L7legwXf0ALh",
        "colab_type": "code",
        "outputId": "00075677-0dfb-4752-81bf-811b41fb88a3",
        "colab": {
          "base_uri": "https://localhost:8080/",
          "height": 419
        }
      },
      "source": [
        "dataset"
      ],
      "execution_count": 0,
      "outputs": [
        {
          "output_type": "execute_result",
          "data": {
            "text/html": [
              "<div>\n",
              "<style scoped>\n",
              "    .dataframe tbody tr th:only-of-type {\n",
              "        vertical-align: middle;\n",
              "    }\n",
              "\n",
              "    .dataframe tbody tr th {\n",
              "        vertical-align: top;\n",
              "    }\n",
              "\n",
              "    .dataframe thead th {\n",
              "        text-align: right;\n",
              "    }\n",
              "</style>\n",
              "<table border=\"1\" class=\"dataframe\">\n",
              "  <thead>\n",
              "    <tr style=\"text-align: right;\">\n",
              "      <th></th>\n",
              "      <th>IDPelanggan</th>\n",
              "      <th>Kelamin</th>\n",
              "      <th>Usia</th>\n",
              "      <th>Pendapatan (juta Rp)</th>\n",
              "      <th>Rating_pengeluaran (1-100)</th>\n",
              "    </tr>\n",
              "  </thead>\n",
              "  <tbody>\n",
              "    <tr>\n",
              "      <th>0</th>\n",
              "      <td>1</td>\n",
              "      <td>Laki</td>\n",
              "      <td>19</td>\n",
              "      <td>15</td>\n",
              "      <td>39</td>\n",
              "    </tr>\n",
              "    <tr>\n",
              "      <th>1</th>\n",
              "      <td>2</td>\n",
              "      <td>Laki</td>\n",
              "      <td>21</td>\n",
              "      <td>15</td>\n",
              "      <td>81</td>\n",
              "    </tr>\n",
              "    <tr>\n",
              "      <th>2</th>\n",
              "      <td>3</td>\n",
              "      <td>Perempuan</td>\n",
              "      <td>20</td>\n",
              "      <td>16</td>\n",
              "      <td>6</td>\n",
              "    </tr>\n",
              "    <tr>\n",
              "      <th>3</th>\n",
              "      <td>4</td>\n",
              "      <td>Perempuan</td>\n",
              "      <td>23</td>\n",
              "      <td>16</td>\n",
              "      <td>77</td>\n",
              "    </tr>\n",
              "    <tr>\n",
              "      <th>4</th>\n",
              "      <td>5</td>\n",
              "      <td>Perempuan</td>\n",
              "      <td>31</td>\n",
              "      <td>17</td>\n",
              "      <td>40</td>\n",
              "    </tr>\n",
              "    <tr>\n",
              "      <th>...</th>\n",
              "      <td>...</td>\n",
              "      <td>...</td>\n",
              "      <td>...</td>\n",
              "      <td>...</td>\n",
              "      <td>...</td>\n",
              "    </tr>\n",
              "    <tr>\n",
              "      <th>195</th>\n",
              "      <td>196</td>\n",
              "      <td>Perempuan</td>\n",
              "      <td>35</td>\n",
              "      <td>120</td>\n",
              "      <td>79</td>\n",
              "    </tr>\n",
              "    <tr>\n",
              "      <th>196</th>\n",
              "      <td>197</td>\n",
              "      <td>Perempuan</td>\n",
              "      <td>45</td>\n",
              "      <td>126</td>\n",
              "      <td>28</td>\n",
              "    </tr>\n",
              "    <tr>\n",
              "      <th>197</th>\n",
              "      <td>198</td>\n",
              "      <td>Laki</td>\n",
              "      <td>32</td>\n",
              "      <td>126</td>\n",
              "      <td>74</td>\n",
              "    </tr>\n",
              "    <tr>\n",
              "      <th>198</th>\n",
              "      <td>199</td>\n",
              "      <td>Laki</td>\n",
              "      <td>32</td>\n",
              "      <td>137</td>\n",
              "      <td>18</td>\n",
              "    </tr>\n",
              "    <tr>\n",
              "      <th>199</th>\n",
              "      <td>200</td>\n",
              "      <td>Laki</td>\n",
              "      <td>30</td>\n",
              "      <td>137</td>\n",
              "      <td>83</td>\n",
              "    </tr>\n",
              "  </tbody>\n",
              "</table>\n",
              "<p>200 rows × 5 columns</p>\n",
              "</div>"
            ],
            "text/plain": [
              "     IDPelanggan    Kelamin  ...  Pendapatan (juta Rp)  Rating_pengeluaran (1-100)\n",
              "0              1       Laki  ...                    15                          39\n",
              "1              2       Laki  ...                    15                          81\n",
              "2              3  Perempuan  ...                    16                           6\n",
              "3              4  Perempuan  ...                    16                          77\n",
              "4              5  Perempuan  ...                    17                          40\n",
              "..           ...        ...  ...                   ...                         ...\n",
              "195          196  Perempuan  ...                   120                          79\n",
              "196          197  Perempuan  ...                   126                          28\n",
              "197          198       Laki  ...                   126                          74\n",
              "198          199       Laki  ...                   137                          18\n",
              "199          200       Laki  ...                   137                          83\n",
              "\n",
              "[200 rows x 5 columns]"
            ]
          },
          "metadata": {
            "tags": []
          },
          "execution_count": 28
        }
      ]
    },
    {
      "cell_type": "code",
      "metadata": {
        "id": "ugNYmxhk0CSl",
        "colab_type": "code",
        "outputId": "1e7a3557-2900-4e02-b9e8-23ed20e82460",
        "colab": {
          "base_uri": "https://localhost:8080/",
          "height": 1000
        }
      },
      "source": [
        "X"
      ],
      "execution_count": 0,
      "outputs": [
        {
          "output_type": "execute_result",
          "data": {
            "text/plain": [
              "array([[ 15,  39],\n",
              "       [ 15,  81],\n",
              "       [ 16,   6],\n",
              "       [ 16,  77],\n",
              "       [ 17,  40],\n",
              "       [ 17,  76],\n",
              "       [ 18,   6],\n",
              "       [ 18,  94],\n",
              "       [ 19,   3],\n",
              "       [ 19,  72],\n",
              "       [ 19,  14],\n",
              "       [ 19,  99],\n",
              "       [ 20,  15],\n",
              "       [ 20,  77],\n",
              "       [ 20,  13],\n",
              "       [ 20,  79],\n",
              "       [ 21,  35],\n",
              "       [ 21,  66],\n",
              "       [ 23,  29],\n",
              "       [ 23,  98],\n",
              "       [ 24,  35],\n",
              "       [ 24,  73],\n",
              "       [ 25,   5],\n",
              "       [ 25,  73],\n",
              "       [ 28,  14],\n",
              "       [ 28,  82],\n",
              "       [ 28,  32],\n",
              "       [ 28,  61],\n",
              "       [ 29,  31],\n",
              "       [ 29,  87],\n",
              "       [ 30,   4],\n",
              "       [ 30,  73],\n",
              "       [ 33,   4],\n",
              "       [ 33,  92],\n",
              "       [ 33,  14],\n",
              "       [ 33,  81],\n",
              "       [ 34,  17],\n",
              "       [ 34,  73],\n",
              "       [ 37,  26],\n",
              "       [ 37,  75],\n",
              "       [ 38,  35],\n",
              "       [ 38,  92],\n",
              "       [ 39,  36],\n",
              "       [ 39,  61],\n",
              "       [ 39,  28],\n",
              "       [ 39,  65],\n",
              "       [ 40,  55],\n",
              "       [ 40,  47],\n",
              "       [ 40,  42],\n",
              "       [ 40,  42],\n",
              "       [ 42,  52],\n",
              "       [ 42,  60],\n",
              "       [ 43,  54],\n",
              "       [ 43,  60],\n",
              "       [ 43,  45],\n",
              "       [ 43,  41],\n",
              "       [ 44,  50],\n",
              "       [ 44,  46],\n",
              "       [ 46,  51],\n",
              "       [ 46,  46],\n",
              "       [ 46,  56],\n",
              "       [ 46,  55],\n",
              "       [ 47,  52],\n",
              "       [ 47,  59],\n",
              "       [ 48,  51],\n",
              "       [ 48,  59],\n",
              "       [ 48,  50],\n",
              "       [ 48,  48],\n",
              "       [ 48,  59],\n",
              "       [ 48,  47],\n",
              "       [ 49,  55],\n",
              "       [ 49,  42],\n",
              "       [ 50,  49],\n",
              "       [ 50,  56],\n",
              "       [ 54,  47],\n",
              "       [ 54,  54],\n",
              "       [ 54,  53],\n",
              "       [ 54,  48],\n",
              "       [ 54,  52],\n",
              "       [ 54,  42],\n",
              "       [ 54,  51],\n",
              "       [ 54,  55],\n",
              "       [ 54,  41],\n",
              "       [ 54,  44],\n",
              "       [ 54,  57],\n",
              "       [ 54,  46],\n",
              "       [ 57,  58],\n",
              "       [ 57,  55],\n",
              "       [ 58,  60],\n",
              "       [ 58,  46],\n",
              "       [ 59,  55],\n",
              "       [ 59,  41],\n",
              "       [ 60,  49],\n",
              "       [ 60,  40],\n",
              "       [ 60,  42],\n",
              "       [ 60,  52],\n",
              "       [ 60,  47],\n",
              "       [ 60,  50],\n",
              "       [ 61,  42],\n",
              "       [ 61,  49],\n",
              "       [ 62,  41],\n",
              "       [ 62,  48],\n",
              "       [ 62,  59],\n",
              "       [ 62,  55],\n",
              "       [ 62,  56],\n",
              "       [ 62,  42],\n",
              "       [ 63,  50],\n",
              "       [ 63,  46],\n",
              "       [ 63,  43],\n",
              "       [ 63,  48],\n",
              "       [ 63,  52],\n",
              "       [ 63,  54],\n",
              "       [ 64,  42],\n",
              "       [ 64,  46],\n",
              "       [ 65,  48],\n",
              "       [ 65,  50],\n",
              "       [ 65,  43],\n",
              "       [ 65,  59],\n",
              "       [ 67,  43],\n",
              "       [ 67,  57],\n",
              "       [ 67,  56],\n",
              "       [ 67,  40],\n",
              "       [ 69,  58],\n",
              "       [ 69,  91],\n",
              "       [ 70,  29],\n",
              "       [ 70,  77],\n",
              "       [ 71,  35],\n",
              "       [ 71,  95],\n",
              "       [ 71,  11],\n",
              "       [ 71,  75],\n",
              "       [ 71,   9],\n",
              "       [ 71,  75],\n",
              "       [ 72,  34],\n",
              "       [ 72,  71],\n",
              "       [ 73,   5],\n",
              "       [ 73,  88],\n",
              "       [ 73,   7],\n",
              "       [ 73,  73],\n",
              "       [ 74,  10],\n",
              "       [ 74,  72],\n",
              "       [ 75,   5],\n",
              "       [ 75,  93],\n",
              "       [ 76,  40],\n",
              "       [ 76,  87],\n",
              "       [ 77,  12],\n",
              "       [ 77,  97],\n",
              "       [ 77,  36],\n",
              "       [ 77,  74],\n",
              "       [ 78,  22],\n",
              "       [ 78,  90],\n",
              "       [ 78,  17],\n",
              "       [ 78,  88],\n",
              "       [ 78,  20],\n",
              "       [ 78,  76],\n",
              "       [ 78,  16],\n",
              "       [ 78,  89],\n",
              "       [ 78,   1],\n",
              "       [ 78,  78],\n",
              "       [ 78,   1],\n",
              "       [ 78,  73],\n",
              "       [ 79,  35],\n",
              "       [ 79,  83],\n",
              "       [ 81,   5],\n",
              "       [ 81,  93],\n",
              "       [ 85,  26],\n",
              "       [ 85,  75],\n",
              "       [ 86,  20],\n",
              "       [ 86,  95],\n",
              "       [ 87,  27],\n",
              "       [ 87,  63],\n",
              "       [ 87,  13],\n",
              "       [ 87,  75],\n",
              "       [ 87,  10],\n",
              "       [ 87,  92],\n",
              "       [ 88,  13],\n",
              "       [ 88,  86],\n",
              "       [ 88,  15],\n",
              "       [ 88,  69],\n",
              "       [ 93,  14],\n",
              "       [ 93,  90],\n",
              "       [ 97,  32],\n",
              "       [ 97,  86],\n",
              "       [ 98,  15],\n",
              "       [ 98,  88],\n",
              "       [ 99,  39],\n",
              "       [ 99,  97],\n",
              "       [101,  24],\n",
              "       [101,  68],\n",
              "       [103,  17],\n",
              "       [103,  85],\n",
              "       [103,  23],\n",
              "       [103,  69],\n",
              "       [113,   8],\n",
              "       [113,  91],\n",
              "       [120,  16],\n",
              "       [120,  79],\n",
              "       [126,  28],\n",
              "       [126,  74],\n",
              "       [137,  18],\n",
              "       [137,  83]])"
            ]
          },
          "metadata": {
            "tags": []
          },
          "execution_count": 29
        }
      ]
    },
    {
      "cell_type": "code",
      "metadata": {
        "id": "2T0TOVd00FmJ",
        "colab_type": "code",
        "outputId": "8ef955f7-2d06-430b-87db-e526fc1ada33",
        "colab": {
          "base_uri": "https://localhost:8080/",
          "height": 295
        }
      },
      "source": [
        "# Menggunakan metode elbow untuk menentukan angka cluster yang tepat\n",
        "from sklearn.cluster import KMeans\n",
        "wcss = []\n",
        "# perintah looping, perlu diingat bahwa kita ingin melakukan looping 10 kali. Oleh karena itu di python ditulis range(1,11), \n",
        "# karena angka 11 tidak diikutkan oleh python. Sehingga jika ingin iterasi sebanyak 21 kali misalnya, maka penulisannya range (1,22).\n",
        "# Line 14 adalah menuliskan objek kmeans untuk melakukan algoritma K-Means. Selanjutnya perintah pertama adalah KMeans (kapital K dan M), \n",
        "# yang merupakan class dari library K-Means yang diimpor di line 11, dengan beberapa parameter n_clusters yang merupakan jumlah kluster, \n",
        "# diikuti dengan parameter kedua init yang merupakan pemilihan jumlah K di awal (kali ini kita gunakan K++, agar tidak terkena jebakan centroid. \n",
        "# Kemudian parameter yang terakhir adalah random_state = 42. Random state ini seperti seed pada R, yang jika dipilih 42, maka ketika kita memilih 42 \n",
        "# di kesempatan yang berbeda, maka bilangan random yang dihasilkan akan sama. Tips: Arahkan kurson pada KMeans, lalu ketik CTRL+i pada keyboard untuk \n",
        "# menampilkan parameter apa saja yang diperlukan.\n",
        "for i in range(1, 11):\n",
        "    kmeans = KMeans(n_clusters = i, init = 'k-means++', random_state = 42)\n",
        "    kmeans.fit(X)\n",
        "    wcss.append(kmeans.inertia_)\n",
        "plt.plot(range(1, 11), wcss)\n",
        "plt.title('Metode Elbow')\n",
        "plt.xlabel('Jumlah clusters')\n",
        "plt.ylabel('WCSS')\n",
        "plt.show()"
      ],
      "execution_count": 0,
      "outputs": [
        {
          "output_type": "display_data",
          "data": {
            "image/png": "[encoded data removed]",
            "text/plain": [
              "<Figure size 432x288 with 1 Axes>"
            ]
          },
          "metadata": {
            "tags": []
          }
        }
      ]
    },
    {
      "cell_type": "markdown",
      "metadata": {
        "id": "R0QwEG900Jbw",
        "colab_type": "text"
      },
      "source": [
        "\n",
        "\n",
        "---\n",
        "\n",
        "Melalui gambar di atas, dapat dilihat bahwa bentuk elbow (siku) terlihat saat jumlah kluster adalah 5. Oleh karena itu, kita tentukan bahwa jumlah K yang baik adalah 5.\n",
        "\n",
        "Note: Jika pembaca berpendapat bahwa bentuk siku juga terlihat pada K=3, maka itu juga benar. Dalam kondisi seperti ini, di mana K=3 dan K=5 menunjukkan bentuk siku, kita pilih yang nilai K nya lebih besar, dalam hal ini K=5."
      ]
    },
    {
      "cell_type": "code",
      "metadata": {
        "id": "ym5UrDD50LsK",
        "colab_type": "code",
        "colab": {}
      },
      "source": [
        "# Menjalankan K-Means Clustering ke dataset\n",
        "kmeans = KMeans(n_clusters = 5, init = 'k-means++', random_state = 42)\n",
        "y_kmeans = kmeans.fit_predict(X)"
      ],
      "execution_count": 0,
      "outputs": []
    },
    {
      "cell_type": "code",
      "metadata": {
        "id": "ZxMfkvy00N3B",
        "colab_type": "code",
        "outputId": "3feaaf74-b6a3-4f11-b926-c820bb199455",
        "colab": {
          "base_uri": "https://localhost:8080/",
          "height": 295
        }
      },
      "source": [
        "# Visualisasi hasil clusters\n",
        "plt.scatter(X[y_kmeans == 0, 0], X[y_kmeans == 0, 1], s = 100, c = 'red', label = 'Cluster 1')\n",
        "plt.scatter(X[y_kmeans == 1, 0], X[y_kmeans == 1, 1], s = 100, c = 'blue', label = 'Cluster 2')\n",
        "plt.scatter(X[y_kmeans == 2, 0], X[y_kmeans == 2, 1], s = 100, c = 'green', label = 'Cluster 3')\n",
        "plt.scatter(X[y_kmeans == 3, 0], X[y_kmeans == 3, 1], s = 100, c = 'cyan', label = 'Cluster 4')\n",
        "plt.scatter(X[y_kmeans == 4, 0], X[y_kmeans == 4, 1], s = 100, c = 'magenta', label = 'Cluster 5')\n",
        "plt.scatter(kmeans.cluster_centers_[:, 0], kmeans.cluster_centers_[:, 1], s = 300, c = 'yellow', label = 'Centroids')\n",
        "plt.title('Clusters pelanggan')\n",
        "plt.xlabel('Pendapatan tahunan (juta Rupiah)')\n",
        "plt.ylabel('Rating pengeluaran (1-100)')\n",
        "plt.legend()\n",
        "plt.show()"
      ],
      "execution_count": 0,
      "outputs": [
        {
          "output_type": "display_data",
          "data": {
            "image/png": "[encoded data removed]",
            "text/plain": [
              "<Figure size 432x288 with 1 Axes>"
            ]
          },
          "metadata": {
            "tags": []
          }
        }
      ]
    }
  ]
}