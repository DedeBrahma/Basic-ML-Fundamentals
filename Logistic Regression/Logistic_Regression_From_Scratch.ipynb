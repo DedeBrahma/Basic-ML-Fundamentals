{
  "nbformat": 4,
  "nbformat_minor": 0,
  "metadata": {
    "colab": {
      "name": "Logistic Regression From Scratch.ipynb",
      "provenance": [],
      "collapsed_sections": [
        "jxJVDRjgCtg1",
        "QD6TXMk3C-lR",
        "asby_MI2EBye",
        "ruwHvGsDMYuA",
        "UNkkTdEFSwuc",
        "9kMDJo7fLtHc",
        "oOduhANbTAsN",
        "0taxHI1CgUiO",
        "LZQJVLepRtTW",
        "vetvlJflSNzM"
      ],
      "toc_visible": true,
      "authorship_tag": "ABX9TyNi/ejccXUBIfeTE8F0oF39"
    },
    "kernelspec": {
      "name": "python3",
      "display_name": "Python 3"
    }
  },
  "cells": [
    {
      "cell_type": "markdown",
      "metadata": {
        "id": "0JcRMxi6AwaH",
        "colab_type": "text"
      },
      "source": [
        "Reference : https://towardsdatascience.com/building-a-logistic-regression-in-python-step-by-step-becd4d56c9c8\n",
        "\n",
        "Dataset : https://raw.githubusercontent.com/madmashup/targeted-marketing-predictive-engine/master/banking.csv\n",
        "\n"
      ]
    },
    {
      "cell_type": "code",
      "metadata": {
        "id": "GH-h9SPUAosQ",
        "colab_type": "code",
        "colab": {}
      },
      "source": [
        "import pandas as pd\n",
        "import numpy as np\n",
        "from sklearn import preprocessing\n",
        "import matplotlib.pyplot as plt\n",
        "plt.rc(\"font\", size=14)\n",
        "from sklearn.linear_model import LogisticRegression\n",
        "from sklearn.model_selection import train_test_split\n",
        "import seaborn as sns\n",
        "sns.set(style=\"white\")\n",
        "sns.set(style=\"whitegrid\", color_codes=True)"
      ],
      "execution_count": 0,
      "outputs": []
    },
    {
      "cell_type": "markdown",
      "metadata": {
        "id": "jxJVDRjgCtg1",
        "colab_type": "text"
      },
      "source": [
        "# Masukkan Dataset"
      ]
    },
    {
      "cell_type": "code",
      "metadata": {
        "id": "y2pZ8kRhB1rb",
        "colab_type": "code",
        "outputId": "b0eeb47d-f79d-4ff2-88ff-57de6b5c7b77",
        "colab": {
          "base_uri": "https://localhost:8080/"
        }
      },
      "source": [
        "data = pd.read_csv('./sample_data/banking.csv', header=0)\n",
        "data = data.dropna()\n",
        "print(data.shape)\n",
        "print(list(data.columns))"
      ],
      "execution_count": 0,
      "outputs": [
        {
          "output_type": "stream",
          "text": [
            "(8840, 21)\n",
            "['age', 'job', 'marital', 'education', 'default', 'housing', 'loan', 'contact', 'month', 'day_of_week', 'duration', 'campaign', 'pdays', 'previous', 'poutcome', 'emp_var_rate', 'cons_price_idx', 'cons_conf_idx', 'euribor3m', 'nr_employed', 'y']\n"
          ],
          "name": "stdout"
        }
      ]
    },
    {
      "cell_type": "markdown",
      "metadata": {
        "id": "fHbPAfYYFwAu",
        "colab_type": "text"
      },
      "source": [
        "Keterangan :\n",
        "\n",
        "*   Ada 41188 baris, jumlah record data\n",
        "*   Dan 21 kolom variabel data"
      ]
    },
    {
      "cell_type": "code",
      "metadata": {
        "id": "A17FyFC8CjPS",
        "colab_type": "code",
        "outputId": "6df05cb9-47be-4177-e751-2f9a947652cd",
        "colab": {
          "base_uri": "https://localhost:8080/"
        }
      },
      "source": [
        "data.head()"
      ],
      "execution_count": 0,
      "outputs": [
        {
          "output_type": "execute_result",
          "data": {
            "text/html": [
              "<div>\n",
              "<style scoped>\n",
              "    .dataframe tbody tr th:only-of-type {\n",
              "        vertical-align: middle;\n",
              "    }\n",
              "\n",
              "    .dataframe tbody tr th {\n",
              "        vertical-align: top;\n",
              "    }\n",
              "\n",
              "    .dataframe thead th {\n",
              "        text-align: right;\n",
              "    }\n",
              "</style>\n",
              "<table border=\"1\" class=\"dataframe\">\n",
              "  <thead>\n",
              "    <tr style=\"text-align: right;\">\n",
              "      <th></th>\n",
              "      <th>age</th>\n",
              "      <th>job</th>\n",
              "      <th>marital</th>\n",
              "      <th>education</th>\n",
              "      <th>default</th>\n",
              "      <th>housing</th>\n",
              "      <th>loan</th>\n",
              "      <th>contact</th>\n",
              "      <th>month</th>\n",
              "      <th>day_of_week</th>\n",
              "      <th>duration</th>\n",
              "      <th>campaign</th>\n",
              "      <th>pdays</th>\n",
              "      <th>previous</th>\n",
              "      <th>poutcome</th>\n",
              "      <th>emp_var_rate</th>\n",
              "      <th>cons_price_idx</th>\n",
              "      <th>cons_conf_idx</th>\n",
              "      <th>euribor3m</th>\n",
              "      <th>nr_employed</th>\n",
              "      <th>y</th>\n",
              "    </tr>\n",
              "  </thead>\n",
              "  <tbody>\n",
              "    <tr>\n",
              "      <th>0</th>\n",
              "      <td>44</td>\n",
              "      <td>blue-collar</td>\n",
              "      <td>married</td>\n",
              "      <td>basic.4y</td>\n",
              "      <td>unknown</td>\n",
              "      <td>yes</td>\n",
              "      <td>no</td>\n",
              "      <td>cellular</td>\n",
              "      <td>aug</td>\n",
              "      <td>thu</td>\n",
              "      <td>210</td>\n",
              "      <td>1</td>\n",
              "      <td>999</td>\n",
              "      <td>0</td>\n",
              "      <td>nonexistent</td>\n",
              "      <td>1.4</td>\n",
              "      <td>93.444</td>\n",
              "      <td>-36.1</td>\n",
              "      <td>4.963</td>\n",
              "      <td>5228.1</td>\n",
              "      <td>0.0</td>\n",
              "    </tr>\n",
              "    <tr>\n",
              "      <th>1</th>\n",
              "      <td>53</td>\n",
              "      <td>technician</td>\n",
              "      <td>married</td>\n",
              "      <td>unknown</td>\n",
              "      <td>no</td>\n",
              "      <td>no</td>\n",
              "      <td>no</td>\n",
              "      <td>cellular</td>\n",
              "      <td>nov</td>\n",
              "      <td>fri</td>\n",
              "      <td>138</td>\n",
              "      <td>1</td>\n",
              "      <td>999</td>\n",
              "      <td>0</td>\n",
              "      <td>nonexistent</td>\n",
              "      <td>-0.1</td>\n",
              "      <td>93.200</td>\n",
              "      <td>-42.0</td>\n",
              "      <td>4.021</td>\n",
              "      <td>5195.8</td>\n",
              "      <td>0.0</td>\n",
              "    </tr>\n",
              "    <tr>\n",
              "      <th>2</th>\n",
              "      <td>28</td>\n",
              "      <td>management</td>\n",
              "      <td>single</td>\n",
              "      <td>university.degree</td>\n",
              "      <td>no</td>\n",
              "      <td>yes</td>\n",
              "      <td>no</td>\n",
              "      <td>cellular</td>\n",
              "      <td>jun</td>\n",
              "      <td>thu</td>\n",
              "      <td>339</td>\n",
              "      <td>3</td>\n",
              "      <td>6</td>\n",
              "      <td>2</td>\n",
              "      <td>success</td>\n",
              "      <td>-1.7</td>\n",
              "      <td>94.055</td>\n",
              "      <td>-39.8</td>\n",
              "      <td>0.729</td>\n",
              "      <td>4991.6</td>\n",
              "      <td>1.0</td>\n",
              "    </tr>\n",
              "    <tr>\n",
              "      <th>3</th>\n",
              "      <td>39</td>\n",
              "      <td>services</td>\n",
              "      <td>married</td>\n",
              "      <td>high.school</td>\n",
              "      <td>no</td>\n",
              "      <td>no</td>\n",
              "      <td>no</td>\n",
              "      <td>cellular</td>\n",
              "      <td>apr</td>\n",
              "      <td>fri</td>\n",
              "      <td>185</td>\n",
              "      <td>2</td>\n",
              "      <td>999</td>\n",
              "      <td>0</td>\n",
              "      <td>nonexistent</td>\n",
              "      <td>-1.8</td>\n",
              "      <td>93.075</td>\n",
              "      <td>-47.1</td>\n",
              "      <td>1.405</td>\n",
              "      <td>5099.1</td>\n",
              "      <td>0.0</td>\n",
              "    </tr>\n",
              "    <tr>\n",
              "      <th>4</th>\n",
              "      <td>55</td>\n",
              "      <td>retired</td>\n",
              "      <td>married</td>\n",
              "      <td>basic.4y</td>\n",
              "      <td>no</td>\n",
              "      <td>yes</td>\n",
              "      <td>no</td>\n",
              "      <td>cellular</td>\n",
              "      <td>aug</td>\n",
              "      <td>fri</td>\n",
              "      <td>137</td>\n",
              "      <td>1</td>\n",
              "      <td>3</td>\n",
              "      <td>1</td>\n",
              "      <td>success</td>\n",
              "      <td>-2.9</td>\n",
              "      <td>92.201</td>\n",
              "      <td>-31.4</td>\n",
              "      <td>0.869</td>\n",
              "      <td>5076.2</td>\n",
              "      <td>1.0</td>\n",
              "    </tr>\n",
              "  </tbody>\n",
              "</table>\n",
              "</div>"
            ],
            "text/plain": [
              "   age          job  marital  ... euribor3m nr_employed    y\n",
              "0   44  blue-collar  married  ...     4.963      5228.1  0.0\n",
              "1   53   technician  married  ...     4.021      5195.8  0.0\n",
              "2   28   management   single  ...     0.729      4991.6  1.0\n",
              "3   39     services  married  ...     1.405      5099.1  0.0\n",
              "4   55      retired  married  ...     0.869      5076.2  1.0\n",
              "\n",
              "[5 rows x 21 columns]"
            ]
          },
          "metadata": {
            "tags": []
          },
          "execution_count": 3
        }
      ]
    },
    {
      "cell_type": "markdown",
      "metadata": {
        "id": "X1tWgl80DBkS",
        "colab_type": "text"
      },
      "source": [
        "**LIHAT :**\n",
        "\n",
        "pada kolom variabel `Y` -> (\"0\" = \"No\", \"1\" = \"Yes\") \n",
        "\n",
        "Merupakan variabel yang berisi prediksi apakah nasabah mau melakukan pinjaman atau tidak."
      ]
    },
    {
      "cell_type": "markdown",
      "metadata": {
        "id": "QD6TXMk3C-lR",
        "colab_type": "text"
      },
      "source": [
        "# Normalisasi variabel"
      ]
    },
    {
      "cell_type": "markdown",
      "metadata": {
        "id": "ZWE2V7uSHCU8",
        "colab_type": "text"
      },
      "source": [
        "Pada kolom education terdapat beberapa kategori yang hampir sama didalamnya. Kita lakukan normalisasi dengan menggabungkan kategori yang sama."
      ]
    },
    {
      "cell_type": "code",
      "metadata": {
        "id": "kwXgzfsgC1b1",
        "colab_type": "code",
        "outputId": "1a2b9620-060a-4789-b03d-e7a51899d1c5",
        "colab": {
          "base_uri": "https://localhost:8080/",
          "height": 68
        }
      },
      "source": [
        "data['education'].unique()"
      ],
      "execution_count": 0,
      "outputs": [
        {
          "output_type": "execute_result",
          "data": {
            "text/plain": [
              "array(['basic.4y', 'unknown', 'university.degree', 'high.school',\n",
              "       'basic.9y', 'professional.course', 'basic.6y', 'illiterate'],\n",
              "      dtype=object)"
            ]
          },
          "metadata": {
            "tags": []
          },
          "execution_count": 4
        }
      ]
    },
    {
      "cell_type": "code",
      "metadata": {
        "id": "PlMfzjmBCk6N",
        "colab_type": "code",
        "colab": {}
      },
      "source": [
        "data['education'] = np.where(data['education'] == 'basic.9y', 'Basic', data['education'])\n",
        "data['education'] = np.where(data['education'] == 'basic.6y', 'Basic', data['education'])\n",
        "data['education'] = np.where(data['education'] == 'basic.4y', 'Basic', data['education'])"
      ],
      "execution_count": 0,
      "outputs": []
    },
    {
      "cell_type": "code",
      "metadata": {
        "id": "eCwbl5B2DwOv",
        "colab_type": "code",
        "outputId": "86770ec2-6f9f-4ff1-e0f5-fdcc10fe6e3c",
        "colab": {
          "base_uri": "https://localhost:8080/",
          "height": 51
        }
      },
      "source": [
        "data['education'].unique()"
      ],
      "execution_count": 0,
      "outputs": [
        {
          "output_type": "execute_result",
          "data": {
            "text/plain": [
              "array(['Basic', 'unknown', 'university.degree', 'high.school',\n",
              "       'professional.course', 'illiterate'], dtype=object)"
            ]
          },
          "metadata": {
            "tags": []
          },
          "execution_count": 6
        }
      ]
    },
    {
      "cell_type": "markdown",
      "metadata": {
        "id": "asby_MI2EBye",
        "colab_type": "text"
      },
      "source": [
        "# Eksplorasi Data "
      ]
    },
    {
      "cell_type": "markdown",
      "metadata": {
        "id": "77-kZaafHXbO",
        "colab_type": "text"
      },
      "source": [
        "Sekarang kita coba visualisasikan jumlah nasabah yang di `menerima` dan `tidak` untuk pengajuan deposit"
      ]
    },
    {
      "cell_type": "code",
      "metadata": {
        "id": "RB8AkMwYEC5O",
        "colab_type": "code",
        "outputId": "79e0f9d3-a3ca-44de-d156-1448544b2180",
        "colab": {
          "base_uri": "https://localhost:8080/",
          "height": 68
        }
      },
      "source": [
        "data['y'].value_counts()"
      ],
      "execution_count": 0,
      "outputs": [
        {
          "output_type": "execute_result",
          "data": {
            "text/plain": [
              "0.0    7843\n",
              "1.0     997\n",
              "Name: y, dtype: int64"
            ]
          },
          "metadata": {
            "tags": []
          },
          "execution_count": 7
        }
      ]
    },
    {
      "cell_type": "code",
      "metadata": {
        "id": "2DZy_ET6EIIB",
        "colab_type": "code",
        "outputId": "2a983ec5-f01a-49be-c130-c1de84e2a068",
        "colab": {
          "base_uri": "https://localhost:8080/",
          "height": 302
        }
      },
      "source": [
        "sns.countplot(x='y', data=data, palette='hls')\n",
        "plt.show()\n",
        "plt.savefig('count_plot')"
      ],
      "execution_count": 0,
      "outputs": [
        {
          "output_type": "display_data",
          "data": {
            "image/png": "[encoded data removed]",
            "text/plain": [
              "<Figure size 432x288 with 1 Axes>"
            ]
          },
          "metadata": {
            "tags": []
          }
        },
        {
          "output_type": "display_data",
          "data": {
            "text/plain": [
              "<Figure size 432x288 with 0 Axes>"
            ]
          },
          "metadata": {
            "tags": []
          }
        }
      ]
    },
    {
      "cell_type": "markdown",
      "metadata": {
        "id": "yoVllOkJH6PP",
        "colab_type": "text"
      },
      "source": [
        "\n",
        "\n",
        "---\n",
        "\n",
        "Kemudian kita coba hitung `persentase` perbandingan antara nasabah yang menerima dan tidak"
      ]
    },
    {
      "cell_type": "code",
      "metadata": {
        "id": "UkehRQQYESly",
        "colab_type": "code",
        "outputId": "b216071f-b8c9-4cb5-ce81-2ee95f6f69c7",
        "colab": {
          "base_uri": "https://localhost:8080/",
          "height": 51
        }
      },
      "source": [
        "count_no_sub = len(data[data['y'] == 0])\n",
        "count_sub = len(data[data['y'] == 1])\n",
        "pct_of_no_sub = count_no_sub/(count_no_sub+count_sub)\n",
        "print(\"Percentage of no subscription is\", pct_of_no_sub*100)\n",
        "pct_of_sub = count_sub/(count_no_sub+count_sub)\n",
        "print(\"Percentage of Subscription\", pct_of_sub * 100)"
      ],
      "execution_count": 0,
      "outputs": [
        {
          "output_type": "stream",
          "text": [
            "Percentage of no subscription is 88.72171945701356\n",
            "Percentage of Subscription 11.278280542986426\n"
          ],
          "name": "stdout"
        }
      ]
    },
    {
      "cell_type": "markdown",
      "metadata": {
        "id": "vJjCpGoqFIIK",
        "colab_type": "text"
      },
      "source": [
        "Hasil persentase menunjukkan TIDAK SEIMBANG\n",
        "\n",
        "dengan jumlah perbandingan 89:11\n",
        "\n",
        "\n",
        "---\n",
        "\n",
        "Mari kita coba lihat dari pengelompokkan pada setiap variabel berdasarkan `Y`"
      ]
    },
    {
      "cell_type": "code",
      "metadata": {
        "id": "ezV0I2lmFJmN",
        "colab_type": "code",
        "outputId": "bed08eb7-dbe5-48b3-a5c3-844ab8e0da16",
        "colab": {
          "base_uri": "https://localhost:8080/",
          "height": 142
        }
      },
      "source": [
        "data.groupby('y').mean()"
      ],
      "execution_count": 0,
      "outputs": [
        {
          "output_type": "execute_result",
          "data": {
            "text/html": [
              "<div>\n",
              "<style scoped>\n",
              "    .dataframe tbody tr th:only-of-type {\n",
              "        vertical-align: middle;\n",
              "    }\n",
              "\n",
              "    .dataframe tbody tr th {\n",
              "        vertical-align: top;\n",
              "    }\n",
              "\n",
              "    .dataframe thead th {\n",
              "        text-align: right;\n",
              "    }\n",
              "</style>\n",
              "<table border=\"1\" class=\"dataframe\">\n",
              "  <thead>\n",
              "    <tr style=\"text-align: right;\">\n",
              "      <th></th>\n",
              "      <th>age</th>\n",
              "      <th>duration</th>\n",
              "      <th>campaign</th>\n",
              "      <th>pdays</th>\n",
              "      <th>previous</th>\n",
              "      <th>emp_var_rate</th>\n",
              "      <th>cons_price_idx</th>\n",
              "      <th>cons_conf_idx</th>\n",
              "      <th>euribor3m</th>\n",
              "      <th>nr_employed</th>\n",
              "    </tr>\n",
              "    <tr>\n",
              "      <th>y</th>\n",
              "      <th></th>\n",
              "      <th></th>\n",
              "      <th></th>\n",
              "      <th></th>\n",
              "      <th></th>\n",
              "      <th></th>\n",
              "      <th></th>\n",
              "      <th></th>\n",
              "      <th></th>\n",
              "      <th></th>\n",
              "    </tr>\n",
              "  </thead>\n",
              "  <tbody>\n",
              "    <tr>\n",
              "      <th>0.0</th>\n",
              "      <td>39.775469</td>\n",
              "      <td>221.331888</td>\n",
              "      <td>2.636364</td>\n",
              "      <td>983.69374</td>\n",
              "      <td>0.135662</td>\n",
              "      <td>0.250312</td>\n",
              "      <td>93.606047</td>\n",
              "      <td>-40.642012</td>\n",
              "      <td>3.806136</td>\n",
              "      <td>5176.142560</td>\n",
              "    </tr>\n",
              "    <tr>\n",
              "      <th>1.0</th>\n",
              "      <td>40.413240</td>\n",
              "      <td>542.130391</td>\n",
              "      <td>2.012036</td>\n",
              "      <td>793.89669</td>\n",
              "      <td>0.509529</td>\n",
              "      <td>-1.261886</td>\n",
              "      <td>93.377747</td>\n",
              "      <td>-40.076830</td>\n",
              "      <td>2.076707</td>\n",
              "      <td>5092.090471</td>\n",
              "    </tr>\n",
              "  </tbody>\n",
              "</table>\n",
              "</div>"
            ],
            "text/plain": [
              "           age    duration  campaign  ...  cons_conf_idx  euribor3m  nr_employed\n",
              "y                                     ...                                       \n",
              "0.0  39.775469  221.331888  2.636364  ...     -40.642012   3.806136  5176.142560\n",
              "1.0  40.413240  542.130391  2.012036  ...     -40.076830   2.076707  5092.090471\n",
              "\n",
              "[2 rows x 10 columns]"
            ]
          },
          "metadata": {
            "tags": []
          },
          "execution_count": 10
        }
      ]
    },
    {
      "cell_type": "markdown",
      "metadata": {
        "id": "4VQ1BH8wJ0EF",
        "colab_type": "text"
      },
      "source": [
        "Keterangan :\n",
        "\n",
        "\n",
        "*   Rata-rata usia yang menerima deposit lebih tinggi dibandingkan rata-rat usia yang menolak pinjaman.\n",
        "*   variabel `pdays` -> hari terakhir melakukan contact via telephon. semakin sedikit jarak antara panggilan telephone terakhir, maka semakin meningkatkan customer untuk melakukan pinjaman.\n",
        "*   Jumlah panggilan selama kampanye justru lebih rendah untuk customer yang menerima pinjaman.\n",
        "\n",
        "\n",
        "---\n",
        "\n",
        "Mari kita coba lihat dari pengelompokkan pada setiap variabel berdasarkan `JOB` , `MARITAL` , `EDUCATION`"
      ]
    },
    {
      "cell_type": "code",
      "metadata": {
        "id": "7wWtHD8aFPtx",
        "colab_type": "code",
        "outputId": "bc4bea1a-7f3f-45e1-8dbb-2c44ebd58f7a",
        "colab": {
          "base_uri": "https://localhost:8080/",
          "height": 452
        }
      },
      "source": [
        "data.groupby('job').mean()"
      ],
      "execution_count": 0,
      "outputs": [
        {
          "output_type": "execute_result",
          "data": {
            "text/html": [
              "<div>\n",
              "<style scoped>\n",
              "    .dataframe tbody tr th:only-of-type {\n",
              "        vertical-align: middle;\n",
              "    }\n",
              "\n",
              "    .dataframe tbody tr th {\n",
              "        vertical-align: top;\n",
              "    }\n",
              "\n",
              "    .dataframe thead th {\n",
              "        text-align: right;\n",
              "    }\n",
              "</style>\n",
              "<table border=\"1\" class=\"dataframe\">\n",
              "  <thead>\n",
              "    <tr style=\"text-align: right;\">\n",
              "      <th></th>\n",
              "      <th>age</th>\n",
              "      <th>duration</th>\n",
              "      <th>campaign</th>\n",
              "      <th>pdays</th>\n",
              "      <th>previous</th>\n",
              "      <th>emp_var_rate</th>\n",
              "      <th>cons_price_idx</th>\n",
              "      <th>cons_conf_idx</th>\n",
              "      <th>euribor3m</th>\n",
              "      <th>nr_employed</th>\n",
              "      <th>y</th>\n",
              "    </tr>\n",
              "    <tr>\n",
              "      <th>job</th>\n",
              "      <th></th>\n",
              "      <th></th>\n",
              "      <th></th>\n",
              "      <th></th>\n",
              "      <th></th>\n",
              "      <th></th>\n",
              "      <th></th>\n",
              "      <th></th>\n",
              "      <th></th>\n",
              "      <th></th>\n",
              "      <th></th>\n",
              "    </tr>\n",
              "  </thead>\n",
              "  <tbody>\n",
              "    <tr>\n",
              "      <th>admin.</th>\n",
              "      <td>37.978752</td>\n",
              "      <td>252.000885</td>\n",
              "      <td>2.561753</td>\n",
              "      <td>953.752988</td>\n",
              "      <td>0.195219</td>\n",
              "      <td>0.018282</td>\n",
              "      <td>93.541397</td>\n",
              "      <td>-40.417530</td>\n",
              "      <td>3.542137</td>\n",
              "      <td>5163.703320</td>\n",
              "      <td>0.132802</td>\n",
              "    </tr>\n",
              "    <tr>\n",
              "      <th>blue-collar</th>\n",
              "      <td>39.410825</td>\n",
              "      <td>262.131959</td>\n",
              "      <td>2.610309</td>\n",
              "      <td>986.208247</td>\n",
              "      <td>0.121134</td>\n",
              "      <td>0.221856</td>\n",
              "      <td>93.654556</td>\n",
              "      <td>-41.479948</td>\n",
              "      <td>3.731928</td>\n",
              "      <td>5174.827423</td>\n",
              "      <td>0.072165</td>\n",
              "    </tr>\n",
              "    <tr>\n",
              "      <th>entrepreneur</th>\n",
              "      <td>41.768489</td>\n",
              "      <td>265.842444</td>\n",
              "      <td>2.700965</td>\n",
              "      <td>973.498392</td>\n",
              "      <td>0.147910</td>\n",
              "      <td>0.167524</td>\n",
              "      <td>93.626675</td>\n",
              "      <td>-41.037299</td>\n",
              "      <td>3.813347</td>\n",
              "      <td>5175.028939</td>\n",
              "      <td>0.086817</td>\n",
              "    </tr>\n",
              "    <tr>\n",
              "      <th>housemaid</th>\n",
              "      <td>45.217391</td>\n",
              "      <td>273.772947</td>\n",
              "      <td>2.632850</td>\n",
              "      <td>979.811594</td>\n",
              "      <td>0.106280</td>\n",
              "      <td>0.431401</td>\n",
              "      <td>93.677454</td>\n",
              "      <td>-40.024155</td>\n",
              "      <td>3.985609</td>\n",
              "      <td>5180.124638</td>\n",
              "      <td>0.111111</td>\n",
              "    </tr>\n",
              "    <tr>\n",
              "      <th>management</th>\n",
              "      <td>42.101190</td>\n",
              "      <td>240.269345</td>\n",
              "      <td>2.452381</td>\n",
              "      <td>953.162202</td>\n",
              "      <td>0.220238</td>\n",
              "      <td>-0.068601</td>\n",
              "      <td>93.492238</td>\n",
              "      <td>-40.271131</td>\n",
              "      <td>3.563732</td>\n",
              "      <td>5164.906101</td>\n",
              "      <td>0.108631</td>\n",
              "    </tr>\n",
              "    <tr>\n",
              "      <th>retired</th>\n",
              "      <td>61.332402</td>\n",
              "      <td>270.773743</td>\n",
              "      <td>2.391061</td>\n",
              "      <td>907.424581</td>\n",
              "      <td>0.321229</td>\n",
              "      <td>-0.545251</td>\n",
              "      <td>93.464651</td>\n",
              "      <td>-38.637709</td>\n",
              "      <td>2.927159</td>\n",
              "      <td>5129.662570</td>\n",
              "      <td>0.256983</td>\n",
              "    </tr>\n",
              "    <tr>\n",
              "      <th>self-employed</th>\n",
              "      <td>39.570533</td>\n",
              "      <td>278.197492</td>\n",
              "      <td>2.833856</td>\n",
              "      <td>974.084639</td>\n",
              "      <td>0.181818</td>\n",
              "      <td>0.013480</td>\n",
              "      <td>93.549492</td>\n",
              "      <td>-40.775549</td>\n",
              "      <td>3.608959</td>\n",
              "      <td>5167.512226</td>\n",
              "      <td>0.100313</td>\n",
              "    </tr>\n",
              "    <tr>\n",
              "      <th>services</th>\n",
              "      <td>38.071596</td>\n",
              "      <td>251.097418</td>\n",
              "      <td>2.529343</td>\n",
              "      <td>983.853286</td>\n",
              "      <td>0.127934</td>\n",
              "      <td>0.212441</td>\n",
              "      <td>93.656453</td>\n",
              "      <td>-41.250822</td>\n",
              "      <td>3.735918</td>\n",
              "      <td>5172.817606</td>\n",
              "      <td>0.078638</td>\n",
              "    </tr>\n",
              "    <tr>\n",
              "      <th>student</th>\n",
              "      <td>26.108696</td>\n",
              "      <td>294.358696</td>\n",
              "      <td>2.114130</td>\n",
              "      <td>858.945652</td>\n",
              "      <td>0.510870</td>\n",
              "      <td>-1.373370</td>\n",
              "      <td>93.360179</td>\n",
              "      <td>-40.844022</td>\n",
              "      <td>1.872668</td>\n",
              "      <td>5084.396196</td>\n",
              "      <td>0.342391</td>\n",
              "    </tr>\n",
              "    <tr>\n",
              "      <th>technician</th>\n",
              "      <td>38.437372</td>\n",
              "      <td>259.430527</td>\n",
              "      <td>2.581109</td>\n",
              "      <td>961.679671</td>\n",
              "      <td>0.170431</td>\n",
              "      <td>0.269336</td>\n",
              "      <td>93.564827</td>\n",
              "      <td>-39.936413</td>\n",
              "      <td>3.798256</td>\n",
              "      <td>5174.563587</td>\n",
              "      <td>0.101985</td>\n",
              "    </tr>\n",
              "    <tr>\n",
              "      <th>unemployed</th>\n",
              "      <td>39.329949</td>\n",
              "      <td>244.294416</td>\n",
              "      <td>2.781726</td>\n",
              "      <td>938.497462</td>\n",
              "      <td>0.167513</td>\n",
              "      <td>-0.065990</td>\n",
              "      <td>93.627934</td>\n",
              "      <td>-40.141117</td>\n",
              "      <td>3.492010</td>\n",
              "      <td>5156.149746</td>\n",
              "      <td>0.111675</td>\n",
              "    </tr>\n",
              "    <tr>\n",
              "      <th>unknown</th>\n",
              "      <td>45.400000</td>\n",
              "      <td>210.775000</td>\n",
              "      <td>2.200000</td>\n",
              "      <td>887.137500</td>\n",
              "      <td>0.275000</td>\n",
              "      <td>0.252500</td>\n",
              "      <td>93.686925</td>\n",
              "      <td>-38.402500</td>\n",
              "      <td>3.883000</td>\n",
              "      <td>5167.107500</td>\n",
              "      <td>0.112500</td>\n",
              "    </tr>\n",
              "  </tbody>\n",
              "</table>\n",
              "</div>"
            ],
            "text/plain": [
              "                     age    duration  ...  nr_employed         y\n",
              "job                                   ...                       \n",
              "admin.         37.978752  252.000885  ...  5163.703320  0.132802\n",
              "blue-collar    39.410825  262.131959  ...  5174.827423  0.072165\n",
              "entrepreneur   41.768489  265.842444  ...  5175.028939  0.086817\n",
              "housemaid      45.217391  273.772947  ...  5180.124638  0.111111\n",
              "management     42.101190  240.269345  ...  5164.906101  0.108631\n",
              "retired        61.332402  270.773743  ...  5129.662570  0.256983\n",
              "self-employed  39.570533  278.197492  ...  5167.512226  0.100313\n",
              "services       38.071596  251.097418  ...  5172.817606  0.078638\n",
              "student        26.108696  294.358696  ...  5084.396196  0.342391\n",
              "technician     38.437372  259.430527  ...  5174.563587  0.101985\n",
              "unemployed     39.329949  244.294416  ...  5156.149746  0.111675\n",
              "unknown        45.400000  210.775000  ...  5167.107500  0.112500\n",
              "\n",
              "[12 rows x 11 columns]"
            ]
          },
          "metadata": {
            "tags": []
          },
          "execution_count": 11
        }
      ]
    },
    {
      "cell_type": "code",
      "metadata": {
        "id": "G4_LWoIdMDnD",
        "colab_type": "code",
        "outputId": "f1acc34e-1e2c-4e98-91f0-d44d1906b6c5",
        "colab": {
          "base_uri": "https://localhost:8080/",
          "height": 204
        }
      },
      "source": [
        "data.groupby('marital').mean()"
      ],
      "execution_count": 0,
      "outputs": [
        {
          "output_type": "execute_result",
          "data": {
            "text/html": [
              "<div>\n",
              "<style scoped>\n",
              "    .dataframe tbody tr th:only-of-type {\n",
              "        vertical-align: middle;\n",
              "    }\n",
              "\n",
              "    .dataframe tbody tr th {\n",
              "        vertical-align: top;\n",
              "    }\n",
              "\n",
              "    .dataframe thead th {\n",
              "        text-align: right;\n",
              "    }\n",
              "</style>\n",
              "<table border=\"1\" class=\"dataframe\">\n",
              "  <thead>\n",
              "    <tr style=\"text-align: right;\">\n",
              "      <th></th>\n",
              "      <th>age</th>\n",
              "      <th>duration</th>\n",
              "      <th>campaign</th>\n",
              "      <th>pdays</th>\n",
              "      <th>previous</th>\n",
              "      <th>emp_var_rate</th>\n",
              "      <th>cons_price_idx</th>\n",
              "      <th>cons_conf_idx</th>\n",
              "      <th>euribor3m</th>\n",
              "      <th>nr_employed</th>\n",
              "      <th>y</th>\n",
              "    </tr>\n",
              "    <tr>\n",
              "      <th>marital</th>\n",
              "      <th></th>\n",
              "      <th></th>\n",
              "      <th></th>\n",
              "      <th></th>\n",
              "      <th></th>\n",
              "      <th></th>\n",
              "      <th></th>\n",
              "      <th></th>\n",
              "      <th></th>\n",
              "      <th></th>\n",
              "      <th></th>\n",
              "    </tr>\n",
              "  </thead>\n",
              "  <tbody>\n",
              "    <tr>\n",
              "      <th>divorced</th>\n",
              "      <td>44.582719</td>\n",
              "      <td>251.258166</td>\n",
              "      <td>2.569020</td>\n",
              "      <td>970.730242</td>\n",
              "      <td>0.182297</td>\n",
              "      <td>0.113172</td>\n",
              "      <td>93.584650</td>\n",
              "      <td>-40.895153</td>\n",
              "      <td>3.662192</td>\n",
              "      <td>5170.139410</td>\n",
              "      <td>0.101159</td>\n",
              "    </tr>\n",
              "    <tr>\n",
              "      <th>married</th>\n",
              "      <td>42.110112</td>\n",
              "      <td>259.428090</td>\n",
              "      <td>2.571910</td>\n",
              "      <td>966.465918</td>\n",
              "      <td>0.165918</td>\n",
              "      <td>0.181554</td>\n",
              "      <td>93.603672</td>\n",
              "      <td>-40.344438</td>\n",
              "      <td>3.733643</td>\n",
              "      <td>5171.292491</td>\n",
              "      <td>0.104682</td>\n",
              "    </tr>\n",
              "    <tr>\n",
              "      <th>single</th>\n",
              "      <td>33.326241</td>\n",
              "      <td>255.989362</td>\n",
              "      <td>2.552009</td>\n",
              "      <td>950.539795</td>\n",
              "      <td>0.200552</td>\n",
              "      <td>-0.144169</td>\n",
              "      <td>93.529425</td>\n",
              "      <td>-40.955319</td>\n",
              "      <td>3.336930</td>\n",
              "      <td>5155.786879</td>\n",
              "      <td>0.133964</td>\n",
              "    </tr>\n",
              "    <tr>\n",
              "      <th>unknown</th>\n",
              "      <td>37.846154</td>\n",
              "      <td>224.538462</td>\n",
              "      <td>2.615385</td>\n",
              "      <td>923.384615</td>\n",
              "      <td>0.307692</td>\n",
              "      <td>-0.453846</td>\n",
              "      <td>93.593769</td>\n",
              "      <td>-39.884615</td>\n",
              "      <td>3.061692</td>\n",
              "      <td>5134.538462</td>\n",
              "      <td>0.153846</td>\n",
              "    </tr>\n",
              "  </tbody>\n",
              "</table>\n",
              "</div>"
            ],
            "text/plain": [
              "                age    duration  campaign  ...  euribor3m  nr_employed         y\n",
              "marital                                    ...                                  \n",
              "divorced  44.582719  251.258166  2.569020  ...   3.662192  5170.139410  0.101159\n",
              "married   42.110112  259.428090  2.571910  ...   3.733643  5171.292491  0.104682\n",
              "single    33.326241  255.989362  2.552009  ...   3.336930  5155.786879  0.133964\n",
              "unknown   37.846154  224.538462  2.615385  ...   3.061692  5134.538462  0.153846\n",
              "\n",
              "[4 rows x 11 columns]"
            ]
          },
          "metadata": {
            "tags": []
          },
          "execution_count": 12
        }
      ]
    },
    {
      "cell_type": "code",
      "metadata": {
        "id": "evi3CKdwMFcM",
        "colab_type": "code",
        "outputId": "4f3a4554-b8fc-4b3f-f246-92841fba5e38",
        "colab": {
          "base_uri": "https://localhost:8080/",
          "height": 266
        }
      },
      "source": [
        "data.groupby('education').mean()"
      ],
      "execution_count": 0,
      "outputs": [
        {
          "output_type": "execute_result",
          "data": {
            "text/html": [
              "<div>\n",
              "<style scoped>\n",
              "    .dataframe tbody tr th:only-of-type {\n",
              "        vertical-align: middle;\n",
              "    }\n",
              "\n",
              "    .dataframe tbody tr th {\n",
              "        vertical-align: top;\n",
              "    }\n",
              "\n",
              "    .dataframe thead th {\n",
              "        text-align: right;\n",
              "    }\n",
              "</style>\n",
              "<table border=\"1\" class=\"dataframe\">\n",
              "  <thead>\n",
              "    <tr style=\"text-align: right;\">\n",
              "      <th></th>\n",
              "      <th>age</th>\n",
              "      <th>duration</th>\n",
              "      <th>campaign</th>\n",
              "      <th>pdays</th>\n",
              "      <th>previous</th>\n",
              "      <th>emp_var_rate</th>\n",
              "      <th>cons_price_idx</th>\n",
              "      <th>cons_conf_idx</th>\n",
              "      <th>euribor3m</th>\n",
              "      <th>nr_employed</th>\n",
              "      <th>y</th>\n",
              "    </tr>\n",
              "    <tr>\n",
              "      <th>education</th>\n",
              "      <th></th>\n",
              "      <th></th>\n",
              "      <th></th>\n",
              "      <th></th>\n",
              "      <th></th>\n",
              "      <th></th>\n",
              "      <th></th>\n",
              "      <th></th>\n",
              "      <th></th>\n",
              "      <th></th>\n",
              "      <th></th>\n",
              "    </tr>\n",
              "  </thead>\n",
              "  <tbody>\n",
              "    <tr>\n",
              "      <th>Basic</th>\n",
              "      <td>42.003019</td>\n",
              "      <td>266.812075</td>\n",
              "      <td>2.601132</td>\n",
              "      <td>975.775472</td>\n",
              "      <td>0.139623</td>\n",
              "      <td>0.153019</td>\n",
              "      <td>93.635331</td>\n",
              "      <td>-40.971472</td>\n",
              "      <td>3.689068</td>\n",
              "      <td>5170.698151</td>\n",
              "      <td>0.093585</td>\n",
              "    </tr>\n",
              "    <tr>\n",
              "      <th>high.school</th>\n",
              "      <td>37.900049</td>\n",
              "      <td>255.898080</td>\n",
              "      <td>2.566716</td>\n",
              "      <td>967.266864</td>\n",
              "      <td>0.179714</td>\n",
              "      <td>0.078434</td>\n",
              "      <td>93.601077</td>\n",
              "      <td>-41.077006</td>\n",
              "      <td>3.587398</td>\n",
              "      <td>5166.107730</td>\n",
              "      <td>0.098966</td>\n",
              "    </tr>\n",
              "    <tr>\n",
              "      <th>illiterate</th>\n",
              "      <td>48.000000</td>\n",
              "      <td>482.500000</td>\n",
              "      <td>2.000000</td>\n",
              "      <td>999.000000</td>\n",
              "      <td>0.000000</td>\n",
              "      <td>-0.200000</td>\n",
              "      <td>93.259500</td>\n",
              "      <td>-41.600000</td>\n",
              "      <td>3.187000</td>\n",
              "      <td>5163.600000</td>\n",
              "      <td>0.500000</td>\n",
              "    </tr>\n",
              "    <tr>\n",
              "      <th>professional.course</th>\n",
              "      <td>40.142730</td>\n",
              "      <td>258.354610</td>\n",
              "      <td>2.597518</td>\n",
              "      <td>962.072695</td>\n",
              "      <td>0.160461</td>\n",
              "      <td>0.238298</td>\n",
              "      <td>93.570503</td>\n",
              "      <td>-40.061968</td>\n",
              "      <td>3.782045</td>\n",
              "      <td>5173.877660</td>\n",
              "      <td>0.109929</td>\n",
              "    </tr>\n",
              "    <tr>\n",
              "      <th>university.degree</th>\n",
              "      <td>38.628368</td>\n",
              "      <td>246.433009</td>\n",
              "      <td>2.513099</td>\n",
              "      <td>948.081587</td>\n",
              "      <td>0.213323</td>\n",
              "      <td>-0.061901</td>\n",
              "      <td>93.499510</td>\n",
              "      <td>-40.118750</td>\n",
              "      <td>3.482225</td>\n",
              "      <td>5160.970808</td>\n",
              "      <td>0.139222</td>\n",
              "    </tr>\n",
              "    <tr>\n",
              "      <th>unknown</th>\n",
              "      <td>43.070028</td>\n",
              "      <td>276.669468</td>\n",
              "      <td>2.599440</td>\n",
              "      <td>940.647059</td>\n",
              "      <td>0.240896</td>\n",
              "      <td>0.104482</td>\n",
              "      <td>93.691003</td>\n",
              "      <td>-39.887115</td>\n",
              "      <td>3.593669</td>\n",
              "      <td>5159.692437</td>\n",
              "      <td>0.142857</td>\n",
              "    </tr>\n",
              "  </tbody>\n",
              "</table>\n",
              "</div>"
            ],
            "text/plain": [
              "                           age    duration  ...  nr_employed         y\n",
              "education                                   ...                       \n",
              "Basic                42.003019  266.812075  ...  5170.698151  0.093585\n",
              "high.school          37.900049  255.898080  ...  5166.107730  0.098966\n",
              "illiterate           48.000000  482.500000  ...  5163.600000  0.500000\n",
              "professional.course  40.142730  258.354610  ...  5173.877660  0.109929\n",
              "university.degree    38.628368  246.433009  ...  5160.970808  0.139222\n",
              "unknown              43.070028  276.669468  ...  5159.692437  0.142857\n",
              "\n",
              "[6 rows x 11 columns]"
            ]
          },
          "metadata": {
            "tags": []
          },
          "execution_count": 13
        }
      ]
    },
    {
      "cell_type": "markdown",
      "metadata": {
        "id": "ruwHvGsDMYuA",
        "colab_type": "text"
      },
      "source": [
        "# Visualisasi"
      ]
    },
    {
      "cell_type": "code",
      "metadata": {
        "id": "aXPXFmNUMdxP",
        "colab_type": "code",
        "outputId": "e98fda59-a60d-4f9b-bb85-29ffcac18cf1",
        "colab": {
          "base_uri": "https://localhost:8080/",
          "height": 369
        }
      },
      "source": [
        "%matplotlib inline\n",
        "pd.crosstab(data.job, data.y).plot(kind='bar')\n",
        "plt.title('Purchase Frequency for Job Title')\n",
        "plt.xlabel('Job')\n",
        "plt.ylabel('Frequency of Purchase')\n",
        "plt.savefig('purchase_fre_job')"
      ],
      "execution_count": 0,
      "outputs": [
        {
          "output_type": "display_data",
          "data": {
            "image/png": "[encoded data removed]",
            "text/plain": [
              "<Figure size 432x288 with 1 Axes>"
            ]
          },
          "metadata": {
            "tags": []
          }
        }
      ]
    },
    {
      "cell_type": "markdown",
      "metadata": {
        "id": "1AZvx4xcOFyU",
        "colab_type": "text"
      },
      "source": [
        "Terlihat bagaimana frekuensi grafik cukup baik oleh karenanya kita dapat simpulkan bahwa Jabatan mempengaruhi hasil dari penjualan deposit. maka kita bisa menggunakan variabel `JOB` sebagai `Predictor Variabel`."
      ]
    },
    {
      "cell_type": "code",
      "metadata": {
        "id": "qSuQRKm4M7Ej",
        "colab_type": "code",
        "outputId": "3fb9fce1-0ff1-4d5d-b379-420a0d1abd68",
        "colab": {
          "base_uri": "https://localhost:8080/",
          "height": 341
        }
      },
      "source": [
        "table=pd.crosstab(data.marital, data.y)\n",
        "table.div(table.sum(1).astype(float), axis=0).plot(kind='bar', stacked=True)\n",
        "plt.title('Stacked bar Chart of Marital Status vs Purchase')\n",
        "plt.xlabel('Marital Status')\n",
        "plt.ylabel('Proportion of Customers')\n",
        "plt.savefig('marital_vs_pu_stack')"
      ],
      "execution_count": 0,
      "outputs": [
        {
          "output_type": "display_data",
          "data": {
            "image/png": "[encoded data removed]",
            "text/plain": [
              "<Figure size 432x288 with 1 Axes>"
            ]
          },
          "metadata": {
            "tags": []
          }
        }
      ]
    },
    {
      "cell_type": "markdown",
      "metadata": {
        "id": "MFMehdZIO4WT",
        "colab_type": "text"
      },
      "source": [
        "Grafik yang tidak terlalu memperlihatkan frekuensi berdasarkan status. Oleh karenanya variabel `marital` tidak bisa kita gunakan sebagai Predictor Variabel."
      ]
    },
    {
      "cell_type": "code",
      "metadata": {
        "id": "_jbx7g9JPqza",
        "colab_type": "code",
        "outputId": "6ffbf530-54d7-42a8-a925-1a739fc1c8c1",
        "colab": {
          "base_uri": "https://localhost:8080/",
          "height": 399
        }
      },
      "source": [
        "table=pd.crosstab(data.education,data.y)\n",
        "table.div(table.sum(1).astype(float), axis=0).plot(kind='bar', stacked=True)\n",
        "plt.title('Stacked Bar Chart of Education vs Purchase')\n",
        "plt.xlabel('Education')\n",
        "plt.ylabel('Proportion of Customers')\n",
        "plt.savefig('edu_vs_pur_stack')"
      ],
      "execution_count": 0,
      "outputs": [
        {
          "output_type": "display_data",
          "data": {
            "image/png": "[encoded data removed]",
            "text/plain": [
              "<Figure size 432x288 with 1 Axes>"
            ]
          },
          "metadata": {
            "tags": []
          }
        }
      ]
    },
    {
      "cell_type": "markdown",
      "metadata": {
        "id": "8t9gT2ipP6dL",
        "colab_type": "text"
      },
      "source": [
        "Grafik terlihat lebih baik untuk frekuensi berdasarkan pendidikan. Maka kita bisa menggunakan variabel `Education` sebagai `Predictor Variabel`"
      ]
    },
    {
      "cell_type": "code",
      "metadata": {
        "id": "_AVJZd6mQZGY",
        "colab_type": "code",
        "outputId": "9e09f8cc-ab4a-4cee-ba09-231cee428bac",
        "colab": {
          "base_uri": "https://localhost:8080/",
          "height": 315
        }
      },
      "source": [
        "pd.crosstab(data.day_of_week,data.y).plot(kind='bar')\n",
        "plt.title('Purchase Frequency for Day of Week')\n",
        "plt.xlabel('Day of Week')\n",
        "plt.ylabel('Frequency of Purchase')\n",
        "plt.savefig('pur_dayofweek_bar')"
      ],
      "execution_count": 0,
      "outputs": [
        {
          "output_type": "display_data",
          "data": {
            "image/png": "[encoded data removed]",
            "text/plain": [
              "<Figure size 432x288 with 1 Axes>"
            ]
          },
          "metadata": {
            "tags": []
          }
        }
      ]
    },
    {
      "cell_type": "markdown",
      "metadata": {
        "id": "8STAbkUEQe6g",
        "colab_type": "text"
      },
      "source": [
        "Grafik tidak memperlihatkan perbedaan yang signifikan, jadi variabel `day_of_week` tidak bisa kita gunakan sebagai predictor variabel"
      ]
    },
    {
      "cell_type": "code",
      "metadata": {
        "id": "k1X02smlQwWM",
        "colab_type": "code",
        "outputId": "22e927f7-83e7-420c-ee7d-3facbea0aff6",
        "colab": {
          "base_uri": "https://localhost:8080/",
          "height": 315
        }
      },
      "source": [
        "pd.crosstab(data.month,data.y).plot(kind='bar')\n",
        "plt.title('Purchase Frequency for Month')\n",
        "plt.xlabel('Month')\n",
        "plt.ylabel('Frequency of Purchase')\n",
        "plt.savefig('pur_fre_month_bar')"
      ],
      "execution_count": 0,
      "outputs": [
        {
          "output_type": "display_data",
          "data": {
            "image/png": "[encoded data removed]",
            "text/plain": [
              "<Figure size 432x288 with 1 Axes>"
            ]
          },
          "metadata": {
            "tags": []
          }
        }
      ]
    },
    {
      "cell_type": "markdown",
      "metadata": {
        "id": "yIEVDoRqRKio",
        "colab_type": "text"
      },
      "source": [
        "Grafik terlihat frequencies untuk setiap bulannya. maka kita bisa gunakan variabel `month` sebagai `predictor variabel`."
      ]
    },
    {
      "cell_type": "code",
      "metadata": {
        "id": "9-nlroy8Rf5-",
        "colab_type": "code",
        "outputId": "661f8fc9-eb4e-41ff-9214-a98aeb964b32",
        "colab": {
          "base_uri": "https://localhost:8080/",
          "height": 301
        }
      },
      "source": [
        "data.age.hist()\n",
        "plt.title('Histogram of Age')\n",
        "plt.xlabel('Age')\n",
        "plt.ylabel('Frequency')\n",
        "plt.savefig('hist_age')"
      ],
      "execution_count": 0,
      "outputs": [
        {
          "output_type": "display_data",
          "data": {
            "image/png": "[encoded data removed]",
            "text/plain": [
              "<Figure size 432x288 with 1 Axes>"
            ]
          },
          "metadata": {
            "tags": []
          }
        }
      ]
    },
    {
      "cell_type": "markdown",
      "metadata": {
        "id": "sj4FZw3-Rmyi",
        "colab_type": "text"
      },
      "source": [
        "Rata-rata customer yang melakukan peminjaman berusia atara 30-40 tahun"
      ]
    },
    {
      "cell_type": "code",
      "metadata": {
        "id": "7ehmtGhBRjCT",
        "colab_type": "code",
        "outputId": "46bdc3f2-346b-40a9-a42b-9f79ec221b9e",
        "colab": {
          "base_uri": "https://localhost:8080/",
          "height": 356
        }
      },
      "source": [
        "pd.crosstab(data.poutcome,data.y).plot(kind='bar')\n",
        "plt.title('Purchase Frequency for Poutcome')\n",
        "plt.xlabel('Poutcome')\n",
        "plt.ylabel('Frequency of Purchase')\n",
        "plt.savefig('pur_fre_pout_bar')"
      ],
      "execution_count": 0,
      "outputs": [
        {
          "output_type": "display_data",
          "data": {
            "image/png": "[encoded data removed]",
            "text/plain": [
              "<Figure size 432x288 with 1 Axes>"
            ]
          },
          "metadata": {
            "tags": []
          }
        }
      ]
    },
    {
      "cell_type": "markdown",
      "metadata": {
        "id": "nTz_TQ3fSJ4h",
        "colab_type": "text"
      },
      "source": [
        "Variabel `poutcome` -> hasil dari kampanye pemasaran ('gagal', 'tidak ada', 'sukses')\n",
        "\n",
        "Terlihat perbedaan frequencies pada variabel poutcome. kita bisa gunakan `poutcome` sebagai `predictor variabel`."
      ]
    },
    {
      "cell_type": "markdown",
      "metadata": {
        "id": "UNkkTdEFSwuc",
        "colab_type": "text"
      },
      "source": [
        "# Membuat variabel dummy"
      ]
    },
    {
      "cell_type": "code",
      "metadata": {
        "id": "mHkB5NHCSzJu",
        "colab_type": "code",
        "outputId": "fc66ef79-6c7a-44c8-9c56-550407a18388",
        "colab": {
          "base_uri": "https://localhost:8080/",
          "height": 272
        }
      },
      "source": [
        "cat_vars=['job','marital','education','default','housing','loan','contact','month','day_of_week','poutcome']\n",
        "for var in cat_vars:\n",
        "    cat_list='var'+'_'+var\n",
        "    cat_list = pd.get_dummies(data[var], prefix=var, drop_first=True)\n",
        "    data1=data.join(cat_list)\n",
        "    data=data1\n",
        "    \n",
        "cat_vars=['job','marital','education','default','housing','loan','contact','month','day_of_week','poutcome']\n",
        "data_vars=data.columns.values.tolist()\n",
        "to_keep=[i for i in data_vars if i not in cat_vars]\n",
        "data_final=data[to_keep]\n",
        "data_final.columns.values"
      ],
      "execution_count": 0,
      "outputs": [
        {
          "output_type": "execute_result",
          "data": {
            "text/plain": [
              "array(['age', 'duration', 'campaign', 'pdays', 'previous', 'emp_var_rate',\n",
              "       'cons_price_idx', 'cons_conf_idx', 'euribor3m', 'nr_employed', 'y',\n",
              "       'job_blue-collar', 'job_entrepreneur', 'job_housemaid',\n",
              "       'job_management', 'job_retired', 'job_self-employed',\n",
              "       'job_services', 'job_student', 'job_technician', 'job_unemployed',\n",
              "       'job_unknown', 'marital_married', 'marital_single',\n",
              "       'marital_unknown', 'education_high.school', 'education_illiterate',\n",
              "       'education_professional.course', 'education_university.degree',\n",
              "       'education_unknown', 'default_unknown', 'default_yes',\n",
              "       'housing_unknown', 'housing_yes', 'loan_unknown', 'loan_yes',\n",
              "       'contact_telephone', 'month_aug', 'month_dec', 'month_jul',\n",
              "       'month_jun', 'month_mar', 'month_may', 'month_nov', 'month_oct',\n",
              "       'month_sep', 'day_of_week_mon', 'day_of_week_thu',\n",
              "       'day_of_week_tue', 'day_of_week_wed', 'poutcome_nonexistent',\n",
              "       'poutcome_success'], dtype=object)"
            ]
          },
          "metadata": {
            "tags": []
          },
          "execution_count": 21
        }
      ]
    },
    {
      "cell_type": "code",
      "metadata": {
        "id": "Hx_JafzXIney",
        "colab_type": "code",
        "outputId": "0dcc1608-e7d7-4198-f65e-9164f08269f6",
        "colab": {
          "base_uri": "https://localhost:8080/",
          "height": 901
        }
      },
      "source": [
        "to_keep"
      ],
      "execution_count": 0,
      "outputs": [
        {
          "output_type": "execute_result",
          "data": {
            "text/plain": [
              "['age',\n",
              " 'duration',\n",
              " 'campaign',\n",
              " 'pdays',\n",
              " 'previous',\n",
              " 'emp_var_rate',\n",
              " 'cons_price_idx',\n",
              " 'cons_conf_idx',\n",
              " 'euribor3m',\n",
              " 'nr_employed',\n",
              " 'y',\n",
              " 'job_blue-collar',\n",
              " 'job_entrepreneur',\n",
              " 'job_housemaid',\n",
              " 'job_management',\n",
              " 'job_retired',\n",
              " 'job_self-employed',\n",
              " 'job_services',\n",
              " 'job_student',\n",
              " 'job_technician',\n",
              " 'job_unemployed',\n",
              " 'job_unknown',\n",
              " 'marital_married',\n",
              " 'marital_single',\n",
              " 'marital_unknown',\n",
              " 'education_high.school',\n",
              " 'education_illiterate',\n",
              " 'education_professional.course',\n",
              " 'education_university.degree',\n",
              " 'education_unknown',\n",
              " 'default_unknown',\n",
              " 'default_yes',\n",
              " 'housing_unknown',\n",
              " 'housing_yes',\n",
              " 'loan_unknown',\n",
              " 'loan_yes',\n",
              " 'contact_telephone',\n",
              " 'month_aug',\n",
              " 'month_dec',\n",
              " 'month_jul',\n",
              " 'month_jun',\n",
              " 'month_mar',\n",
              " 'month_may',\n",
              " 'month_nov',\n",
              " 'month_oct',\n",
              " 'month_sep',\n",
              " 'day_of_week_mon',\n",
              " 'day_of_week_thu',\n",
              " 'day_of_week_tue',\n",
              " 'day_of_week_wed',\n",
              " 'poutcome_nonexistent',\n",
              " 'poutcome_success']"
            ]
          },
          "metadata": {
            "tags": []
          },
          "execution_count": 22
        }
      ]
    },
    {
      "cell_type": "code",
      "metadata": {
        "id": "M5Fm5tHDItZy",
        "colab_type": "code",
        "outputId": "38e00a49-af11-4d2e-fc93-ade2a811fcd8",
        "colab": {
          "base_uri": "https://localhost:8080/",
          "height": 272
        }
      },
      "source": [
        "data_final=data[to_keep]\n",
        "data_final.columns.values"
      ],
      "execution_count": 0,
      "outputs": [
        {
          "output_type": "execute_result",
          "data": {
            "text/plain": [
              "array(['age', 'duration', 'campaign', 'pdays', 'previous', 'emp_var_rate',\n",
              "       'cons_price_idx', 'cons_conf_idx', 'euribor3m', 'nr_employed', 'y',\n",
              "       'job_blue-collar', 'job_entrepreneur', 'job_housemaid',\n",
              "       'job_management', 'job_retired', 'job_self-employed',\n",
              "       'job_services', 'job_student', 'job_technician', 'job_unemployed',\n",
              "       'job_unknown', 'marital_married', 'marital_single',\n",
              "       'marital_unknown', 'education_high.school', 'education_illiterate',\n",
              "       'education_professional.course', 'education_university.degree',\n",
              "       'education_unknown', 'default_unknown', 'default_yes',\n",
              "       'housing_unknown', 'housing_yes', 'loan_unknown', 'loan_yes',\n",
              "       'contact_telephone', 'month_aug', 'month_dec', 'month_jul',\n",
              "       'month_jun', 'month_mar', 'month_may', 'month_nov', 'month_oct',\n",
              "       'month_sep', 'day_of_week_mon', 'day_of_week_thu',\n",
              "       'day_of_week_tue', 'day_of_week_wed', 'poutcome_nonexistent',\n",
              "       'poutcome_success'], dtype=object)"
            ]
          },
          "metadata": {
            "tags": []
          },
          "execution_count": 23
        }
      ]
    },
    {
      "cell_type": "markdown",
      "metadata": {
        "id": "9kMDJo7fLtHc",
        "colab_type": "text"
      },
      "source": [
        "# Perbanyak sampling dengan SMOTE"
      ]
    },
    {
      "cell_type": "markdown",
      "metadata": {
        "id": "xl9znC3bLzIx",
        "colab_type": "text"
      },
      "source": [
        "SMOTE algorithm (Synthetic Minority Oversampling Technique).\n",
        "\n",
        "\n",
        "\n",
        "*   Membuat sample untuk kelas yang tidak melakukan pinjaman.\n",
        "*   Memilih sampel secara acak dengan algortima KNN\n",
        "\n",
        "\n",
        "\n",
        "Reference :\n",
        "\n",
        "https://arxiv.org/pdf/1106.1813.pdf"
      ]
    },
    {
      "cell_type": "code",
      "metadata": {
        "id": "IV95O6LTLqkN",
        "colab_type": "code",
        "outputId": "caac57a3-b1bb-40c2-8ddd-bffb11e26bd4",
        "colab": {
          "base_uri": "https://localhost:8080/",
          "height": 258
        }
      },
      "source": [
        "from imblearn.over_sampling import SMOTE\n",
        "\n",
        "X = data_final.loc[:, data_final.columns != 'y']\n",
        "y = data_final.loc[:, data_final.columns == 'y']\n",
        "\n",
        "os = SMOTE(random_state=0)\n",
        "X_train, X_test, y_train, y_test = train_test_split(X, y, test_size=0.3, random_state=0)\n",
        "columns = X_train.columns\n",
        "os_data_X,os_data_y = os.fit_sample(X_train, y_train)\n",
        "os_data_X = pd.DataFrame(data = os_data_X,columns=columns )\n",
        "os_data_y= pd.DataFrame(data = os_data_y,columns=['y'])\n",
        "# we can Check the numbers of our data\n",
        "print(\"length of oversampled data is \",len(os_data_X))\n",
        "print(\"Number of no subscription in oversampled data\",len(os_data_y[os_data_y['y']==0]))\n",
        "print(\"Number of subscription\",len(os_data_y[os_data_y['y']==1]))\n",
        "print(\"Proportion of no subscription data in oversampled data is \",len(os_data_y[os_data_y['y']==0])/len(os_data_X))\n",
        "print(\"Proportion of subscription data in oversampled data is \",len(os_data_y[os_data_y['y']==1])/len(os_data_X))"
      ],
      "execution_count": 0,
      "outputs": [
        {
          "output_type": "stream",
          "text": [
            "length of oversampled data is  10994\n",
            "Number of no subscription in oversampled data 5497\n",
            "Number of subscription 5497\n",
            "Proportion of no subscription data in oversampled data is  0.5\n",
            "Proportion of subscription data in oversampled data is  0.5\n"
          ],
          "name": "stdout"
        },
        {
          "output_type": "stream",
          "text": [
            "/usr/local/lib/python3.6/dist-packages/sklearn/externals/six.py:31: FutureWarning: The module is deprecated in version 0.21 and will be removed in version 0.23 since we've dropped support for Python 2.7. Please rely on the official version of six (https://pypi.org/project/six/).\n",
            "  \"(https://pypi.org/project/six/).\", FutureWarning)\n",
            "/usr/local/lib/python3.6/dist-packages/sklearn/utils/deprecation.py:144: FutureWarning: The sklearn.neighbors.base module is  deprecated in version 0.22 and will be removed in version 0.24. The corresponding classes / functions should instead be imported from sklearn.neighbors. Anything that cannot be imported from sklearn.neighbors is now part of the private API.\n",
            "  warnings.warn(message, FutureWarning)\n",
            "/usr/local/lib/python3.6/dist-packages/sklearn/utils/validation.py:760: DataConversionWarning: A column-vector y was passed when a 1d array was expected. Please change the shape of y to (n_samples, ), for example using ravel().\n",
            "  y = column_or_1d(y, warn=True)\n",
            "/usr/local/lib/python3.6/dist-packages/sklearn/utils/deprecation.py:87: FutureWarning: Function safe_indexing is deprecated; safe_indexing is deprecated in version 0.22 and will be removed in version 0.24.\n",
            "  warnings.warn(msg, category=FutureWarning)\n"
          ],
          "name": "stderr"
        }
      ]
    },
    {
      "cell_type": "markdown",
      "metadata": {
        "id": "oOduhANbTAsN",
        "colab_type": "text"
      },
      "source": [
        "# Recursive Feature Elimination (RFE)"
      ]
    },
    {
      "cell_type": "markdown",
      "metadata": {
        "id": "4oj8oh-xTCOv",
        "colab_type": "text"
      },
      "source": [
        "RFE digunakan untuk memilih fitur dengan secara rekursif dengan mempertimbangkan nilai pada set fitur yang lebih kecil.\n",
        "\n",
        "\n",
        "Reference = \n",
        "\n",
        "https://scikit-learn.org/stable/modules/generated/sklearn.feature_selection.RFE.html"
      ]
    },
    {
      "cell_type": "code",
      "metadata": {
        "id": "e8cjwqNpTkkS",
        "colab_type": "code",
        "outputId": "9fc66907-63c4-443a-85f7-1a46e8ab6bf0",
        "colab": {
          "base_uri": "https://localhost:8080/",
          "height": 1000
        }
      },
      "source": [
        "from sklearn.feature_selection import RFE\n",
        "from sklearn.linear_model import LogisticRegression\n",
        "\n",
        "data_final_vars=data_final.columns.values.tolist()\n",
        "y=['y']\n",
        "X=[i for i in data_final_vars if i not in y]\n",
        "\n",
        "logreg = LogisticRegression()\n",
        "rfe = RFE(logreg, 20)\n",
        "rfe = rfe.fit(os_data_X, os_data_y.values.ravel())\n",
        "print(rfe.support_)\n",
        "print(rfe.ranking_)"
      ],
      "execution_count": 0,
      "outputs": [
        {
          "output_type": "stream",
          "text": [
            "/usr/local/lib/python3.6/dist-packages/sklearn/linear_model/_logistic.py:940: ConvergenceWarning: lbfgs failed to converge (status=1):\n",
            "STOP: TOTAL NO. of ITERATIONS REACHED LIMIT.\n",
            "\n",
            "Increase the number of iterations (max_iter) or scale the data as shown in:\n",
            "    https://scikit-learn.org/stable/modules/preprocessing.html\n",
            "Please also refer to the documentation for alternative solver options:\n",
            "    https://scikit-learn.org/stable/modules/linear_model.html#logistic-regression\n",
            "  extra_warning_msg=_LOGISTIC_SOLVER_CONVERGENCE_MSG)\n",
            "/usr/local/lib/python3.6/dist-packages/sklearn/linear_model/_logistic.py:940: ConvergenceWarning: lbfgs failed to converge (status=1):\n",
            "STOP: TOTAL NO. of ITERATIONS REACHED LIMIT.\n",
            "\n",
            "Increase the number of iterations (max_iter) or scale the data as shown in:\n",
            "    https://scikit-learn.org/stable/modules/preprocessing.html\n",
            "Please also refer to the documentation for alternative solver options:\n",
            "    https://scikit-learn.org/stable/modules/linear_model.html#logistic-regression\n",
            "  extra_warning_msg=_LOGISTIC_SOLVER_CONVERGENCE_MSG)\n",
            "/usr/local/lib/python3.6/dist-packages/sklearn/linear_model/_logistic.py:940: ConvergenceWarning: lbfgs failed to converge (status=1):\n",
            "STOP: TOTAL NO. of ITERATIONS REACHED LIMIT.\n",
            "\n",
            "Increase the number of iterations (max_iter) or scale the data as shown in:\n",
            "    https://scikit-learn.org/stable/modules/preprocessing.html\n",
            "Please also refer to the documentation for alternative solver options:\n",
            "    https://scikit-learn.org/stable/modules/linear_model.html#logistic-regression\n",
            "  extra_warning_msg=_LOGISTIC_SOLVER_CONVERGENCE_MSG)\n",
            "/usr/local/lib/python3.6/dist-packages/sklearn/linear_model/_logistic.py:940: ConvergenceWarning: lbfgs failed to converge (status=1):\n",
            "STOP: TOTAL NO. of ITERATIONS REACHED LIMIT.\n",
            "\n",
            "Increase the number of iterations (max_iter) or scale the data as shown in:\n",
            "    https://scikit-learn.org/stable/modules/preprocessing.html\n",
            "Please also refer to the documentation for alternative solver options:\n",
            "    https://scikit-learn.org/stable/modules/linear_model.html#logistic-regression\n",
            "  extra_warning_msg=_LOGISTIC_SOLVER_CONVERGENCE_MSG)\n",
            "/usr/local/lib/python3.6/dist-packages/sklearn/linear_model/_logistic.py:940: ConvergenceWarning: lbfgs failed to converge (status=1):\n",
            "STOP: TOTAL NO. of ITERATIONS REACHED LIMIT.\n",
            "\n",
            "Increase the number of iterations (max_iter) or scale the data as shown in:\n",
            "    https://scikit-learn.org/stable/modules/preprocessing.html\n",
            "Please also refer to the documentation for alternative solver options:\n",
            "    https://scikit-learn.org/stable/modules/linear_model.html#logistic-regression\n",
            "  extra_warning_msg=_LOGISTIC_SOLVER_CONVERGENCE_MSG)\n",
            "/usr/local/lib/python3.6/dist-packages/sklearn/linear_model/_logistic.py:940: ConvergenceWarning: lbfgs failed to converge (status=1):\n",
            "STOP: TOTAL NO. of ITERATIONS REACHED LIMIT.\n",
            "\n",
            "Increase the number of iterations (max_iter) or scale the data as shown in:\n",
            "    https://scikit-learn.org/stable/modules/preprocessing.html\n",
            "Please also refer to the documentation for alternative solver options:\n",
            "    https://scikit-learn.org/stable/modules/linear_model.html#logistic-regression\n",
            "  extra_warning_msg=_LOGISTIC_SOLVER_CONVERGENCE_MSG)\n",
            "/usr/local/lib/python3.6/dist-packages/sklearn/linear_model/_logistic.py:940: ConvergenceWarning: lbfgs failed to converge (status=1):\n",
            "STOP: TOTAL NO. of ITERATIONS REACHED LIMIT.\n",
            "\n",
            "Increase the number of iterations (max_iter) or scale the data as shown in:\n",
            "    https://scikit-learn.org/stable/modules/preprocessing.html\n",
            "Please also refer to the documentation for alternative solver options:\n",
            "    https://scikit-learn.org/stable/modules/linear_model.html#logistic-regression\n",
            "  extra_warning_msg=_LOGISTIC_SOLVER_CONVERGENCE_MSG)\n",
            "/usr/local/lib/python3.6/dist-packages/sklearn/linear_model/_logistic.py:940: ConvergenceWarning: lbfgs failed to converge (status=1):\n",
            "STOP: TOTAL NO. of ITERATIONS REACHED LIMIT.\n",
            "\n",
            "Increase the number of iterations (max_iter) or scale the data as shown in:\n",
            "    https://scikit-learn.org/stable/modules/preprocessing.html\n",
            "Please also refer to the documentation for alternative solver options:\n",
            "    https://scikit-learn.org/stable/modules/linear_model.html#logistic-regression\n",
            "  extra_warning_msg=_LOGISTIC_SOLVER_CONVERGENCE_MSG)\n",
            "/usr/local/lib/python3.6/dist-packages/sklearn/linear_model/_logistic.py:940: ConvergenceWarning: lbfgs failed to converge (status=1):\n",
            "STOP: TOTAL NO. of ITERATIONS REACHED LIMIT.\n",
            "\n",
            "Increase the number of iterations (max_iter) or scale the data as shown in:\n",
            "    https://scikit-learn.org/stable/modules/preprocessing.html\n",
            "Please also refer to the documentation for alternative solver options:\n",
            "    https://scikit-learn.org/stable/modules/linear_model.html#logistic-regression\n",
            "  extra_warning_msg=_LOGISTIC_SOLVER_CONVERGENCE_MSG)\n",
            "/usr/local/lib/python3.6/dist-packages/sklearn/linear_model/_logistic.py:940: ConvergenceWarning: lbfgs failed to converge (status=1):\n",
            "STOP: TOTAL NO. of ITERATIONS REACHED LIMIT.\n",
            "\n",
            "Increase the number of iterations (max_iter) or scale the data as shown in:\n",
            "    https://scikit-learn.org/stable/modules/preprocessing.html\n",
            "Please also refer to the documentation for alternative solver options:\n",
            "    https://scikit-learn.org/stable/modules/linear_model.html#logistic-regression\n",
            "  extra_warning_msg=_LOGISTIC_SOLVER_CONVERGENCE_MSG)\n",
            "/usr/local/lib/python3.6/dist-packages/sklearn/linear_model/_logistic.py:940: ConvergenceWarning: lbfgs failed to converge (status=1):\n",
            "STOP: TOTAL NO. of ITERATIONS REACHED LIMIT.\n",
            "\n",
            "Increase the number of iterations (max_iter) or scale the data as shown in:\n",
            "    https://scikit-learn.org/stable/modules/preprocessing.html\n",
            "Please also refer to the documentation for alternative solver options:\n",
            "    https://scikit-learn.org/stable/modules/linear_model.html#logistic-regression\n",
            "  extra_warning_msg=_LOGISTIC_SOLVER_CONVERGENCE_MSG)\n",
            "/usr/local/lib/python3.6/dist-packages/sklearn/linear_model/_logistic.py:940: ConvergenceWarning: lbfgs failed to converge (status=1):\n",
            "STOP: TOTAL NO. of ITERATIONS REACHED LIMIT.\n",
            "\n",
            "Increase the number of iterations (max_iter) or scale the data as shown in:\n",
            "    https://scikit-learn.org/stable/modules/preprocessing.html\n",
            "Please also refer to the documentation for alternative solver options:\n",
            "    https://scikit-learn.org/stable/modules/linear_model.html#logistic-regression\n",
            "  extra_warning_msg=_LOGISTIC_SOLVER_CONVERGENCE_MSG)\n",
            "/usr/local/lib/python3.6/dist-packages/sklearn/linear_model/_logistic.py:940: ConvergenceWarning: lbfgs failed to converge (status=1):\n",
            "STOP: TOTAL NO. of ITERATIONS REACHED LIMIT.\n",
            "\n",
            "Increase the number of iterations (max_iter) or scale the data as shown in:\n",
            "    https://scikit-learn.org/stable/modules/preprocessing.html\n",
            "Please also refer to the documentation for alternative solver options:\n",
            "    https://scikit-learn.org/stable/modules/linear_model.html#logistic-regression\n",
            "  extra_warning_msg=_LOGISTIC_SOLVER_CONVERGENCE_MSG)\n",
            "/usr/local/lib/python3.6/dist-packages/sklearn/linear_model/_logistic.py:940: ConvergenceWarning: lbfgs failed to converge (status=1):\n",
            "STOP: TOTAL NO. of ITERATIONS REACHED LIMIT.\n",
            "\n",
            "Increase the number of iterations (max_iter) or scale the data as shown in:\n",
            "    https://scikit-learn.org/stable/modules/preprocessing.html\n",
            "Please also refer to the documentation for alternative solver options:\n",
            "    https://scikit-learn.org/stable/modules/linear_model.html#logistic-regression\n",
            "  extra_warning_msg=_LOGISTIC_SOLVER_CONVERGENCE_MSG)\n",
            "/usr/local/lib/python3.6/dist-packages/sklearn/linear_model/_logistic.py:940: ConvergenceWarning: lbfgs failed to converge (status=1):\n",
            "STOP: TOTAL NO. of ITERATIONS REACHED LIMIT.\n",
            "\n",
            "Increase the number of iterations (max_iter) or scale the data as shown in:\n",
            "    https://scikit-learn.org/stable/modules/preprocessing.html\n",
            "Please also refer to the documentation for alternative solver options:\n",
            "    https://scikit-learn.org/stable/modules/linear_model.html#logistic-regression\n",
            "  extra_warning_msg=_LOGISTIC_SOLVER_CONVERGENCE_MSG)\n",
            "/usr/local/lib/python3.6/dist-packages/sklearn/linear_model/_logistic.py:940: ConvergenceWarning: lbfgs failed to converge (status=1):\n",
            "STOP: TOTAL NO. of ITERATIONS REACHED LIMIT.\n",
            "\n",
            "Increase the number of iterations (max_iter) or scale the data as shown in:\n",
            "    https://scikit-learn.org/stable/modules/preprocessing.html\n",
            "Please also refer to the documentation for alternative solver options:\n",
            "    https://scikit-learn.org/stable/modules/linear_model.html#logistic-regression\n",
            "  extra_warning_msg=_LOGISTIC_SOLVER_CONVERGENCE_MSG)\n",
            "/usr/local/lib/python3.6/dist-packages/sklearn/linear_model/_logistic.py:940: ConvergenceWarning: lbfgs failed to converge (status=1):\n",
            "STOP: TOTAL NO. of ITERATIONS REACHED LIMIT.\n",
            "\n",
            "Increase the number of iterations (max_iter) or scale the data as shown in:\n",
            "    https://scikit-learn.org/stable/modules/preprocessing.html\n",
            "Please also refer to the documentation for alternative solver options:\n",
            "    https://scikit-learn.org/stable/modules/linear_model.html#logistic-regression\n",
            "  extra_warning_msg=_LOGISTIC_SOLVER_CONVERGENCE_MSG)\n",
            "/usr/local/lib/python3.6/dist-packages/sklearn/linear_model/_logistic.py:940: ConvergenceWarning: lbfgs failed to converge (status=1):\n",
            "STOP: TOTAL NO. of ITERATIONS REACHED LIMIT.\n",
            "\n",
            "Increase the number of iterations (max_iter) or scale the data as shown in:\n",
            "    https://scikit-learn.org/stable/modules/preprocessing.html\n",
            "Please also refer to the documentation for alternative solver options:\n",
            "    https://scikit-learn.org/stable/modules/linear_model.html#logistic-regression\n",
            "  extra_warning_msg=_LOGISTIC_SOLVER_CONVERGENCE_MSG)\n",
            "/usr/local/lib/python3.6/dist-packages/sklearn/linear_model/_logistic.py:940: ConvergenceWarning: lbfgs failed to converge (status=1):\n",
            "STOP: TOTAL NO. of ITERATIONS REACHED LIMIT.\n",
            "\n",
            "Increase the number of iterations (max_iter) or scale the data as shown in:\n",
            "    https://scikit-learn.org/stable/modules/preprocessing.html\n",
            "Please also refer to the documentation for alternative solver options:\n",
            "    https://scikit-learn.org/stable/modules/linear_model.html#logistic-regression\n",
            "  extra_warning_msg=_LOGISTIC_SOLVER_CONVERGENCE_MSG)\n",
            "/usr/local/lib/python3.6/dist-packages/sklearn/linear_model/_logistic.py:940: ConvergenceWarning: lbfgs failed to converge (status=1):\n",
            "STOP: TOTAL NO. of ITERATIONS REACHED LIMIT.\n",
            "\n",
            "Increase the number of iterations (max_iter) or scale the data as shown in:\n",
            "    https://scikit-learn.org/stable/modules/preprocessing.html\n",
            "Please also refer to the documentation for alternative solver options:\n",
            "    https://scikit-learn.org/stable/modules/linear_model.html#logistic-regression\n",
            "  extra_warning_msg=_LOGISTIC_SOLVER_CONVERGENCE_MSG)\n"
          ],
          "name": "stderr"
        },
        {
          "output_type": "stream",
          "text": [
            "[False False False False  True False False False  True False False  True\n",
            " False  True  True False False  True False  True  True False False False\n",
            " False False  True  True  True  True False  True False  True False False\n",
            " False False  True  True  True  True False  True False False False False\n",
            " False False  True]\n",
            "[17 23  8 27  1 13 15 14  1 19 10  1 24  1  1  7  9  1 28  1  1  3 18 26\n",
            " 12 31  1  1  1  1 32  1 16  1 21  5 20 30  1  1  1  1 11  1 22 29  2  4\n",
            "  6 25  1]\n"
          ],
          "name": "stdout"
        }
      ]
    },
    {
      "cell_type": "code",
      "metadata": {
        "id": "_Lpvb9DGT41E",
        "colab_type": "code",
        "colab": {}
      },
      "source": [
        "# cols=['euribor3m', 'job_blue-collar', 'job_housemaid', 'marital_unknown', 'education_illiterate', 'default_no', 'default_unknown', \n",
        "#       'contact_cellular', 'contact_telephone', 'month_apr', 'month_aug', 'month_dec', 'month_jul', 'month_jun', 'month_mar', \n",
        "#       'month_may', 'month_nov', 'month_oct', 'poutcome_failure', 'poutcome_success'] \n",
        "\n",
        "cols=['euribor3m', 'job_blue-collar', 'job_housemaid', 'marital_unknown', 'education_illiterate', 'default_unknown', \n",
        "      'contact_telephone', 'month_aug', 'month_dec', 'month_jul', 'month_jun', 'month_mar', \n",
        "      'month_may', 'month_nov', 'month_oct', 'poutcome_success']\n",
        "      \n",
        "X=os_data_X[cols]\n",
        "y=os_data_y['y']"
      ],
      "execution_count": 0,
      "outputs": []
    },
    {
      "cell_type": "markdown",
      "metadata": {
        "id": "0taxHI1CgUiO",
        "colab_type": "text"
      },
      "source": [
        "# Implementasi Model"
      ]
    },
    {
      "cell_type": "code",
      "metadata": {
        "id": "p73yjPb7gWBE",
        "colab_type": "code",
        "outputId": "2684fd74-beca-423b-d6fd-cbe68386e78a",
        "colab": {
          "base_uri": "https://localhost:8080/",
          "height": 595
        }
      },
      "source": [
        "import statsmodels.api as sm\n",
        "\n",
        "logit_model=sm.Logit(y,X)\n",
        "result=logit_model.fit()\n",
        "print(result.summary2())"
      ],
      "execution_count": 0,
      "outputs": [
        {
          "output_type": "stream",
          "text": [
            "Optimization terminated successfully.\n",
            "         Current function value: 0.567853\n",
            "         Iterations 15\n",
            "                                      Results: Logit\n",
            "===========================================================================================\n",
            "Model:                        Logit                    Pseudo R-squared:         0.181     \n",
            "Dependent Variable:           y                        AIC:                      12517.9458\n",
            "Date:                         2020-03-03 11:39         BIC:                      12634.8275\n",
            "No. Observations:             10994                    Log-Likelihood:           -6243.0   \n",
            "Df Model:                     15                       LL-Null:                  -7620.5   \n",
            "Df Residuals:                 10978                    LLR p-value:              0.0000    \n",
            "Converged:                    1.0000                   Scale:                    1.0000    \n",
            "No. Iterations:               15.0000                                                      \n",
            "-------------------------------------------------------------------------------------------\n",
            "                      Coef.      Std.Err.       z     P>|z|       [0.025         0.975]    \n",
            "-------------------------------------------------------------------------------------------\n",
            "euribor3m             -0.3810         0.0174 -21.9346 0.0000         -0.4150        -0.3470\n",
            "job_blue-collar        0.1062         0.0587   1.8102 0.0703         -0.0088         0.2212\n",
            "job_housemaid          0.2383         0.1516   1.5719 0.1160         -0.0588         0.5355\n",
            "marital_unknown        0.7342         0.6214   1.1816 0.2374         -0.4837         1.9522\n",
            "education_illiterate -39.0034 424125446.1107  -0.0000 1.0000 -831270638.3074 831270560.3006\n",
            "default_unknown       -0.2919         0.0652  -4.4806 0.0000         -0.4197        -0.1642\n",
            "contact_telephone     -0.1038         0.0737  -1.4079 0.1592         -0.2482         0.0407\n",
            "month_aug              1.0574         0.0863  12.2496 0.0000          0.8882         1.2266\n",
            "month_dec              1.8444         0.3550   5.1961 0.0000          1.1487         2.5402\n",
            "month_jul              1.3437         0.0905  14.8413 0.0000          1.1663         1.5212\n",
            "month_jun              1.3009         0.0883  14.7339 0.0000          1.1278         1.4739\n",
            "month_mar              2.7362         0.1878  14.5729 0.0000          2.3682         3.1042\n",
            "month_may              0.4865         0.0587   8.2949 0.0000          0.3715         0.6015\n",
            "month_nov              0.9443         0.0938  10.0699 0.0000          0.7605         1.1281\n",
            "month_oct              2.5154         0.1650  15.2475 0.0000          2.1920         2.8387\n",
            "poutcome_success       2.0858         0.1274  16.3678 0.0000          1.8360         2.3355\n",
            "===========================================================================================\n",
            "\n"
          ],
          "name": "stdout"
        }
      ]
    },
    {
      "cell_type": "code",
      "metadata": {
        "id": "FpjhxgJSMWMk",
        "colab_type": "code",
        "outputId": "302f3a35-a757-4c91-9277-6d44db40f2e5",
        "colab": {
          "base_uri": "https://localhost:8080/",
          "height": 544
        }
      },
      "source": [
        "# cols=['euribor3m', 'job_blue-collar', 'job_housemaid', 'marital_unknown', 'education_illiterate', \n",
        "#       'month_apr', 'month_aug', 'month_dec', 'month_jul', 'month_jun', 'month_mar', \n",
        "#       'month_may', 'month_nov', 'month_oct', \"poutcome_failure\", \"poutcome_success\"] \n",
        "\n",
        "cols=['euribor3m', 'job_blue-collar', 'job_housemaid', 'marital_unknown',\n",
        "      'month_aug', 'month_dec', 'month_jul', 'month_jun', 'month_mar', \n",
        "      'month_may', 'month_nov', 'month_oct', \"poutcome_success\"] \n",
        "X=os_data_X[cols]\n",
        "y=os_data_y['y']\n",
        "logit_model=sm.Logit(y,X)\n",
        "result=logit_model.fit()\n",
        "print(result.summary2())"
      ],
      "execution_count": 0,
      "outputs": [
        {
          "output_type": "stream",
          "text": [
            "Optimization terminated successfully.\n",
            "         Current function value: 0.568893\n",
            "         Iterations 7\n",
            "                         Results: Logit\n",
            "=================================================================\n",
            "Model:              Logit            Pseudo R-squared: 0.179     \n",
            "Dependent Variable: y                AIC:              12534.8267\n",
            "Date:               2020-03-03 12:01 BIC:              12629.7931\n",
            "No. Observations:   10994            Log-Likelihood:   -6254.4   \n",
            "Df Model:           12               LL-Null:          -7620.5   \n",
            "Df Residuals:       10981            LLR p-value:      0.0000    \n",
            "Converged:          1.0000           Scale:            1.0000    \n",
            "No. Iterations:     7.0000                                       \n",
            "-----------------------------------------------------------------\n",
            "                  Coef.  Std.Err.    z     P>|z|   [0.025  0.975]\n",
            "-----------------------------------------------------------------\n",
            "euribor3m        -0.4057   0.0143 -28.3513 0.0000 -0.4338 -0.3777\n",
            "job_blue-collar   0.0628   0.0576   1.0902 0.2756 -0.0501  0.1756\n",
            "job_housemaid     0.2040   0.1512   1.3488 0.1774 -0.0924  0.5003\n",
            "marital_unknown   0.7300   0.6192   1.1790 0.2384 -0.4836  1.9435\n",
            "month_aug         1.1021   0.0803  13.7196 0.0000  0.9447  1.2596\n",
            "month_dec         1.8485   0.3543   5.2167 0.0000  1.1540  2.5430\n",
            "month_jul         1.3867   0.0846  16.3978 0.0000  1.2209  1.5524\n",
            "month_jun         1.2600   0.0855  14.7436 0.0000  1.0925  1.4276\n",
            "month_mar         2.7659   0.1880  14.7105 0.0000  2.3974  3.1344\n",
            "month_may         0.4630   0.0581   7.9702 0.0000  0.3491  0.5769\n",
            "month_nov         1.0032   0.0901  11.1366 0.0000  0.8267  1.1798\n",
            "month_oct         2.5070   0.1648  15.2135 0.0000  2.1840  2.8299\n",
            "poutcome_success  2.1021   0.1274  16.4980 0.0000  1.8523  2.3518\n",
            "=================================================================\n",
            "\n"
          ],
          "name": "stdout"
        }
      ]
    },
    {
      "cell_type": "markdown",
      "metadata": {
        "id": "LZQJVLepRtTW",
        "colab_type": "text"
      },
      "source": [
        "# Pengujian Model Dengan Regresi Logistik"
      ]
    },
    {
      "cell_type": "code",
      "metadata": {
        "id": "p7AQsykcRurF",
        "colab_type": "code",
        "outputId": "fbc8d9f2-b66c-4c68-f8b9-f77527c432af",
        "colab": {
          "base_uri": "https://localhost:8080/",
          "height": 102
        }
      },
      "source": [
        "from sklearn.linear_model import LogisticRegression\n",
        "from sklearn import metrics\n",
        "X_train, X_test, y_train, y_test = train_test_split(X, y, test_size=0.3, random_state=0)\n",
        "logreg = LogisticRegression()\n",
        "logreg.fit(X_train, y_train)"
      ],
      "execution_count": 0,
      "outputs": [
        {
          "output_type": "execute_result",
          "data": {
            "text/plain": [
              "LogisticRegression(C=1.0, class_weight=None, dual=False, fit_intercept=True,\n",
              "                   intercept_scaling=1, l1_ratio=None, max_iter=100,\n",
              "                   multi_class='auto', n_jobs=None, penalty='l2',\n",
              "                   random_state=None, solver='lbfgs', tol=0.0001, verbose=0,\n",
              "                   warm_start=False)"
            ]
          },
          "metadata": {
            "tags": []
          },
          "execution_count": 32
        }
      ]
    },
    {
      "cell_type": "code",
      "metadata": {
        "id": "FpBPrfOmRyZn",
        "colab_type": "code",
        "outputId": "b387a4af-5436-4ae1-dd57-6a282e99730b",
        "colab": {
          "base_uri": "https://localhost:8080/",
          "height": 34
        }
      },
      "source": [
        "y_pred = logreg.predict(X_test)\n",
        "print('Accuracy of logistic regression classifier on test set: {:.2f}'.format(logreg.score(X_test, y_test)))"
      ],
      "execution_count": 0,
      "outputs": [
        {
          "output_type": "stream",
          "text": [
            "Accuracy of logistic regression classifier on test set: 0.73\n"
          ],
          "name": "stdout"
        }
      ]
    },
    {
      "cell_type": "code",
      "metadata": {
        "id": "kw-zMaQORzX1",
        "colab_type": "code",
        "outputId": "7bd14e9a-6574-40be-f7cf-846e80a4f306",
        "colab": {
          "base_uri": "https://localhost:8080/",
          "height": 51
        }
      },
      "source": [
        "from sklearn.metrics import confusion_matrix\n",
        "confusion_matrix = confusion_matrix(y_test, y_pred)\n",
        "print(confusion_matrix)"
      ],
      "execution_count": 0,
      "outputs": [
        {
          "output_type": "stream",
          "text": [
            "[[1241  393]\n",
            " [ 509 1156]]\n"
          ],
          "name": "stdout"
        }
      ]
    },
    {
      "cell_type": "markdown",
      "metadata": {
        "id": "MOoL1dURR7M6",
        "colab_type": "text"
      },
      "source": [
        "Hasil menunjukkan :\n",
        "\n",
        "1241 + 393 (hasil prediksi yang benar)\n",
        "509 + 1156 (hasil prediksi yang salah)"
      ]
    },
    {
      "cell_type": "markdown",
      "metadata": {
        "id": "fvS2D5j7Sbz7",
        "colab_type": "text"
      },
      "source": [
        "\n",
        "\n",
        "---\n",
        "\n",
        "Compute precision, recall, F-measure and support"
      ]
    },
    {
      "cell_type": "code",
      "metadata": {
        "id": "xPbt-qieS1u8",
        "colab_type": "code",
        "outputId": "c0dd53ea-4545-43d9-c3b4-b29feefb2e73",
        "colab": {
          "base_uri": "https://localhost:8080/",
          "height": 170
        }
      },
      "source": [
        "from sklearn.metrics import classification_report\n",
        "print(classification_report(y_test, y_pred))"
      ],
      "execution_count": 0,
      "outputs": [
        {
          "output_type": "stream",
          "text": [
            "              precision    recall  f1-score   support\n",
            "\n",
            "         0.0       0.71      0.76      0.73      1634\n",
            "         1.0       0.75      0.69      0.72      1665\n",
            "\n",
            "    accuracy                           0.73      3299\n",
            "   macro avg       0.73      0.73      0.73      3299\n",
            "weighted avg       0.73      0.73      0.73      3299\n",
            "\n"
          ],
          "name": "stdout"
        }
      ]
    },
    {
      "cell_type": "markdown",
      "metadata": {
        "id": "3ZwgARtUS9rd",
        "colab_type": "text"
      },
      "source": [
        "Hasil Interpretasi : Akurasi sebesar `73%`"
      ]
    },
    {
      "cell_type": "markdown",
      "metadata": {
        "id": "vetvlJflSNzM",
        "colab_type": "text"
      },
      "source": [
        "# Kurva ROC"
      ]
    },
    {
      "cell_type": "markdown",
      "metadata": {
        "id": "oPdSyuLLTYc2",
        "colab_type": "text"
      },
      "source": [
        "ROC digunakan untuk pengklasifikasian biner. Garis putus-putus (dotted line) mewakili kurva ROC dari `random classifier`. Hasil klasifikasi yang baik adalah berada sejauh mungkin dari `dotted line` (dari bawah menuju sudut kiri atas)."
      ]
    },
    {
      "cell_type": "code",
      "metadata": {
        "id": "2cbUZBnoR1Cd",
        "colab_type": "code",
        "outputId": "d98f6e76-4560-407c-b502-6bc802d1b564",
        "colab": {
          "base_uri": "https://localhost:8080/",
          "height": 301
        }
      },
      "source": [
        "from sklearn.metrics import roc_auc_score\n",
        "from sklearn.metrics import roc_curve\n",
        "logit_roc_auc = roc_auc_score(y_test, logreg.predict(X_test))\n",
        "fpr, tpr, thresholds = roc_curve(y_test, logreg.predict_proba(X_test)[:,1])\n",
        "plt.figure()\n",
        "plt.plot(fpr, tpr, label='Logistic Regression (area = %0.2f)' % logit_roc_auc)\n",
        "plt.plot([0, 1], [0, 1],'r--')\n",
        "plt.xlim([0.0, 1.0])\n",
        "plt.ylim([0.0, 1.05])\n",
        "plt.xlabel('False Positive Rate')\n",
        "plt.ylabel('True Positive Rate')\n",
        "plt.title('Receiver operating characteristic')\n",
        "plt.legend(loc=\"lower right\")\n",
        "plt.savefig('Log_ROC')\n",
        "plt.show()"
      ],
      "execution_count": 0,
      "outputs": [
        {
          "output_type": "display_data",
          "data": {
            "image/png": "[encoded data removed]",
            "text/plain": [
              "<Figure size 432x288 with 1 Axes>"
            ]
          },
          "metadata": {
            "tags": []
          }
        }
      ]
    }
  ]
}