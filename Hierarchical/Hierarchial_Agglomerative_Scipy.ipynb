{
  "nbformat": 4,
  "nbformat_minor": 0,
  "metadata": {
    "colab": {
      "name": "Hierarchial Agglomerative-Scipy.ipynb",
      "provenance": [],
      "collapsed_sections": [],
      "authorship_tag": "ABX9TyOoiCc7AJcZBJZs00k4vvCt"
    },
    "kernelspec": {
      "name": "python3",
      "display_name": "Python 3"
    }
  },
  "cells": [
    {
      "cell_type": "markdown",
      "metadata": {
        "id": "BizMGQrz1ij4",
        "colab_type": "text"
      },
      "source": [
        "Reference = https://medium.com/@darkprogrammerpb/agglomerative-hierarchial-clustering-from-scratch-ec50e14c3826"
      ]
    },
    {
      "cell_type": "code",
      "metadata": {
        "id": "cN4X8oKJ1BmC",
        "colab_type": "code",
        "colab": {}
      },
      "source": [
        "import numpy as np\n",
        "import matplotlib.pyplot as plt\n",
        "%matplotlib inline"
      ],
      "execution_count": 0,
      "outputs": []
    },
    {
      "cell_type": "code",
      "metadata": {
        "id": "X7z9SJYB2bap",
        "colab_type": "code",
        "colab": {}
      },
      "source": [
        "'''\n",
        "Creating the data: We create the data necessary for clustering. \n",
        "We consider only 2 features but the number of features could be extended to more than 2. \n",
        "The example was created to make calculations simple and easy to understand\n",
        "'''\n",
        "\n",
        "X = np.array([[0.40,0.53],\n",
        "              [0.22,0.32],\n",
        "              [0.35,0.32],\n",
        "              [0.26,0.19],\n",
        "              [0.08,0.41],\n",
        "              [0.35,0.30],\n",
        "              [0.80,0.98],\n",
        "              [0.28,0.33]\n",
        "])"
      ],
      "execution_count": 0,
      "outputs": []
    },
    {
      "cell_type": "code",
      "metadata": {
        "id": "mwKSIMhb2etX",
        "colab_type": "code",
        "colab": {}
      },
      "source": [
        "'''\n",
        "Cluster Distance computation: The class below enables the formation of distance/similarity matrix between the sample elements. \n",
        "Some methods of the class are used to compute distance based on certain criterion because after some iteration in Hierarchial clustering, \n",
        "we will have to compute distances between samples and clusters and between two clusters and so on.\n",
        "'''\n",
        "\n",
        "class Distance_computation_grid(object):\n",
        "    '''\n",
        "        class to enable the Computation of distance matrix \n",
        "    '''\n",
        "    def __init__(self):\n",
        "        pass\n",
        "    \n",
        "    def compute_distance(self,samples):\n",
        "        '''\n",
        "            Creates a matrix of distances between individual samples and clusters attained at a particular step\n",
        "        '''\n",
        "        Distance_mat = np.zeros((len(samples),len(samples)))\n",
        "        for i in range(Distance_mat.shape[0]):\n",
        "            for j in range(Distance_mat.shape[0]):\n",
        "                if i!=j:\n",
        "                    Distance_mat[i,j] = float(self.distance_calculate(samples[i],samples[j]))\n",
        "                else:\n",
        "                    Distance_mat[i,j] = 10**4\n",
        "        return Distance_mat\n",
        "    \n",
        "    \n",
        "    def distance_calculate(self,sample1,sample2):\n",
        "        '''\n",
        "            Distance calulated between two samples. The two samples can be both samples, both clusters or\n",
        "            one cluster and one sample. If both of them are samples/clusters, then simple norm is used. In other \n",
        "            cases, we refer it as an exception case and pass the samples as parameter to some function that \n",
        "            calculates the necessary distance between cluster and a sample\n",
        "        '''\n",
        "        dist = []\n",
        "        for i in range(len(sample1)):\n",
        "            for j in range(len(sample2)):\n",
        "                try:\n",
        "                    dist.append(np.linalg.norm(np.array(sample1[i])-np.array(sample2[j])))\n",
        "                except:\n",
        "                    dist.append(self.intersampledist(sample1[i],sample2[j]))\n",
        "        return min(dist)\n",
        "    \n",
        "    \n",
        "    def intersampledist(self,s1,s2):\n",
        "        '''\n",
        "            To be used in case we have one sample and one cluster . It takes the help of one \n",
        "            method 'interclusterdist' to compute the distances between elements of a cluster(which are\n",
        "            samples) and the actual sample given.\n",
        "        '''\n",
        "        if str(type(s2[0]))!='<class \\'list\\'>':\n",
        "            s2=[s2]\n",
        "        if str(type(s1[0]))!='<class \\'list\\'>':\n",
        "            s1=[s1]\n",
        "        m = len(s1)\n",
        "        n = len(s2)\n",
        "        dist = []\n",
        "        if n>=m:\n",
        "            for i in range(n):\n",
        "                for j in range(m):\n",
        "                    if (len(s2[i])>=len(s1[j])) and str(type(s2[i][0])!='<class \\'list\\'>'):\n",
        "                        dist.append(self.interclusterdist(s2[i],s1[j]))\n",
        "                    else:\n",
        "                        dist.append(np.linalg.norm(np.array(s2[i])-np.array(s1[j])))\n",
        "        else:\n",
        "            for i in range(m):\n",
        "                for j in range(n):\n",
        "                    if (len(s1[i])>=len(s2[j])) and str(type(s1[i][0])!='<class \\'list\\'>'):\n",
        "                        dist.append(self.interclusterdist(s1[i],s2[j]))\n",
        "                    else:\n",
        "                        dist.append(np.linalg.norm(np.array(s1[i])-np.array(s2[j])))\n",
        "        return min(dist)\n",
        "    \n",
        "    def interclusterdist(self,cl,sample):\n",
        "        if sample[0]!='<class \\'list\\'>':\n",
        "            sample = [sample]\n",
        "        dist   = []\n",
        "        for i in range(len(cl)):\n",
        "            for j in range(len(sample)):\n",
        "                dist.append(np.linalg.norm(np.array(cl[i])-np.array(sample[j])))\n",
        "        return min(dist)"
      ],
      "execution_count": 0,
      "outputs": []
    },
    {
      "cell_type": "code",
      "metadata": {
        "id": "kkw72Mfq29Lq",
        "colab_type": "code",
        "colab": {
          "base_uri": "https://localhost:8080/",
          "height": 969
        },
        "outputId": "b00b24f6-29b8-4eb3-fbe3-f50e3ca2daf3"
      },
      "source": [
        "'''\n",
        "Implementing the clustering method: We now implement the clustering method and we keep on printing the clusters formed after each iteration. \n",
        "This will be used to verify the clustering done from our implementation of agglomerative clustering with single linkage with other modules available.\n",
        "'''\n",
        "\n",
        "progression = [[i] for i in range(X.shape[0])]\n",
        "samples     = [[list(X[i])] for i in range(X.shape[0])]\n",
        "m = len(samples)\n",
        "distcal  = Distance_computation_grid()\n",
        "\n",
        "while m>1:\n",
        "    print('Sample size before clustering    :- ',m)\n",
        "    Distance_mat      = distcal.compute_distance(samples)\n",
        "    sample_ind_needed = np.where(Distance_mat==Distance_mat.min())[0]\n",
        "    value_to_add      = samples.pop(sample_ind_needed[1])\n",
        "    samples[sample_ind_needed[0]].append(value_to_add)\n",
        "    \n",
        "    print('Cluster Node 1                   :-',progression[sample_ind_needed[0]])\n",
        "    print('Cluster Node 2                   :-',progression[sample_ind_needed[1]])\n",
        "    \n",
        "    progression[sample_ind_needed[0]].append(progression[sample_ind_needed[1]])\n",
        "    progression[sample_ind_needed[0]] = [progression[sample_ind_needed[0]]]\n",
        "    v = progression.pop(sample_ind_needed[1])\n",
        "    m = len(samples)\n",
        "    \n",
        "    print('Progression(Current Sample)      :-',progression)\n",
        "    print('Cluster attained                 :-',progression[sample_ind_needed[0]])\n",
        "    print('Sample size after clustering     :-',m)\n",
        "    print('\\n')"
      ],
      "execution_count": 4,
      "outputs": [
        {
          "output_type": "stream",
          "text": [
            "Sample size before clustering    :-  8\n",
            "Cluster Node 1                   :- [2]\n",
            "Cluster Node 2                   :- [5]\n",
            "Progression(Current Sample)      :- [[0], [1], [[2, [5]]], [3], [4], [6], [7]]\n",
            "Cluster attained                 :- [[2, [5]]]\n",
            "Sample size after clustering     :- 7\n",
            "\n",
            "\n",
            "Sample size before clustering    :-  7\n",
            "Cluster Node 1                   :- [1]\n",
            "Cluster Node 2                   :- [7]\n",
            "Progression(Current Sample)      :- [[0], [[1, [7]]], [[2, [5]]], [3], [4], [6]]\n",
            "Cluster attained                 :- [[1, [7]]]\n",
            "Sample size after clustering     :- 6\n",
            "\n",
            "\n",
            "Sample size before clustering    :-  6\n",
            "Cluster Node 1                   :- [[1, [7]]]\n",
            "Cluster Node 2                   :- [[2, [5]]]\n",
            "Progression(Current Sample)      :- [[0], [[[1, [7]], [[2, [5]]]]], [3], [4], [6]]\n",
            "Cluster attained                 :- [[[1, [7]], [[2, [5]]]]]\n",
            "Sample size after clustering     :- 5\n",
            "\n",
            "\n",
            "Sample size before clustering    :-  5\n",
            "Cluster Node 1                   :- [[[1, [7]], [[2, [5]]]]]\n",
            "Cluster Node 2                   :- [3]\n",
            "Progression(Current Sample)      :- [[0], [[[[1, [7]], [[2, [5]]]], [3]]], [4], [6]]\n",
            "Cluster attained                 :- [[[[1, [7]], [[2, [5]]]], [3]]]\n",
            "Sample size after clustering     :- 4\n",
            "\n",
            "\n",
            "Sample size before clustering    :-  4\n",
            "Cluster Node 1                   :- [[[[1, [7]], [[2, [5]]]], [3]]]\n",
            "Cluster Node 2                   :- [4]\n",
            "Progression(Current Sample)      :- [[0], [[[[[1, [7]], [[2, [5]]]], [3]], [4]]], [6]]\n",
            "Cluster attained                 :- [[[[[1, [7]], [[2, [5]]]], [3]], [4]]]\n",
            "Sample size after clustering     :- 3\n",
            "\n",
            "\n",
            "Sample size before clustering    :-  3\n",
            "Cluster Node 1                   :- [0]\n",
            "Cluster Node 2                   :- [[[[[1, [7]], [[2, [5]]]], [3]], [4]]]\n",
            "Progression(Current Sample)      :- [[[0, [[[[[1, [7]], [[2, [5]]]], [3]], [4]]]]], [6]]\n",
            "Cluster attained                 :- [[0, [[[[[1, [7]], [[2, [5]]]], [3]], [4]]]]]\n",
            "Sample size after clustering     :- 2\n",
            "\n",
            "\n",
            "Sample size before clustering    :-  2\n",
            "Cluster Node 1                   :- [[0, [[[[[1, [7]], [[2, [5]]]], [3]], [4]]]]]\n",
            "Cluster Node 2                   :- [6]\n",
            "Progression(Current Sample)      :- [[[[0, [[[[[1, [7]], [[2, [5]]]], [3]], [4]]]], [6]]]]\n",
            "Cluster attained                 :- [[[0, [[[[[1, [7]], [[2, [5]]]], [3]], [4]]]], [6]]]\n",
            "Sample size after clustering     :- 1\n",
            "\n",
            "\n"
          ],
          "name": "stdout"
        }
      ]
    },
    {
      "cell_type": "code",
      "metadata": {
        "id": "tErONbey3ETv",
        "colab_type": "code",
        "colab": {
          "base_uri": "https://localhost:8080/",
          "height": 595
        },
        "outputId": "0191b9a2-9a20-47ed-8dde-cf17cf5c4a52"
      },
      "source": [
        "'''\n",
        "Scipy Implementation: We can also create Dendrogram using the existing module available in Scipy. \n",
        "The entire process of clustering is done in the backend and we can clearly get a dendrogram to show how many clusters are there and how hierarchy is formed in the cluster\n",
        "'''\n",
        "\n",
        "from scipy.cluster.hierarchy import dendrogram, linkage\n",
        "from matplotlib import pyplot as plt\n",
        "Z = linkage(X, 'single')\n",
        "fig = plt.figure(figsize=(25, 10))\n",
        "dn = dendrogram(Z)"
      ],
      "execution_count": 5,
      "outputs": [
        {
          "output_type": "display_data",
          "data": {
            "image/png": "[encoded data removed]",
            "text/plain": [
              "<Figure size 1800x720 with 1 Axes>"
            ]
          },
          "metadata": {
            "tags": []
          }
        }
      ]
    }
  ]
}