{
  "nbformat": 4,
  "nbformat_minor": 0,
  "metadata": {
    "colab": {
      "name": "Hierarchical Clustering.ipynb",
      "provenance": [],
      "collapsed_sections": [
        "Eggxs8CxkTIR",
        "to7sD0cDmtyQ",
        "dZdpihsQ1itJ"
      ],
      "authorship_tag": "ABX9TyM8DMYtNKmstK171+zG6rr0"
    },
    "kernelspec": {
      "name": "python3",
      "display_name": "Python 3"
    }
  },
  "cells": [
    {
      "cell_type": "markdown",
      "metadata": {
        "id": "v8vm0fQWn8-B",
        "colab_type": "text"
      },
      "source": [
        "Hierarchical clustering algorithms group similar objects into groups called clusters. There are two types of hierarchical clustering algorithms:\n",
        "Agglomerative — Bottom up approach. Start with many small clusters and merge them together to create bigger clusters.\n",
        "Divisive — Top down approach. Start with a single cluster than break it up into smaller clusters.\n",
        "\n",
        "![alt text](https://miro.medium.com/max/627/0*E-qictlO_9isi0Dl.png)"
      ]
    },
    {
      "cell_type": "markdown",
      "metadata": {
        "id": "IN74oVQxT2VN",
        "colab_type": "text"
      },
      "source": [
        "Reference = \n",
        "\n",
        "https://stackabuse.com/hierarchical-clustering-with-python-and-scikit-learn/\n",
        "\n",
        "https://towardsdatascience.com/machine-learning-algorithms-part-12-hierarchical-agglomerative-clustering-example-in-python-1e18e0075019\n",
        "\n",
        "https://code-examples.net/en/q/2d8411"
      ]
    },
    {
      "cell_type": "markdown",
      "metadata": {
        "id": "Eggxs8CxkTIR",
        "colab_type": "text"
      },
      "source": [
        "# Single"
      ]
    },
    {
      "cell_type": "code",
      "metadata": {
        "id": "xz9GpNcrkgIa",
        "colab_type": "code",
        "colab": {}
      },
      "source": [
        "import numpy as np\n",
        "from scipy.cluster.hierarchy import linkage, dendrogram\n",
        "import matplotlib.pyplot as plt"
      ],
      "execution_count": 0,
      "outputs": []
    },
    {
      "cell_type": "code",
      "metadata": {
        "id": "kQGe7Bw_ksJn",
        "colab_type": "code",
        "outputId": "c8c6f4cd-bbe8-4298-8f20-4991aa4a8cc4",
        "colab": {
          "base_uri": "https://localhost:8080/"
        }
      },
      "source": [
        "x = np.array([[1, 2], [1, 4], [1, 0], [4, 2], [4, 4], [4, 0]])\n",
        "print(x)"
      ],
      "execution_count": 0,
      "outputs": [
        {
          "output_type": "stream",
          "text": [
            "[[1 2]\n",
            " [1 4]\n",
            " [1 0]\n",
            " [4 2]\n",
            " [4 4]\n",
            " [4 0]]\n"
          ],
          "name": "stdout"
        }
      ]
    },
    {
      "cell_type": "code",
      "metadata": {
        "id": "vmZNNc_IlCp-",
        "colab_type": "code",
        "outputId": "408e9053-5fe3-45d4-e8cf-b874c2085ec1",
        "colab": {
          "base_uri": "https://localhost:8080/"
        }
      },
      "source": [
        "plt.scatter(x[:,0],x[:,1], s=10)"
      ],
      "execution_count": 0,
      "outputs": [
        {
          "output_type": "execute_result",
          "data": {
            "text/plain": [
              "<matplotlib.collections.PathCollection at 0x7f83d2ee22b0>"
            ]
          },
          "metadata": {
            "tags": []
          },
          "execution_count": 25
        },
        {
          "output_type": "display_data",
          "data": {
            "image/png": "[encoded data removed]",
            "text/plain": [
              "<Figure size 432x288 with 1 Axes>"
            ]
          },
          "metadata": {
            "tags": []
          }
        }
      ]
    },
    {
      "cell_type": "code",
      "metadata": {
        "id": "h9y0Ge8_lKOu",
        "colab_type": "code",
        "colab": {}
      },
      "source": [
        "linkage_matrix = linkage(x, \"single\")"
      ],
      "execution_count": 0,
      "outputs": []
    },
    {
      "cell_type": "code",
      "metadata": {
        "id": "FNZ79L9jlP6W",
        "colab_type": "code",
        "outputId": "23d9407f-59e9-4d47-f3b9-53ab85b334d3",
        "colab": {
          "base_uri": "https://localhost:8080/"
        }
      },
      "source": [
        "dendogram = dendrogram(linkage_matrix)\n",
        "plt.title(\"Hierarchical Clustering\")\n",
        "plt.show()"
      ],
      "execution_count": 0,
      "outputs": [
        {
          "output_type": "display_data",
          "data": {
            "image/png": "[encoded data removed]",
            "text/plain": [
              "<Figure size 432x288 with 1 Axes>"
            ]
          },
          "metadata": {
            "tags": []
          }
        }
      ]
    },
    {
      "cell_type": "markdown",
      "metadata": {
        "id": "to7sD0cDmtyQ",
        "colab_type": "text"
      },
      "source": [
        "# Agglomerative"
      ]
    },
    {
      "cell_type": "code",
      "metadata": {
        "id": "yzIMZ3ghmvma",
        "colab_type": "code",
        "colab": {}
      },
      "source": [
        "import matplotlib.pyplot as plt\n",
        "import pandas as pd\n",
        "%matplotlib inline\n",
        "import numpy as np"
      ],
      "execution_count": 0,
      "outputs": []
    },
    {
      "cell_type": "code",
      "metadata": {
        "id": "hfZtT6ZWm7d7",
        "colab_type": "code",
        "outputId": "2426f433-5f1f-426f-e9b8-3135a6a35366",
        "colab": {
          "base_uri": "https://localhost:8080/"
        }
      },
      "source": [
        "X = np.array([[5,3],[10,15],[15,12],[24,10],[30,30],\n",
        "    [85,70],[71,80],[60,78],[70,55],[80,91],])\n",
        "X"
      ],
      "execution_count": 0,
      "outputs": [
        {
          "output_type": "execute_result",
          "data": {
            "text/plain": [
              "array([[ 5,  3],\n",
              "       [10, 15],\n",
              "       [15, 12],\n",
              "       [24, 10],\n",
              "       [30, 30],\n",
              "       [85, 70],\n",
              "       [71, 80],\n",
              "       [60, 78],\n",
              "       [70, 55],\n",
              "       [80, 91]])"
            ]
          },
          "metadata": {
            "tags": []
          },
          "execution_count": 29
        }
      ]
    },
    {
      "cell_type": "code",
      "metadata": {
        "id": "S_9-W53tnMGy",
        "colab_type": "code",
        "outputId": "9689cb03-5390-46ad-e662-d9b81f5462fe",
        "colab": {
          "base_uri": "https://localhost:8080/"
        }
      },
      "source": [
        "from sklearn.cluster import AgglomerativeClustering\n",
        "\n",
        "cluster = AgglomerativeClustering(n_clusters=2, affinity='euclidean', linkage='ward')\n",
        "cluster.fit_predict(X)"
      ],
      "execution_count": 0,
      "outputs": [
        {
          "output_type": "execute_result",
          "data": {
            "text/plain": [
              "array([1, 1, 1, 1, 1, 0, 0, 0, 0, 0])"
            ]
          },
          "metadata": {
            "tags": []
          },
          "execution_count": 30
        }
      ]
    },
    {
      "cell_type": "code",
      "metadata": {
        "id": "GZem1CqznbVy",
        "colab_type": "code",
        "outputId": "47291239-ff14-4ad2-e499-ffe3272ecbab",
        "colab": {
          "base_uri": "https://localhost:8080/"
        }
      },
      "source": [
        "print(cluster.labels_)"
      ],
      "execution_count": 0,
      "outputs": [
        {
          "output_type": "stream",
          "text": [
            "[1 1 1 1 1 0 0 0 0 0]\n"
          ],
          "name": "stdout"
        }
      ]
    },
    {
      "cell_type": "code",
      "metadata": {
        "id": "DayNbgnlnjNK",
        "colab_type": "code",
        "outputId": "e6d83ee4-8bc4-4bd7-82f0-9fd3b3472b6b",
        "colab": {
          "base_uri": "https://localhost:8080/"
        }
      },
      "source": [
        "plt.scatter(X[:,0],X[:,1], c=cluster.labels_, cmap='rainbow')"
      ],
      "execution_count": 0,
      "outputs": [
        {
          "output_type": "execute_result",
          "data": {
            "text/plain": [
              "<matplotlib.collections.PathCollection at 0x7f83d4ded710>"
            ]
          },
          "metadata": {
            "tags": []
          },
          "execution_count": 32
        },
        {
          "output_type": "display_data",
          "data": {
            "image/png": "[encoded data removed]",
            "text/plain": [
              "<Figure size 432x288 with 1 Axes>"
            ]
          },
          "metadata": {
            "tags": []
          }
        }
      ]
    },
    {
      "cell_type": "markdown",
      "metadata": {
        "id": "dZdpihsQ1itJ",
        "colab_type": "text"
      },
      "source": [
        "# Divisive"
      ]
    },
    {
      "cell_type": "code",
      "metadata": {
        "id": "mMsOb68s244T",
        "colab_type": "code",
        "colab": {}
      },
      "source": [
        "import scipy\n",
        "import pylab\n",
        "import scipy.cluster.hierarchy as sch"
      ],
      "execution_count": 0,
      "outputs": []
    },
    {
      "cell_type": "code",
      "metadata": {
        "id": "ob5Gstiq27jH",
        "colab_type": "code",
        "outputId": "d84c2b5a-fc7d-445d-9222-9cd8ea3eb057",
        "colab": {
          "base_uri": "https://localhost:8080/",
          "height": 105
        }
      },
      "source": [
        "# Generate random features and distance matrix.\n",
        "x = scipy.rand(40)\n",
        "D = scipy.zeros([40,40])\n",
        "for i in range(40):\n",
        "    for j in range(40):\n",
        "        D[i,j] = abs(x[i] - x[j])"
      ],
      "execution_count": 0,
      "outputs": [
        {
          "output_type": "stream",
          "text": [
            "/usr/local/lib/python3.6/dist-packages/ipykernel_launcher.py:1: DeprecationWarning: scipy.rand is deprecated and will be removed in SciPy 2.0.0, use numpy.random.rand instead\n",
            "  \"\"\"Entry point for launching an IPython kernel.\n",
            "/usr/local/lib/python3.6/dist-packages/ipykernel_launcher.py:2: DeprecationWarning: scipy.zeros is deprecated and will be removed in SciPy 2.0.0, use numpy.zeros instead\n",
            "  \n"
          ],
          "name": "stderr"
        }
      ]
    },
    {
      "cell_type": "code",
      "metadata": {
        "id": "jCOSHLjn2-MB",
        "colab_type": "code",
        "outputId": "ac3cfb4a-6f1e-44e8-e582-dc5187bc467c",
        "colab": {
          "base_uri": "https://localhost:8080/",
          "height": 397
        }
      },
      "source": [
        "# Compute and plot first dendrogram.\n",
        "fig = pylab.figure(figsize=(8,8))\n",
        "ax1 = fig.add_axes([0.09,0.1,0.2,0.6])\n",
        "Y = sch.linkage(D, method='centroid')\n",
        "Z1 = sch.dendrogram(Y, orientation='right')\n",
        "ax1.set_xticks([])\n",
        "ax1.set_yticks([])"
      ],
      "execution_count": 0,
      "outputs": [
        {
          "output_type": "execute_result",
          "data": {
            "text/plain": [
              "[]"
            ]
          },
          "metadata": {
            "tags": []
          },
          "execution_count": 65
        },
        {
          "output_type": "display_data",
          "data": {
            "image/png": "[encoded data removed]",
            "text/plain": [
              "<Figure size 576x576 with 1 Axes>"
            ]
          },
          "metadata": {
            "tags": []
          }
        }
      ]
    },
    {
      "cell_type": "code",
      "metadata": {
        "id": "9vY_VdnH3Arv",
        "colab_type": "code",
        "outputId": "d963dc00-4ee7-439c-b866-5efe1114678a",
        "colab": {
          "base_uri": "https://localhost:8080/",
          "height": 340
        }
      },
      "source": [
        "# Compute and plot second dendrogram.\n",
        "ax2 = fig.add_axes([0.3,0.71,0.6,0.2])\n",
        "Y = sch.linkage(D, method='single')\n",
        "Z2 = sch.dendrogram(Y)\n",
        "ax2.set_xticks([])\n",
        "ax2.set_yticks([])"
      ],
      "execution_count": 0,
      "outputs": [
        {
          "output_type": "stream",
          "text": [
            "/usr/local/lib/python3.6/dist-packages/ipykernel_launcher.py:2: ClusterWarning: scipy.cluster: The symmetric non-negative hollow observation matrix looks suspiciously like an uncondensed distance matrix\n",
            "  \n"
          ],
          "name": "stderr"
        },
        {
          "output_type": "execute_result",
          "data": {
            "text/plain": [
              "[]"
            ]
          },
          "metadata": {
            "tags": []
          },
          "execution_count": 62
        },
        {
          "output_type": "display_data",
          "data": {
            "image/png": "[encoded data removed]",
            "text/plain": [
              "<Figure size 432x288 with 1 Axes>"
            ]
          },
          "metadata": {
            "tags": []
          }
        }
      ]
    },
    {
      "cell_type": "code",
      "metadata": {
        "id": "lnnuuuwR3Cjm",
        "colab_type": "code",
        "outputId": "7a394bb4-03c7-481d-d837-d5335f4ed452",
        "colab": {
          "base_uri": "https://localhost:8080/",
          "height": 88
        }
      },
      "source": [
        "# Plot distance matrix.\n",
        "axmatrix = fig.add_axes([0.3,0.1,0.6,0.6])\n",
        "idx1 = Z1['leaves']\n",
        "idx2 = Z2['leaves']\n",
        "D = D[idx1,:]\n",
        "D = D[:,idx2]\n",
        "im = axmatrix.matshow(D, aspect='auto', origin='lower', cmap=pylab.cm.YlGnBu)\n",
        "axmatrix.set_xticks([])\n",
        "axmatrix.set_yticks([])"
      ],
      "execution_count": 0,
      "outputs": [
        {
          "output_type": "stream",
          "text": [
            "/usr/local/lib/python3.6/dist-packages/ipykernel_launcher.py:1: MatplotlibDeprecationWarning: Adding an axes using the same arguments as a previous axes currently reuses the earlier instance.  In a future version, a new instance will always be created and returned.  Meanwhile, this warning can be suppressed, and the future behavior ensured, by passing a unique label to each axes instance.\n",
            "  \"\"\"Entry point for launching an IPython kernel.\n"
          ],
          "name": "stderr"
        },
        {
          "output_type": "execute_result",
          "data": {
            "text/plain": [
              "[]"
            ]
          },
          "metadata": {
            "tags": []
          },
          "execution_count": 64
        }
      ]
    },
    {
      "cell_type": "code",
      "metadata": {
        "id": "4VPkNg8F2sO-",
        "colab_type": "code",
        "outputId": "c001da4a-4b53-4b39-a8bd-e84c2a0c618b",
        "colab": {
          "base_uri": "https://localhost:8080/",
          "height": 642
        }
      },
      "source": [
        "# Plot colorbar.\n",
        "axcolor = fig.add_axes([0.91,0.1,0.02,0.6])\n",
        "pylab.colorbar(im, cax=axcolor)\n",
        "fig.show()\n",
        "fig.savefig('dendrogram.png')"
      ],
      "execution_count": 0,
      "outputs": [
        {
          "output_type": "stream",
          "text": [
            "/usr/local/lib/python3.6/dist-packages/ipykernel_launcher.py:6: DeprecationWarning: scipy.rand is deprecated and will be removed in SciPy 2.0.0, use numpy.random.rand instead\n",
            "  \n",
            "/usr/local/lib/python3.6/dist-packages/ipykernel_launcher.py:7: DeprecationWarning: scipy.zeros is deprecated and will be removed in SciPy 2.0.0, use numpy.zeros instead\n",
            "  import sys\n",
            "/usr/local/lib/python3.6/dist-packages/ipykernel_launcher.py:15: ClusterWarning: scipy.cluster: The symmetric non-negative hollow observation matrix looks suspiciously like an uncondensed distance matrix\n",
            "  from ipykernel import kernelapp as app\n",
            "/usr/local/lib/python3.6/dist-packages/ipykernel_launcher.py:22: ClusterWarning: scipy.cluster: The symmetric non-negative hollow observation matrix looks suspiciously like an uncondensed distance matrix\n"
          ],
          "name": "stderr"
        },
        {
          "output_type": "display_data",
          "data": {
            "image/png": "[encoded data removed]",
            "text/plain": [
              "<Figure size 576x576 with 4 Axes>"
            ]
          },
          "metadata": {
            "tags": []
          }
        }
      ]
    }
  ]
}